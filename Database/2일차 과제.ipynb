{
 "cells": [
  {
   "cell_type": "markdown",
   "metadata": {},
   "source": [
    "[문제1]\n",
    "\n",
    "데이터 제어 언어(DCL)인 GRANT에 대한 설명으로 옳은 것을 골라주세요\n",
    "\n",
    "- 사용자에게 특정 작업을 수행할 권한을 부여한다.\n",
    "- 사용자로부터 특정 작업 수행 권항을 제거한다.\n",
    "- 다른 사용자에게 동일한 권한을 전달할때 사용한다.\n",
    "- 부여된 권한 중 일부를 제한할때 사용한다."
   ]
  },
  {
   "cell_type": "markdown",
   "metadata": {},
   "source": [
    "정답 : 권한부여"
   ]
  },
  {
   "cell_type": "markdown",
   "metadata": {},
   "source": [
    "[문제2]\n",
    "\n",
    "테이블을 생성하기 위해서 사용되는 sql문을 선택해주세요\n",
    "\n",
    "- CREATE TABLE\n",
    "- CREATE NEW TABLE\n",
    "- ADD TABLE\n",
    "- UPDATE TABLE"
   ]
  },
  {
   "cell_type": "markdown",
   "metadata": {},
   "source": [
    "정답 : CREATE TABLE"
   ]
  },
  {
   "cell_type": "markdown",
   "metadata": {},
   "source": [
    "[문제3]\n",
    "\n",
    "데이터베이스의 숫자형 데이터 타입이 아닌것을 선택해주세요\n",
    "\n",
    "- BIT\n",
    "- INT\n",
    "- CHAR\n",
    "- BIGINT"
   ]
  },
  {
   "cell_type": "markdown",
   "metadata": {},
   "source": [
    "정답 : CHAR"
   ]
  },
  {
   "cell_type": "markdown",
   "metadata": {},
   "source": [
    "[문제4]\n",
    "\n",
    "날짜와 시간을 같이 나타내는 데이터 타입을 선택해주세요\n",
    "\n",
    "- DATE\n",
    "- TIME\n",
    "- DATETIME"
   ]
  },
  {
   "cell_type": "markdown",
   "metadata": {},
   "source": [
    "정답 : DATETIME"
   ]
  },
  {
   "cell_type": "markdown",
   "metadata": {},
   "source": [
    "[문제5]\n",
    "\n",
    "데이터베이스 내의 트랜잭션을 관리하는데 사용되는 언어를 선택해주세요\n",
    "\n",
    "- DCL\n",
    "- DML\n",
    "- TCL\n",
    "- DDL"
   ]
  },
  {
   "cell_type": "markdown",
   "metadata": {},
   "source": [
    "정답 : TCL"
   ]
  },
  {
   "cell_type": "markdown",
   "metadata": {},
   "source": [
    "[문제6]\n",
    "\n",
    "SQL 언어에 해당하지 않는 것을 골라주세요\n",
    "\n",
    "- 데이터 처리 언어(DML)\n",
    "- 데이터 제어 언어(DCL)\n",
    "- 데이터 연결 언어(DCL)\n",
    "- 데이터 정의 언어(DDL)"
   ]
  },
  {
   "cell_type": "markdown",
   "metadata": {},
   "source": [
    "정답 : 데이터 연결 언어"
   ]
  },
  {
   "cell_type": "markdown",
   "metadata": {},
   "source": [
    "[문제7]\n",
    "\n",
    "데이터 처리 언어(DML)의 설명으로 틀린것을 골라주세요\n",
    "\n",
    "- select : 데이터베이스에서 정보를 검색\n",
    "- insert : 새로운 데이터를 테이블에 삽입\n",
    "- count : 테이블의 데이터 개수 확인\n",
    "- delete : 테이블에서 데이터를 삭제"
   ]
  },
  {
   "cell_type": "markdown",
   "metadata": {},
   "source": [
    "정답 : count"
   ]
  },
  {
   "cell_type": "markdown",
   "metadata": {},
   "source": [
    "[문제8]\n",
    "\n",
    "데이터 제어 언어(DCL)인 GRANT에 대한 설명으로 옳은 것을 골라주세요\n",
    "\n",
    "- 사용자에게 특정 작업을 수행할 권한을 부여한다.\n",
    "- 사용자로부터 특정 작업 수행 권항을 제거한다.\n",
    "- 다른 사용자에게 동일한 권한을 전달할때 사용한다.\n",
    "- 부여된 권한 중 일부를 제한할때 사용한다."
   ]
  },
  {
   "cell_type": "markdown",
   "metadata": {},
   "source": [
    "정답 : 권한부여"
   ]
  }
 ],
 "metadata": {
  "language_info": {
   "name": "python"
  }
 },
 "nbformat": 4,
 "nbformat_minor": 2
}
