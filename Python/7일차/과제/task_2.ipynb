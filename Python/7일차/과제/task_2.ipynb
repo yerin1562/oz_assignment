{
 "cells": [
  {
   "cell_type": "markdown",
   "metadata": {},
   "source": [
    "파일을 읽어서 내용을 출력하는 프로그램을 작성하세요. \n",
    "\n",
    "- 파일이 존재하지 않을 때 발생하는 FileNotFoundError를 처리\n",
    "- 파일이 존재하지 않을 경우 \"파일을 찾을 수 없습니다.\"라는 메시지를 출력"
   ]
  },
  {
   "metadata": {
    "ExecuteTime": {
     "end_time": "2024-10-22T04:53:26.780904Z",
     "start_time": "2024-10-22T04:53:26.776403Z"
    }
   },
   "cell_type": "code",
   "source": [
    "try:\n",
    "    with open(\"myfile.txt\", \"r\") as file:\n",
    "        content = file.read()  # 파일 내용 전체 읽기\n",
    "        print(content)\n",
    "    \n",
    "except FileNotFoundError as exception:\n",
    "    print(\"파일을 찾을 수 없습니다.\")\n",
    "    print(\"exception:\", exception)\n",
    "\n",
    "\n"
   ],
   "outputs": [
    {
     "name": "stdout",
     "output_type": "stream",
     "text": [
      "안녕하세요 수강생 여러분!! \n",
      "이 파일을 읽어주시면 됩니다. \n"
     ]
    }
   ],
   "execution_count": 2
  }
 ],
 "metadata": {
  "language_info": {
   "name": "python"
  },
  "kernelspec": {
   "name": "python3",
   "language": "python",
   "display_name": "Python 3 (ipykernel)"
  }
 },
 "nbformat": 4,
 "nbformat_minor": 2
}
