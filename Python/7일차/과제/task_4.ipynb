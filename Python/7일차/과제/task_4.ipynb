{
 "cells": [
  {
   "cell_type": "markdown",
   "metadata": {},
   "source": [
    "사용자 정의 예외 NegativeNumberError를 생성하고, 사용자로부터 숫자를 입력받아 음수일 경우 NegativeNumberError를 발생시키는 프로그램을 작성하세요. \n",
    "\n",
    "- 예외 처리 구문을 사용하여 음수 입력 시 \"양수를 입력해주세요.\"라는 메시지를 출력"
   ]
  },
  {
   "metadata": {
    "ExecuteTime": {
     "end_time": "2024-10-22T05:39:13.042192Z",
     "start_time": "2024-10-22T05:38:46.270854Z"
    }
   },
   "cell_type": "code",
   "source": [
    "class NegativeNumberError(Exception):\n",
    "    pass  # 사용자 정의 예외 클래스 (내용은 생략 가능)\n",
    "\n",
    "\n",
    "num_list = []\n",
    "\n",
    "try:\n",
    "    while True:\n",
    "        num_input = input(\"숫자를 입력해주세요. 종료를 원하시면 'done' 을 입력해주세요. \")\n",
    "        \n",
    "        if num_input == 'done':\n",
    "            break\n",
    "            \n",
    "        try:\n",
    "            num_input = int(num_input)\n",
    "            \n",
    "            if num_input < 0:\n",
    "            # 음수일 경우 사용자 정의 예외 발생\n",
    "                raise NegativeNumberError\n",
    "            \n",
    "            num_list.append(num_input)\n",
    "            num_list.sort()\n",
    "            \n",
    "            \n",
    "            \n",
    "            print(num_list)\n",
    "            \n",
    "        except ValueError:\n",
    "            print( f\"잘못된 값: {num_input} 빈 칸 없이 숫자만 입력해주세요.\")\n",
    "            \n",
    "        except NegativeNumberError:\n",
    "            print(f\"잘못된 값: {num_input} 양의 정수를 입력해주세요.\")\n",
    "        \n",
    "finally: \n",
    "    print(\"입력이 종료되었습니다\")\n",
    "    \n",
    "    \n",
    "\n"
   ],
   "outputs": [
    {
     "name": "stdout",
     "output_type": "stream",
     "text": [
      "[123]\n",
      "[2, 123]\n",
      "[2, 34, 123]\n",
      "[2, 34, 123, 23424]\n",
      "[2, 34, 123, 456, 23424]\n",
      "잘못된 값: -34589 양의 정수를 입력해주세요.\n",
      "잘못된 값: -2472 양의 정수를 입력해주세요.\n",
      "[2, 34, 123, 434, 456, 23424]\n",
      "잘못된 값: yerin 빈 칸 없이 숫자만 입력해주세요.\n",
      "[2, 34, 45, 123, 434, 456, 23424]\n",
      "입력이 종료되었습니다\n"
     ]
    }
   ],
   "execution_count": 1
  }
 ],
 "metadata": {
  "language_info": {
   "name": "python"
  },
  "kernelspec": {
   "name": "python3",
   "language": "python",
   "display_name": "Python 3 (ipykernel)"
  }
 },
 "nbformat": 4,
 "nbformat_minor": 2
}
