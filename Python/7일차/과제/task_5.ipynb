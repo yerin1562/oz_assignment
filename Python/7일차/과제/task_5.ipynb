{
 "cells": [
  {
   "cell_type": "markdown",
   "metadata": {},
   "source": [
    "datetime 모듈을 사용하여 현재 날짜와 시간을 출력하는 프로그램을 작성하세요. \n",
    "\n",
    "또한, 사용자로부터 태어난 년도를 입력받아 현재 나이를 계산하여 출력하세요."
   ]
  },
  {
   "metadata": {
    "ExecuteTime": {
     "end_time": "2024-10-22T06:27:15.500827Z",
     "start_time": "2024-10-22T06:27:09.624901Z"
    }
   },
   "cell_type": "code",
   "source": [
    "import datetime\n",
    "\n",
    "# 현재 날짜와 시간 출력\n",
    "now = datetime.datetime.now()\n",
    "output = now.strftime(\"%Y.%m.%d %H:%M:%S\")\n",
    "print(output)\n",
    "\n",
    "# 태어난 년도 입력 받기\n",
    "try:\n",
    "    birth_year = int(input(\"태어난 년도를 입력해주세요: \"))  # 입력받은 년도를 정수로 변환\n",
    "    current_year = now.year  # 현재 년도 가져오기\n",
    "    age = current_year - birth_year  # 나이 계산\n",
    "\n",
    "    # 나이가 음수일 경우 처리\n",
    "    if age < 0:\n",
    "        print(\"입력하신 년도가 현재보다 큽니다. 올바른 년도를 입력해주세요.\")\n",
    "    else:\n",
    "        print(f\"현재 나이는 {age}세입니다.\")  # 현재 나이 출력\n",
    "\n",
    "except ValueError:\n",
    "    print(\"유효한 숫자를 입력해주세요.\")  # 잘못된 입력 처리\n",
    "\n"
   ],
   "outputs": [
    {
     "name": "stdout",
     "output_type": "stream",
     "text": [
      "2024.10.22 15:27:09\n",
      "현재 나이는 24세입니다.\n"
     ]
    }
   ],
   "execution_count": 4
  }
 ],
 "metadata": {
  "language_info": {
   "name": "python"
  },
  "kernelspec": {
   "name": "python3",
   "language": "python",
   "display_name": "Python 3 (ipykernel)"
  }
 },
 "nbformat": 4,
 "nbformat_minor": 2
}
