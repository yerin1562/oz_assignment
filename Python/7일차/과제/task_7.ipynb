{
 "cells": [
  {
   "cell_type": "markdown",
   "metadata": {},
   "source": [
    "함수 실행 시간을 측정하는 데코레이터 timer_decorator를 작성하세요. \n",
    "\n",
    "임의의 함수가 실행되는 시간을 측정하여 \"함수 실행 시간: x.xx초\" 형태로 출력하세요."
   ]
  },
  {
   "metadata": {
    "ExecuteTime": {
     "end_time": "2024-10-22T07:25:15.744464Z",
     "start_time": "2024-10-22T07:25:14.735020Z"
    }
   },
   "cell_type": "code",
   "source": [
    "# time 모듈: 대기/지연 일시적으로 중단할 수 있는 기능, 시간관련 기능 \n",
    "import time\n",
    "# functools 함수 관련 기능 모듈/ wraps 데코레이터 함수\n",
    "from functools import wraps\n",
    "\n",
    "def timer_decorator(func):\n",
    "    @wraps(func)  # 원래의 함수 이름과 docstring을 유지\n",
    "    def wrapper(*args, **kwargs):\n",
    "        start_time = time.time()  # 시작 시간 기록\n",
    "        result = func(*args, **kwargs)  # 원래 함수 실행\n",
    "        end_time = time.time()  # 종료 시간 기록\n",
    "        execution_time = end_time - start_time  # 실행 시간 계산\n",
    "        print(f\"함수 실행 시간: {execution_time:.2f}초\")  # 실행 시간 출력\n",
    "        return result  # 원래 함수의 반환값 반환\n",
    "    return wrapper\n",
    "\n",
    "# 데코레이터를 사용한 예제 함수\n",
    "@timer_decorator\n",
    "def sample_function():\n",
    "    time.sleep(1)  # 임의 설정\n",
    "\n",
    "# 함수 호출\n",
    "sample_function()\n"
   ],
   "outputs": [
    {
     "name": "stdout",
     "output_type": "stream",
     "text": [
      "함수 실행 시간: 1.00초\n"
     ]
    }
   ],
   "execution_count": 2
  }
 ],
 "metadata": {
  "language_info": {
   "name": "python"
  },
  "kernelspec": {
   "name": "python3",
   "language": "python",
   "display_name": "Python 3 (ipykernel)"
  }
 },
 "nbformat": 4,
 "nbformat_minor": 2
}
