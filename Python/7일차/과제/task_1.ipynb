{
 "cells": [
  {
   "cell_type": "markdown",
   "metadata": {},
   "source": [
    "사용자로부터 두 개의 숫자를 입력받아 나눗셈을 수행하는 프로그램을 작성하세요. \n",
    "\n",
    "[예외처리]\n",
    "- 입력 값이 숫자가 아닐 때 발생할 수 있는 ValueError\n",
    "- 나누는 수가 0일 때 발생할 수 있는 ZeroDivisionError\n",
    "- 위 2가지 예외처리 후 사용자에게 이해하기 쉬운 메시지 작성 후 출력되도록 코드를 작성"
   ]
  },
  {
   "metadata": {
    "ExecuteTime": {
     "end_time": "2024-10-22T04:41:45.661632Z",
     "start_time": "2024-10-22T04:41:39.840357Z"
    }
   },
   "cell_type": "code",
   "source": [
    "\n",
    "try:\n",
    "    x, y = map(int, input(\"나눌 두 숫자를 입력해주세요. : \").split(\" \"))\n",
    "    cal = x/y \n",
    "    print(cal)\n",
    "except ValueError as exception:\n",
    "    print(\"정수로 입력해주세요\")\n",
    "    print(\"exception:\", exception)\n",
    "except ZeroDivisionError as exception:\n",
    "    print(\"0으로는 나눌 수 없습니다.\")\n",
    "    print(\"exception:\", exception)\n",
    "finally:\n",
    "    print(\"입력이 종료되었습니다.\")"
   ],
   "outputs": [
    {
     "name": "stdout",
     "output_type": "stream",
     "text": [
      "0.5\n",
      "입력이 종료되었습니다.\n"
     ]
    }
   ],
   "execution_count": 1
  }
 ],
 "metadata": {
  "language_info": {
   "name": "python"
  },
  "kernelspec": {
   "name": "python3",
   "language": "python",
   "display_name": "Python 3 (ipykernel)"
  }
 },
 "nbformat": 4,
 "nbformat_minor": 2
}
