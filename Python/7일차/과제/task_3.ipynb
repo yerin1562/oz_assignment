{
 "cells": [
  {
   "cell_type": "markdown",
   "metadata": {},
   "source": [
    "사용자로부터 여러 개의 숫자를 입력받아 리스트에 저장한 후, 사용자가 'done'이라고 입력할 때까지 계속 입력받으세요. \n",
    "\n",
    "- 입력 중 숫자가 아닌 값이 입력되면 ValueError를 처리\n",
    "- 숫자 외 값이 입력된 경우 어떤 값이 잘못 입력되었는지 사용자에게 알려주는 문구 출력<br>\n",
    "  (예: f\"잘못된 값: {변수}. 숫자를 입력해주세요.\")\n",
    "\n"
   ]
  },
  {
   "metadata": {
    "ExecuteTime": {
     "end_time": "2024-10-22T05:16:47.635447Z",
     "start_time": "2024-10-22T05:15:50.159958Z"
    }
   },
   "cell_type": "code",
   "source": [
    "num_list = []\n",
    "\n",
    "try:\n",
    "    while True:\n",
    "        num_input = input(\"숫자를 입력해주세요. 종료를 원하시면 'done' 을 입력해주세요. \")\n",
    "        \n",
    "        if num_input == 'done':\n",
    "            break\n",
    "            \n",
    "        try:\n",
    "            num_input = int(num_input)\n",
    "            num_list.append(num_input)\n",
    "            num_list.sort()\n",
    "            \n",
    "            print(num_list)\n",
    "            \n",
    "        except ValueError:\n",
    "            print( f\"잘못된 값: {num_input} 빈 칸 없이 숫자만 입력해주세요.\")\n",
    "        \n",
    "finally: \n",
    "    print(\"입력이 종료되었습니다\")\n",
    "\n"
   ],
   "outputs": [
    {
     "name": "stdout",
     "output_type": "stream",
     "text": [
      "[123]\n",
      "[123, 123]\n",
      "[123, 123, 1243445]\n",
      "[123, 123, 6546, 1243445]\n",
      "[123, 123, 342, 6546, 1243445]\n",
      "[3, 123, 123, 342, 6546, 1243445]\n",
      "[3, 123, 123, 342, 6546, 534456, 1243445]\n",
      "[3, 6, 123, 123, 342, 6546, 534456, 1243445]\n",
      "[3, 6, 34, 123, 123, 342, 6546, 534456, 1243445]\n",
      "[3, 6, 34, 87, 123, 123, 342, 6546, 534456, 1243445]\n",
      "잘못된 값: yerin 빈 칸 없이 숫자만 입력해주세요.\n",
      "잘못된 값: 34 3 빈 칸 없이 숫자만 입력해주세요.\n",
      "입력이 종료되었습니다\n"
     ]
    }
   ],
   "execution_count": 5
  }
 ],
 "metadata": {
  "language_info": {
   "name": "python"
  },
  "kernelspec": {
   "name": "python3",
   "language": "python",
   "display_name": "Python 3 (ipykernel)"
  }
 },
 "nbformat": 4,
 "nbformat_minor": 2
}
