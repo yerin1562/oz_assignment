{
 "cells": [
  {
   "cell_type": "markdown",
   "metadata": {},
   "source": [
    "animals라는 패키지를 만들고, 이 패키지 내에 mammals, birds라는 두 개의 서브 모듈을 생성하세요. \n",
    "\n",
    "- 각 모듈에는 최소한 한 개 이상의 동물에 관한 클래스를 정의하세요<br>\n",
    "  (예: mammals에는 Dog, birds에는 Eagle)\n",
    "- 이 패키지와 모듈을 사용하여 동물들의 정보를 출력하는 프로그램을 작성\n",
    "\n",
    "폴더 및 파일 구조\n",
    "```\n",
    "animals/(폴더)\n",
    "├── __init__.py\n",
    "├── mammals.py\n",
    "└── birds.py\n",
    "```\n"
   ]
  },
  {
   "cell_type": "markdown",
   "metadata": {},
   "source": []
  },
  {
   "metadata": {
    "ExecuteTime": {
     "end_time": "2024-10-22T14:35:49.338482Z",
     "start_time": "2024-10-22T14:35:49.321221Z"
    }
   },
   "cell_type": "code",
   "source": [
    "# main.py\n",
    "from animals.mammals import Dog\n",
    "from animals.birds import Eagle\n",
    "\n",
    "def main():\n",
    "    dog = Dog(\"Buddy\", \"Golden Retriever\")\n",
    "    eagle = Eagle(\"Freedom\", 2.3)\n",
    "\n",
    "    print(dog)\n",
    "    print(dog.speak())\n",
    "    print(eagle)\n",
    "    print(eagle.fly())\n",
    "\n",
    "if __name__ == \"__main__\":\n",
    "    main()\n"
   ],
   "outputs": [
    {
     "ename": "ImportError",
     "evalue": "cannot import name 'Dog' from 'animals.mammals' (/Users/mac/Desktop/oz_assignment/Python/7일차/과제/animals/mammals.py)",
     "output_type": "error",
     "traceback": [
      "\u001B[0;31m---------------------------------------------------------------------------\u001B[0m",
      "\u001B[0;31mImportError\u001B[0m                               Traceback (most recent call last)",
      "Cell \u001B[0;32mIn[5], line 2\u001B[0m\n\u001B[1;32m      1\u001B[0m \u001B[38;5;66;03m# main.py\u001B[39;00m\n\u001B[0;32m----> 2\u001B[0m \u001B[38;5;28;01mfrom\u001B[39;00m \u001B[38;5;21;01manimals\u001B[39;00m\u001B[38;5;21;01m.\u001B[39;00m\u001B[38;5;21;01mmammals\u001B[39;00m \u001B[38;5;28;01mimport\u001B[39;00m Dog\n\u001B[1;32m      3\u001B[0m \u001B[38;5;28;01mfrom\u001B[39;00m \u001B[38;5;21;01manimals\u001B[39;00m\u001B[38;5;21;01m.\u001B[39;00m\u001B[38;5;21;01mbirds\u001B[39;00m \u001B[38;5;28;01mimport\u001B[39;00m Eagle\n\u001B[1;32m      5\u001B[0m \u001B[38;5;28;01mdef\u001B[39;00m \u001B[38;5;21mmain\u001B[39m():\n",
      "\u001B[0;31mImportError\u001B[0m: cannot import name 'Dog' from 'animals.mammals' (/Users/mac/Desktop/oz_assignment/Python/7일차/과제/animals/mammals.py)"
     ]
    }
   ],
   "execution_count": 5
  }
 ],
 "metadata": {
  "language_info": {
   "name": "python"
  },
  "kernelspec": {
   "name": "python3",
   "language": "python",
   "display_name": "Python 3 (ipykernel)"
  }
 },
 "nbformat": 4,
 "nbformat_minor": 2
}
