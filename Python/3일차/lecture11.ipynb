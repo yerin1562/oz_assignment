{
 "cells": [
  {
   "cell_type": "code",
   "execution_count": null,
   "id": "initial_id",
   "metadata": {
    "collapsed": true
   },
   "outputs": [],
   "source": [
    ""
   ]
  },
  {
   "metadata": {},
   "cell_type": "markdown",
   "source": [
    "## 시퀀스 자료형 \n",
    "\n",
    "    *문자열 ; \n",
    "        * 시퀀스 형에서 사용할 수 있는 메소드(count(), index(), split() 등... )\n",
    "        * 슬라이싱 ([:] [::] )\n",
    "        * 요소들로 이루어져 가능했던 기능들 (요소 합치기, 요소 찾기 등등)\n",
    "    \n",
    "* list : \n",
    "    * 시퀀스 형에서 사용할 수 있는 메소드(count(), index(), split() 등... )\n",
    "    * 슬라이싱 ([:] [::] )\n",
    "    * 요소들로 이루어져 가능했던 기능들 (요소 합치기, 요소 찾기 등등)\n",
    "    * list 지원하는 다양한 메소드 (append(), insert(), del, sort(), reverse())\n",
    "\n",
    "* tuple : \n",
    "    * 리스트처럼 요소를 일렬로 저장하지만 안에 저장된 요소를 변경, 추가, 삭제할 수 없다. \n",
    "    * 값을 추가, 삭제, 변경할 수 없기 때문에 사용하지 못하는 메소드가 많다. \n",
    "    * tuple의 생성 방법은 tuple = 값, 값 또는 tuple = (값, 값)\n",
    "    * 그리고 엄청난 비밀\n",
    "    * 튜플은 소괄호\n",
    "    "
   ],
   "id": "666da91cdde94ebc"
  },
  {
   "metadata": {
    "ExecuteTime": {
     "end_time": "2024-10-16T06:05:54.397688Z",
     "start_time": "2024-10-16T06:05:54.392279Z"
    }
   },
   "cell_type": "code",
   "source": [
    "# 리스트는 대괄호 [] 튜플은 소괄호 ()\n",
    "\n",
    "튜플 = (1, '이', 3.0)\n",
    "print(type(튜플))\n",
    "print(튜플)\n",
    "\n",
    "\n",
    "# 리스트 = [1, \"이\", 3.0]\n",
    "# print(type(리스트))\n",
    "# print(리스트)\n",
    "\n",
    "#패킹 언패킹\n",
    "\n",
    "튜플2 = 1, \"이\", 3.0\n",
    "print(type(튜플2))\n",
    "print(튜플2)\n",
    "\n",
    "#하나의 값만 들어있는 튜플만 만들고 싶다면?\n",
    "튜플_솔로 = (1, )\n",
    "print (type(튜플_솔로))\n",
    "print (튜플_솔로)\n",
    "\n",
    "# int 로 표시#\n",
    "튜플_나는솔로 = (1)\n",
    "print(type(튜플_나는솔로))\n",
    "print (튜플_나는솔로)\n",
    "\n",
    "\n"
   ],
   "id": "5499971c00649add",
   "outputs": [
    {
     "name": "stdout",
     "output_type": "stream",
     "text": [
      "<class 'tuple'>\n",
      "(1, '이', 3.0)\n",
      "<class 'tuple'>\n",
      "(1, '이', 3.0)\n",
      "<class 'tuple'>\n",
      "(1,)\n",
      "<class 'int'>\n",
      "1\n"
     ]
    }
   ],
   "execution_count": 11
  },
  {
   "metadata": {
    "ExecuteTime": {
     "end_time": "2024-10-16T06:08:31.971163Z",
     "start_time": "2024-10-16T06:08:31.966680Z"
    }
   },
   "cell_type": "code",
   "source": [
    "# 값 추가 변경 삭제 불가\n",
    "\n",
    "print(튜플)\n",
    "print(dir(튜플))\n",
    "\n",
    "print(dir(list))\n",
    "\n",
    "\n",
    "튜플_리스트화 = list(튜플)\n",
    "print(type(튜플_리스트화))"
   ],
   "id": "cbdaa756be0705ef",
   "outputs": [
    {
     "name": "stdout",
     "output_type": "stream",
     "text": [
      "(1, '이', 3.0)\n",
      "['__add__', '__class__', '__class_getitem__', '__contains__', '__delattr__', '__dir__', '__doc__', '__eq__', '__format__', '__ge__', '__getattribute__', '__getitem__', '__getnewargs__', '__gt__', '__hash__', '__init__', '__init_subclass__', '__iter__', '__le__', '__len__', '__lt__', '__mul__', '__ne__', '__new__', '__reduce__', '__reduce_ex__', '__repr__', '__rmul__', '__setattr__', '__sizeof__', '__str__', '__subclasshook__', 'count', 'index']\n",
      "['__add__', '__class__', '__class_getitem__', '__contains__', '__delattr__', '__delitem__', '__dir__', '__doc__', '__eq__', '__format__', '__ge__', '__getattribute__', '__getitem__', '__gt__', '__hash__', '__iadd__', '__imul__', '__init__', '__init_subclass__', '__iter__', '__le__', '__len__', '__lt__', '__mul__', '__ne__', '__new__', '__reduce__', '__reduce_ex__', '__repr__', '__reversed__', '__rmul__', '__setattr__', '__setitem__', '__sizeof__', '__str__', '__subclasshook__', 'append', 'clear', 'copy', 'count', 'extend', 'index', 'insert', 'pop', 'remove', 'reverse', 'sort']\n",
      "<class 'list'>\n"
     ]
    }
   ],
   "execution_count": 14
  },
  {
   "metadata": {
    "ExecuteTime": {
     "end_time": "2024-10-16T06:11:22.669653Z",
     "start_time": "2024-10-16T06:11:22.666200Z"
    }
   },
   "cell_type": "code",
   "source": [
    "# 튜플 .append(\"두리안\")\n",
    "\n",
    "# del 튜플[1]\n",
    "\n",
    "# 튜플[1] = \" 너만 믿어\"\n",
    "\n",
    "# 이게 많이 누르면 중첩이 되네???\n",
    "튜플_리스트화. append(\"lemon\")\n",
    "print(튜플_리스트화)"
   ],
   "id": "5be637ce6e364ccc",
   "outputs": [
    {
     "name": "stdout",
     "output_type": "stream",
     "text": [
      "[1, '이', 3.0, 'lemon', 'lemon', 'lemon', 'lemon', 'lemon', 'lemon', 'lemon']\n"
     ]
    }
   ],
   "execution_count": 28
  },
  {
   "metadata": {
    "ExecuteTime": {
     "end_time": "2024-10-16T06:24:49.036482Z",
     "start_time": "2024-10-16T06:24:49.031641Z"
    }
   },
   "cell_type": "code",
   "source": [
    "수강생 = \"중꺾마\"\n",
    "\n",
    "수강생_list = list(수강생)\n",
    "수강생_tuple = tuple(수강생)\n",
    "\n",
    "print(수강생_list)\n",
    "print(수강생_tuple)\n",
    "\n",
    "수강생_list[1] = \"뿌\"\n",
    "print(수강생_list)\n",
    "\n",
    "# join 함수 공부 알고 있으면 코테(코딩테스트)애 좋아요\n",
    "취뽀_수강생 = \"\". join(수강생_list)\n",
    "print(취뽀_수강생)"
   ],
   "id": "79d16800c285183",
   "outputs": [
    {
     "name": "stdout",
     "output_type": "stream",
     "text": [
      "['중', '꺾', '마']\n",
      "('중', '꺾', '마')\n",
      "['중', '뿌', '마']\n",
      "중뿌마\n"
     ]
    }
   ],
   "execution_count": 32
  },
  {
   "metadata": {
    "ExecuteTime": {
     "end_time": "2024-10-16T06:33:41.631565Z",
     "start_time": "2024-10-16T06:33:41.623905Z"
    }
   },
   "cell_type": "code",
   "source": [
    "# list 와 tuple 의 공통점\\\n",
    "print(튜플)\n",
    "\n",
    "#길이를 구할 수 있어요 \n",
    "print(len(튜플))\n",
    "\n",
    "# 곱하기 연산으로 요소를 복사할 수 있어요 \n",
    "print(튜플 * 3)\n",
    "\n",
    "# 튜플은 요소들끼리 더할 수 있다\n",
    "print(튜플 + 튜플)\n",
    "\n",
    "# 튜플은 인덱싱이 가능하다\n",
    "print(튜플[2])\n",
    "\n",
    "# 튜플의 인덱스 (위치를 알려줘 3.0이 2 에 있어서 2가 나오는거지)\n",
    "print(튜플.index(3.0))\n",
    "\n",
    "# 튜플 요소의 갯수\n",
    "튜플.count(1)\n",
    "\n",
    "# 슬라이싱 가능\n",
    "튜플[1:3]\n",
    "\n"
   ],
   "id": "c6b03db99d7057e5",
   "outputs": [
    {
     "name": "stdout",
     "output_type": "stream",
     "text": [
      "(1, '이', 3.0)\n",
      "3\n",
      "(1, '이', 3.0, 1, '이', 3.0, 1, '이', 3.0)\n",
      "(1, '이', 3.0, 1, '이', 3.0)\n",
      "3.0\n",
      "2\n"
     ]
    },
    {
     "data": {
      "text/plain": [
       "('이', 3.0)"
      ]
     },
     "execution_count": 42,
     "metadata": {},
     "output_type": "execute_result"
    }
   ],
   "execution_count": 42
  },
  {
   "metadata": {},
   "cell_type": "markdown",
   "source": [
    "# tuple 왜 쓸까요?\n",
    "\n",
    "1. 3go 가 불가능하기 때문 (넣고 삭제하고 바꾸고)\n",
    "    여러명이 코딩을 하는 경우 변경되면 안되는 변수를 건드리는 경우를 예방하기 위해  \n",
    "    또는 값이 변경되면 안되는 중요한 데이터를 넣어서 보안적으로 관리하기 좋다  \n",
    "   (은행계좌, 비밀번호 등등 ...)  \n",
    "2. list는 tuple보다 무겁다\n",
    "\n",
    "    단지 기능이 많아서 무거운 걸 까요?  \n",
    "    파이썬은 c 언어로 만들어졌습니다.  c 언어는 기초가 되는 언어다 언어의 언어\n",
    "   \n",
    "    파이썬은 동적배열을 지원합니다. \n",
    "   - list = [1, 2, 3, 4] 생성해서 4개에 값을 모두 넣었다\n",
    "   - 다음 값을 추가할 때 이미 공간이 다 찼기 때문에 추가 할당을 진행함\n",
    "   - 추가 할당시 메모리 크기는 4, 8, 16 ... 더블링을 해줌\n",
    "      - 메모리가 커질 수록 속도도 느려짐 \n",
    "\n",
    "3. 리스트는 가변, 튜플은 불변이다.\n",
    "    - 값이 고정되어야 하거나 크기가 작을 경우 튜플을 권장한다"
   ],
   "id": "1158b4d42cd43542"
  },
  {
   "metadata": {},
   "cell_type": "markdown",
   "source": [
    "* 가변객체와 불변객체 공부\n",
    "* 파이썬 리스트의 동적배열\n",
    "* 이왕 이렇게 된거 자료구조 책 하나 사 (파이썬/ 자바 클린코드)\n"
   ],
   "id": "e7b2a5bc7048ef97"
  }
 ],
 "metadata": {
  "kernelspec": {
   "display_name": "Python 3",
   "language": "python",
   "name": "python3"
  },
  "language_info": {
   "codemirror_mode": {
    "name": "ipython",
    "version": 2
   },
   "file_extension": ".py",
   "mimetype": "text/x-python",
   "name": "python",
   "nbconvert_exporter": "python",
   "pygments_lexer": "ipython2",
   "version": "2.7.6"
  }
 },
 "nbformat": 4,
 "nbformat_minor": 5
}
