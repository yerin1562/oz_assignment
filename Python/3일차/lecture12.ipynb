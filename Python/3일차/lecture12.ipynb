{
 "cells": [
  {
   "metadata": {},
   "cell_type": "markdown",
   "source": [
    "## 시퀀스 자료형 \n",
    "\n",
    "    *문자열 ; \n",
    "        * 시퀀스 형에서 사용할 수 있는 메소드(count(), index(), split() 등... )\n",
    "        * 슬라이싱 ([:] [::] )\n",
    "        * 요소들로 이루어져 가능했던 기능들 (요소 합치기, 요소 찾기 등등)\n",
    "    \n",
    "* list : \n",
    "    * 시퀀스 형에서 사용할 수 있는 메소드(count(), index(), split() 등... )\n",
    "    * 슬라이싱 ([:] [::] )\n",
    "    * 요소들로 이루어져 가능했던 기능들 (요소 합치기, 요소 찾기 등등)\n",
    "    * list 지원하는 다양한 메소드 (append(), insert(), del, sort(), reverse())\n",
    "\n",
    "* tuple : \n",
    "    * 리스트처럼 요소를 일렬로 저장하지만 안에 저장된 요소를 변경, 추가, 삭제할 수 없다. \n",
    "    * 값을 추가, 삭제, 변경할 수 없기 때문에 사용하지 못하는 메소드가 많다. \n",
    "    * tuple의 생성 방법은 tuple = 값, 값 또는 tuple = (값, 값)\n",
    "    * 그리고 엄청난 비밀\n",
    "    * 튜플은 소괄호\n",
    "\n",
    "* dict(딕셔너리)\n",
    "    * list, tuple, str, range (범위안에 연속된 데이터를 만드는 시퀀스)\n",
    "        * 공통적 특징: 데이터의 연관성 X\n",
    "    * dict는 여러개의 값이 일렬로 정렬 되면서도 값끼리의 연관성이 존재!!\n",
    "        * ex) 게임 캐릭터 힘, 지능, 체력, 민첩\n",
    "    * 생성 방법은 중괄호 {}"
   ],
   "id": "4dd3ed5e155fbd46"
  },
  {
   "metadata": {
    "ExecuteTime": {
     "end_time": "2024-10-16T07:06:18.967669Z",
     "start_time": "2024-10-16T07:06:18.962865Z"
    }
   },
   "cell_type": "code",
   "source": [
    " # list[], tuple(), dict{}\n",
    " \n",
    " 짱짱맨 = {\"힘\":30, \"지능\":20, \"체력\":40, \"민첩\":90}\n",
    " 짱짱맨\n",
    " \n",
    " #{키 : 값}\n",
    " #{key1: value1 }\n",
    " \n",
    " # 시퀀스 데이터는 인덱스를 이용해 데이터를 찾았지만 dict 는 키워드로 찾음\n",
    " 짱짱맨[\"힘\"]\n",
    " # 따옴표가 겹쳐서 사용될때는 각자 구분해서 큰거 작은거로 다르게 사용해야한다.\n",
    " print(f'짱짱맨님은 힘이 {짱짱맨[\"힘\"]} 입니다.')"
   ],
   "id": "ce52fb6ca2ae43b7",
   "outputs": [
    {
     "name": "stdout",
     "output_type": "stream",
     "text": [
      "짱짱맨님은 힘이 30 입니다.\n"
     ]
    }
   ],
   "execution_count": 16
  },
  {
   "metadata": {
    "ExecuteTime": {
     "end_time": "2024-10-16T07:23:38.834330Z",
     "start_time": "2024-10-16T07:23:38.828323Z"
    }
   },
   "cell_type": "code",
   "source": [
    "# 딕셔너리를 만드는 다양한 방법\n",
    "\n",
    "# 빈 딕셔너리 만들기 \n",
    "\n",
    "딕셔너리 = {}\n",
    "딕셔너리\n",
    "\n",
    "딕셔너리2 = dict()\n",
    "딕셔너리2\n",
    "\n",
    "# 값을 넣어 만드는 방법\n",
    "# dict()로 생성지 값 넣는 기호 \"\", : 주의해주세요\n",
    "\n",
    "딕셔너리3 = dict(힘=30, 지능=20, 체력=40, 민첩=90)\n",
    "딕셔너리3\n",
    "\n",
    "#zip(): 병렬처리를 도와줌 중요 따로 공부!!!!!! 배열의 갯수를 꼭 맞춰\n",
    "딕셔너리4 = dict(zip([\"power\", \"inteligence\", \"strength\", \"agility\"], [30, 20, 40, 90]))\n",
    "딕셔너리4"
   ],
   "id": "2bd88b34ebe5200d",
   "outputs": [
    {
     "data": {
      "text/plain": [
       "{'power': 30, 'inteligence': 20, 'strength': 40, 'agility': 90}"
      ]
     },
     "execution_count": 22,
     "metadata": {},
     "output_type": "execute_result"
    }
   ],
   "execution_count": 22
  },
  {
   "metadata": {
    "ExecuteTime": {
     "end_time": "2024-10-16T07:27:29.682749Z",
     "start_time": "2024-10-16T07:27:29.675919Z"
    }
   },
   "cell_type": "code",
   "source": [
    "# 값의 중복은 허락되는데, 키의 중복은 허락하지 않습니다. 중복될 시 앞의 키의 값 없어짐\n",
    "\n",
    "짱짱맨 = {\"힘\":30, \"지능\":20, \"체력\":40, \"민첩\":90, \"힘\":40, \"지구력\":90}\n",
    "print(짱짱맨)\n",
    "\n",
    "\"체력\" in 짱짱맨\n"
   ],
   "id": "1e2b3793802e0304",
   "outputs": [
    {
     "name": "stdout",
     "output_type": "stream",
     "text": [
      "{'힘': 40, '지능': 20, '체력': 40, '민첩': 90, '지구력': 90}\n"
     ]
    },
    {
     "data": {
      "text/plain": [
       "True"
      ]
     },
     "execution_count": 27,
     "metadata": {},
     "output_type": "execute_result"
    }
   ],
   "execution_count": 27
  },
  {
   "metadata": {
    "ExecuteTime": {
     "end_time": "2024-10-17T01:25:43.335866Z",
     "start_time": "2024-10-17T01:25:43.317500Z"
    }
   },
   "cell_type": "code",
   "source": [
    "# 딕셔너리에 다양한 메소드 \n",
    "\n",
    "print(짱짱맨.keys())\n",
    "print(짱짱맨.values())\n",
    "\n",
    "print(짱짱맨.items())\n",
    "print(type(짱짱맨.items()))\n",
    "\n",
    "리스트화_짱짱맨 = list(짱짱맨.items())\n",
    "print(리스트화_짱짱맨)\n",
    "\n",
    "리스트화_짱짱맨[4]"
   ],
   "id": "cba8ce99be574fbe",
   "outputs": [
    {
     "name": "stdout",
     "output_type": "stream",
     "text": [
      "dict_keys(['힘', '지능', '체력', '민첩', '손재주'])\n",
      "dict_values([40, 100, 40, 90, 44])\n",
      "dict_items([('힘', 40), ('지능', 100), ('체력', 40), ('민첩', 90), ('손재주', 44)])\n",
      "<class 'dict_items'>\n",
      "[('힘', 40), ('지능', 100), ('체력', 40), ('민첩', 90), ('손재주', 44)]\n"
     ]
    },
    {
     "data": {
      "text/plain": [
       "('손재주', 44)"
      ]
     },
     "execution_count": 60,
     "metadata": {},
     "output_type": "execute_result"
    }
   ],
   "execution_count": 60
  },
  {
   "metadata": {
    "ExecuteTime": {
     "end_time": "2024-10-16T07:36:35.833571Z",
     "start_time": "2024-10-16T07:36:35.829003Z"
    }
   },
   "cell_type": "code",
   "source": [
    "# 딕셔너리 값 추가, 삭제, 변경\n",
    "\n",
    "짱짱맨\n",
    "\n",
    "# del 짱짱맨[\"지구력\"]\n",
    "# print(짱짱맨)\n",
    "\n",
    "# 짱짱맨[\"지능\"] = 100\n",
    "# print(짱짱맨)\n",
    "\n",
    "짱짱맨.update({\"손재주\":44})\n",
    "print(짱짱맨)"
   ],
   "id": "b1f32d5d5695a6a8",
   "outputs": [
    {
     "name": "stdout",
     "output_type": "stream",
     "text": [
      "{'힘': 40, '지능': 100, '체력': 40, '민첩': 90, '손재주': 44}\n"
     ]
    }
   ],
   "execution_count": 45
  },
  {
   "metadata": {
    "ExecuteTime": {
     "end_time": "2024-10-16T07:39:47.420778Z",
     "start_time": "2024-10-16T07:39:47.414938Z"
    }
   },
   "cell_type": "code",
   "source": [
    "코디 = {\n",
    "    \"모자\" : {\n",
    "        \"캡\" : \"발렌시아\",\n",
    "        \"비니\" : \"셀린느\"\n",
    "    },\n",
    "    \"상의\" : {\n",
    "        \"후드티\" : \"칼하트\",\n",
    "        \"맨투맨\" : \"슈프림\"\n",
    "    }\n",
    "}\n",
    "\n",
    "코디\n",
    "코디[\"모자\"][\"캡\"]"
   ],
   "id": "f762b6facb946039",
   "outputs": [
    {
     "data": {
      "text/plain": [
       "'발렌시아'"
      ]
     },
     "execution_count": 49,
     "metadata": {},
     "output_type": "execute_result"
    }
   ],
   "execution_count": 49
  },
  {
   "metadata": {
    "ExecuteTime": {
     "end_time": "2024-10-16T07:50:19.319391Z",
     "start_time": "2024-10-16T07:50:14.798484Z"
    }
   },
   "cell_type": "code",
   "source": [
    "fish__p, fish__s, fish__j = \"붕어빵(팥)\", \"붕어빵(슈크림)\", \"붕어빵(잡채)\" \n",
    "# price = dict(팥 = 2000, 슈크림 = 2500, 잡채 = 3000)\n",
    "# list(price.items())\n",
    "fish__p__sell, fish__s__sell, fish__j__sell = 2000, 2500, 3000\n",
    "order_p, order_s, order_j =  map(int, input(\"붕어빵(팥), 붕어빵(슈크림), 붕어빵(잡채)를 순서대로 개수를 입력하고 꼭 쉼표를 입력하고 안사는 붕어빵은 0을 넣어줘\").split(\",\"))\n",
    "\n",
    "#붕어빵 계산 값\n",
    "order_p__pay, order_s__pay, order_j__pay = fish__p__sell* order_p, fish__s__sell * order_s, fish__j__sell * order_j\n",
    "# order_p__pay, order_s__pay, order_j__pay = price[0][1]* order_p, price[1][1] * order_s, price[2][1] * order_j\n",
    "total = order_p + order_s + order_j\n",
    "total_pay = order_p__pay + order_s__pay + order_j__pay\n",
    "\n",
    "\n",
    "print(f\"주문이 완료되었습니다. {fish__p} {order_p}개, {fish__s} {order_s}개, {fish__j} {order_j}개 총 {total}개 결제 금액은 {total_pay}원 입니다.\")"
   ],
   "id": "b93921630648b1d6",
   "outputs": [
    {
     "name": "stdout",
     "output_type": "stream",
     "text": [
      "주문이 완료되었습니다. 붕어빵(팥) 1개, 붕어빵(슈크림) 1개, 붕어빵(잡채) 1개 총 3개 결제 금액은 7500원 입니다.\n"
     ]
    }
   ],
   "execution_count": 53
  },
  {
   "metadata": {},
   "cell_type": "markdown",
   "source": "* 해시, 해시맵, 해시테이블",
   "id": "23d24111bcd05e3"
  },
  {
   "metadata": {
    "ExecuteTime": {
     "end_time": "2024-10-16T07:58:38.510248Z",
     "start_time": "2024-10-16T07:58:32.596459Z"
    }
   },
   "cell_type": "code",
   "source": [
    "주문_개수 = map(int, input(f'붕어빵 맛 순서대로 개수를 입력해주세요 안살꺼면 0입력(팥, 슈크림, 잡채)'). split(','))\n",
    "품목별_가격 ={\"팥\": 2000, \"슈크림\":2500,\"잡채\":3000}\n",
    "# 딕셔너리는 순서가 없어 인덱싱으로 접근 불가\n",
    "주문_개수 = list(주문_개수)\n",
    "총_주문_개수 = sum(주문_개수)\n",
    "total = 0\n",
    "total += 품목별_가격[\"팥\"] * 주문_개수[0]\n",
    "total += 품목별_가격[\"슈크림\"] * 주문_개수[1]\n",
    "total += 품목별_가격[\"잡채\"] * 주문_개수[2]\n",
    "print(f'주문이 완료되었습니다. 팥 {주문_개수[0]}개, 슈크림 {주문_개수[1]}개, 잡채 {주문_개수[2]}개 총 {총_주문_개수}개 결제 금액은 {total}원 입니다.')"
   ],
   "id": "c0de77f3fc32b37f",
   "outputs": [
    {
     "name": "stdout",
     "output_type": "stream",
     "text": [
      "주문이 완료되었습니다. 팥 1개, 슈크림 1개, 잡채 10개 총 12개 결제 금액은 34500원 입니다.\n"
     ]
    }
   ],
   "execution_count": 59
  }
 ],
 "metadata": {
  "kernelspec": {
   "display_name": "Python 3",
   "language": "python",
   "name": "python3"
  },
  "language_info": {
   "codemirror_mode": {
    "name": "ipython",
    "version": 2
   },
   "file_extension": ".py",
   "mimetype": "text/x-python",
   "name": "python",
   "nbconvert_exporter": "python",
   "pygments_lexer": "ipython2",
   "version": "2.7.6"
  }
 },
 "nbformat": 4,
 "nbformat_minor": 5
}
