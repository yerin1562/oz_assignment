{
 "cells": [
  {
   "cell_type": "code",
   "execution_count": null,
   "id": "initial_id",
   "metadata": {
    "collapsed": true
   },
   "outputs": [],
   "source": [
    ""
   ]
  },
  {
   "metadata": {},
   "cell_type": "markdown",
   "source": [
    "### list\n",
    "\n",
    "* list 란? 원스들이 연속적으로 저장되는 형태의 자료형을 말합니다. \n",
    "* 시퀀스 자료형!!\n",
    "    * str, list, tuple, dict, set\n",
    "* 대괄호로 묶어주고, 값들은 콤마로 구분"
   ],
   "id": "4e76592beff2f995"
  },
  {
   "metadata": {
    "ExecuteTime": {
     "end_time": "2024-10-16T02:55:48.788806Z",
     "start_time": "2024-10-16T02:55:48.783934Z"
    }
   },
   "cell_type": "code",
   "source": [
    "리스트 = []\n",
    "\n",
    "print(리스트)\n",
    "\n",
    "리스트 = [23, \"이게 리스트다\", 3.23, True, False]. # 다양한 값들이 들어갈 수 있음\n",
    "\n",
    "print(리스트)"
   ],
   "id": "34adcc8454f85748",
   "outputs": [
    {
     "name": "stdout",
     "output_type": "stream",
     "text": [
      "[]\n",
      "[23, '이게 리스트다', 3.23, True, False]\n"
     ]
    }
   ],
   "execution_count": 2
  },
  {
   "metadata": {
    "ExecuteTime": {
     "end_time": "2024-10-16T04:09:20.147146Z",
     "start_time": "2024-10-16T04:09:20.142054Z"
    }
   },
   "cell_type": "code",
   "source": [
    "리스트 = [\"이\", \"렇\", \"게\", \"만\", \"들\", \"어\", \"요\"]\n",
    "\n",
    "리스트\n",
    "리스트2 = list()  #int(), float()\n",
    "리스트2 \n",
    "\n",
    "\n",
    "# range ? 연속된 숫자를 생산하는 기능\n",
    "\n",
    "range(10)\n",
    "\n",
    "#list(range(시작, 끝))\n",
    "\n",
    "리스트_매직 = list(range(0, 10))\n",
    "\n",
    "print(리스트_매직)"
   ],
   "id": "13678575dad63b0",
   "outputs": [
    {
     "name": "stdout",
     "output_type": "stream",
     "text": [
      "[0, 1, 2, 3, 4, 5, 6, 7, 8, 9]\n"
     ]
    }
   ],
   "execution_count": 11
  },
  {
   "metadata": {
    "ExecuteTime": {
     "end_time": "2024-10-16T04:11:06.471912Z",
     "start_time": "2024-10-16T04:11:06.466953Z"
    }
   },
   "cell_type": "code",
   "source": [
    "#list(range(시작, 끝, 증가))\n",
    "\n",
    "리스트_매직2 = list(range(0, 20, 2))\n",
    "리스트_매직2"
   ],
   "id": "b5ac6ab1ae9faf16",
   "outputs": [
    {
     "data": {
      "text/plain": [
       "[0, 2, 4, 6, 8, 10, 12, 14, 16, 18]"
      ]
     },
     "execution_count": 12,
     "metadata": {},
     "output_type": "execute_result"
    }
   ],
   "execution_count": 12
  },
  {
   "metadata": {
    "ExecuteTime": {
     "end_time": "2024-10-16T04:16:13.286218Z",
     "start_time": "2024-10-16T04:16:13.281307Z"
    }
   },
   "cell_type": "code",
   "source": [
    "리스트_매직3 = list(range(20, 0, -1))  #얘는 20부터 시작해 왜야?? ==> 끝 값은 포함되지 않는게 원칙이며 끝 값 바로 앞 숫자까지 생성하기 때문!!!!\n",
    "리스트_매직3"
   ],
   "id": "72393393c06d23db",
   "outputs": [
    {
     "data": {
      "text/plain": [
       "[20, 19, 18, 17, 16, 15, 14, 13, 12, 11, 10, 9, 8, 7, 6, 5, 4, 3, 2, 1]"
      ]
     },
     "execution_count": 19,
     "metadata": {},
     "output_type": "execute_result"
    }
   ],
   "execution_count": 19
  },
  {
   "metadata": {
    "ExecuteTime": {
     "end_time": "2024-10-16T04:13:12.255955Z",
     "start_time": "2024-10-16T04:13:12.249882Z"
    }
   },
   "cell_type": "code",
   "source": [
    "리스트_매직4 = list(range(20, 0))\n",
    "리스트_매직4"
   ],
   "id": "4158ce069c04963a",
   "outputs": [
    {
     "data": {
      "text/plain": [
       "[]"
      ]
     },
     "execution_count": 16,
     "metadata": {},
     "output_type": "execute_result"
    }
   ],
   "execution_count": 16
  },
  {
   "metadata": {
    "ExecuteTime": {
     "end_time": "2024-10-16T04:26:39.186061Z",
     "start_time": "2024-10-16T04:26:39.179995Z"
    }
   },
   "cell_type": "code",
   "source": [
    "# 리스트를 이용해 변수에 값 넣기\n",
    "\n",
    "a, b, c = [\"들\", '어', '가']\n",
    "print(a, b, c)\n",
    "\n",
    "d, e, f = [7, 7, 8]\n",
    "print(d, e, f)\n",
    "\n",
    "지갑 = [10000, 5000, 1000]\n",
    "만원, 오천원, 천원 = 지갑\n",
    "print(f\"{만원} 2장, {오천원}3장, {천원} 1장 \")\n"
   ],
   "id": "595bfd1c813fe61c",
   "outputs": [
    {
     "name": "stdout",
     "output_type": "stream",
     "text": [
      "들 어 가\n",
      "7 7 8\n",
      "10000 2장, 50003장, 1000 1장 \n"
     ]
    }
   ],
   "execution_count": 23
  },
  {
   "metadata": {
    "ExecuteTime": {
     "end_time": "2024-10-16T04:27:57.415935Z",
     "start_time": "2024-10-16T04:27:52.831103Z"
    }
   },
   "cell_type": "code",
   "source": [
    "# 리스트 해킹, 리스트 언패킹\n",
    "input().split()\n",
    "\n",
    "#출력하면 리스트로 변환됨"
   ],
   "id": "dc8109a56ca7462a",
   "outputs": [
    {
     "data": {
      "text/plain": [
       "['기억', '나요?']"
      ]
     },
     "execution_count": 25,
     "metadata": {},
     "output_type": "execute_result"
    }
   ],
   "execution_count": 25
  },
  {
   "metadata": {
    "ExecuteTime": {
     "end_time": "2024-10-16T04:55:33.364128Z",
     "start_time": "2024-10-16T04:55:33.353790Z"
    }
   },
   "cell_type": "code",
   "source": [
    "# 슬라이싱\n",
    "\n",
    "로또 = [3, 5, 8, 25, 43, 76]\n",
    "\n",
    "# 로또 변수에 있는 리스트의 인덱스 1번부터 2 번까지의 값을 출력해\n",
    "print(로또[1:3])\n",
    "\n",
    "# 로또 변수의 마지막 위치 출력\n",
    "print(로또[-1])\n",
    "\n",
    "# 반대로 출력\n",
    "print(로또[::-1])\n",
    "\n",
    "# 로또 리스트 안에 33이 있는지 확인\n",
    "print(33 in 로또)\n",
    "\n",
    "# 로또 리스트를 로또2 리스트와 합쳐\n",
    "로또2 = [2, 12, 15, 24, 33, 39]\n",
    "print(로또 + 로또2)\n",
    "\n",
    "# range 를 이용해 1부터 10 사이에 짝수만 들어있는 짝수(변수명) 리스트를 만들어\n",
    "짝수 = list(range(2, 11, 2))\n",
    "print(짝수)\n",
    "\n",
    "# 짝수 리스트에 들어있는 값을 2배 늘리고 다시 짝수 변수에 담아\n",
    "# 짝수 = list(range(4, 21, 4))\n",
    "짝수 = 짝수 * 2\n",
    "print(짝수)\n",
    "\n",
    "# 짝수 리스트에 들어있는 요소의 개수를 구해\n",
    "print(len(짝수))\n",
    "\n",
    "# 짝수 리스트에 3번째 인덱스를 출력해\n",
    "print(짝수[3])\n",
    "\n",
    "# len() 함수를 이용해 인덱스 마지막 값을 출력해\n",
    "print(짝수[len(짝수)-1])"
   ],
   "id": "29599bb94902dc92",
   "outputs": [
    {
     "name": "stdout",
     "output_type": "stream",
     "text": [
      "[5, 8]\n",
      "76\n",
      "[76, 43, 25, 8, 5, 3]\n",
      "False\n",
      "[3, 5, 8, 25, 43, 76, 2, 12, 15, 24, 33, 39]\n",
      "[2, 4, 6, 8, 10]\n",
      "[2, 4, 6, 8, 10, 2, 4, 6, 8, 10]\n",
      "10\n",
      "8\n",
      "10\n"
     ]
    }
   ],
   "execution_count": 54
  },
  {
   "metadata": {
    "ExecuteTime": {
     "end_time": "2024-10-16T05:05:21.494966Z",
     "start_time": "2024-10-16T05:05:21.489756Z"
    }
   },
   "cell_type": "code",
   "source": [
    "#list 값 넣고 바꾸고 지우고\n",
    "\n",
    "mzfood = ['숙주', '분모자', '마라', '소세지', '소고기', '옥수수면']\n",
    "print(mzfood)\n",
    "\n",
    "# 값으 넣는 방법 2가지 : append() : 마지막 요소에 값을 넣어, insert() : 원하는 곳에 값을 넣어요\n",
    "\n",
    "mzfood. append(\"고수\")\n",
    "print(mzfood)\n",
    "\n",
    "mzfood. insert(0, \"탕후루\")\n",
    "print(mzfood)\n",
    "\n",
    "# 값 지우기\n",
    "del mzfood[-1]\n",
    "print(mzfood)\n",
    "\n",
    "del mzfood[0]\n",
    "print(mzfood)\n",
    "\n",
    "# 값 바꾸기\n",
    "\n",
    "mzfood[-2] = \"언어\"\n",
    "print(mzfood)\n",
    "\n",
    "# 문자열도 시퀀스잖아 될까???  NO!!!!!!!!!\n",
    "# 인사 = \"반가워요\"\n",
    "# print(인사)\n",
    "# \n",
    "# 인사[0] = \"Como estas\""
   ],
   "id": "937c100a125576f5",
   "outputs": [
    {
     "name": "stdout",
     "output_type": "stream",
     "text": [
      "['숙주', '분모자', '마라', '소세지', '소고기', '옥수수면']\n",
      "['숙주', '분모자', '마라', '소세지', '소고기', '옥수수면', '고수']\n",
      "['탕후루', '숙주', '분모자', '마라', '소세지', '소고기', '옥수수면', '고수']\n",
      "['탕후루', '숙주', '분모자', '마라', '소세지', '소고기', '옥수수면']\n",
      "['숙주', '분모자', '마라', '소세지', '소고기', '옥수수면']\n",
      "['숙주', '분모자', '마라', '소세지', '언어', '옥수수면']\n"
     ]
    }
   ],
   "execution_count": 67
  },
  {
   "metadata": {
    "ExecuteTime": {
     "end_time": "2024-10-16T05:11:01.241395Z",
     "start_time": "2024-10-16T05:11:01.238061Z"
    }
   },
   "cell_type": "code",
   "source": [
    "print(dir(list))\n",
    "#dir 은 기능을 볼 수 있는 내장함수로 매서드와 속성을 나열해줌\n",
    "\n",
    "#'append', 'clear', 'copy', 'count', 'extend', 'index', 'insert', 'pop', 'remove', 'reverse', 'sort' "
   ],
   "id": "cd585731cd1b5840",
   "outputs": [
    {
     "name": "stdout",
     "output_type": "stream",
     "text": [
      "['__add__', '__class__', '__class_getitem__', '__contains__', '__delattr__', '__delitem__', '__dir__', '__doc__', '__eq__', '__format__', '__ge__', '__getattribute__', '__getitem__', '__gt__', '__hash__', '__iadd__', '__imul__', '__init__', '__init_subclass__', '__iter__', '__le__', '__len__', '__lt__', '__mul__', '__ne__', '__new__', '__reduce__', '__reduce_ex__', '__repr__', '__reversed__', '__rmul__', '__setattr__', '__setitem__', '__sizeof__', '__str__', '__subclasshook__', 'append', 'clear', 'copy', 'count', 'extend', 'index', 'insert', 'pop', 'remove', 'reverse', 'sort']\n"
     ]
    }
   ],
   "execution_count": 73
  },
  {
   "metadata": {
    "ExecuteTime": {
     "end_time": "2024-10-16T05:24:11.335139Z",
     "start_time": "2024-10-16T05:24:11.329239Z"
    }
   },
   "cell_type": "code",
   "source": [
    "print(mzfood)\n",
    "\n",
    "mzfood. reverse()\n",
    "print(mzfood)\n",
    "\n",
    "mzfood.sort()\n",
    "print(mzfood)\n",
    "\n",
    "print(mzfood.reverse())\n",
    "\n",
    "# mzfood.reverse()\n",
    "print(mzfood)\n",
    "\n",
    "# None 이 나오는 이유는 메서드의 리턴 값이 \"none\"이기 때문\n",
    "# .reverse() 메서드의 리스트를 직접 수정함 파이썬의 메서드는 \"변경하되 반환하지 않는 특성을 가지고 있기 때문\"에 리스트는 바뀌지만 출력은 None 으로 표시된다"
   ],
   "id": "259d3a5294ba6f4b",
   "outputs": [
    {
     "name": "stdout",
     "output_type": "stream",
     "text": [
      "['옥수수면', '언어', '숙주', '소세지', '분모자', '마라']\n",
      "['마라', '분모자', '소세지', '숙주', '언어', '옥수수면']\n",
      "['마라', '분모자', '소세지', '숙주', '언어', '옥수수면']\n",
      "None\n",
      "['옥수수면', '언어', '숙주', '소세지', '분모자', '마라']\n"
     ]
    }
   ],
   "execution_count": 95
  },
  {
   "metadata": {
    "ExecuteTime": {
     "end_time": "2024-10-16T05:30:50.252446Z",
     "start_time": "2024-10-16T05:30:50.246488Z"
    }
   },
   "cell_type": "code",
   "source": [
    "# 2차원 리스트!!!!! 연습이 많이 필요함\n",
    "\n",
    "양파같은 = [[2, 0], [3, 1], [4,0]]\n",
    "\n",
    "print(양파같은)\n",
    "\n",
    "#여기서 []안의 숫자는 인덱스임. \n",
    "# 리스트 안에 요소에 맞춰 인덱스 또한 0, 1, 2 갯수가 한정되어 있음\n",
    "\n",
    "print(양파같은[0])\n",
    "print(양파같은[2])\n",
    "\n",
    "# 4를 출력\n",
    "print(양파같은[2][0])\n",
    "\n",
    "\n",
    "양파같은.append([3, 2])\n",
    "print(양파같은)"
   ],
   "id": "2a0148a5585a7139",
   "outputs": [
    {
     "name": "stdout",
     "output_type": "stream",
     "text": [
      "[[2, 0], [3, 1], [4, 0]]\n",
      "[2, 0]\n",
      "[4, 0]\n",
      "4\n",
      "[[2, 0], [3, 1], [4, 0], [3, 2]]\n"
     ]
    }
   ],
   "execution_count": 104
  },
  {
   "metadata": {},
   "cell_type": "code",
   "outputs": [],
   "execution_count": null,
   "source": "",
   "id": "43b48da279ad1a9"
  }
 ],
 "metadata": {
  "kernelspec": {
   "display_name": "Python 3",
   "language": "python",
   "name": "python3"
  },
  "language_info": {
   "codemirror_mode": {
    "name": "ipython",
    "version": 2
   },
   "file_extension": ".py",
   "mimetype": "text/x-python",
   "name": "python",
   "nbconvert_exporter": "python",
   "pygments_lexer": "ipython2",
   "version": "2.7.6"
  }
 },
 "nbformat": 4,
 "nbformat_minor": 5
}
