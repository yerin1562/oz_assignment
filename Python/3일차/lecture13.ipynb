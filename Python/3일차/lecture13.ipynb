{
 "cells": [
  {
   "cell_type": "code",
   "execution_count": null,
   "id": "initial_id",
   "metadata": {
    "collapsed": true
   },
   "outputs": [],
   "source": " "
  },
  {
   "metadata": {},
   "cell_type": "markdown",
   "source": [
    "## 시퀀스 자료형 \n",
    "\n",
    "    *문자열 ; \n",
    "        * 시퀀스 형에서 사용할 수 있는 메소드(count(), index(), split() 등... )\n",
    "        * 슬라이싱 ([:] [::] )\n",
    "        * 요소들로 이루어져 가능했던 기능들 (요소 합치기, 요소 찾기 등등)\n",
    "    \n",
    "* list : \n",
    "    * 시퀀스 형에서 사용할 수 있는 메소드(count(), index(), split() 등... )\n",
    "    * 슬라이싱 ([:] [::] )\n",
    "    * 요소들로 이루어져 가능했던 기능들 (요소 합치기, 요소 찾기 등등)\n",
    "    * list 지원하는 다양한 메소드 (append(), insert(), del, sort(), reverse())\n",
    "\n",
    "* tuple : \n",
    "    * 리스트처럼 요소를 일렬로 저장하지만 안에 저장된 요소를 변경, 추가, 삭제할 수 없다. \n",
    "    * 값을 추가, 삭제, 변경할 수 없기 때문에 사용하지 못하는 메소드가 많다. \n",
    "    * tuple의 생성 방법은 tuple = 값, 값 또는 tuple = (값, 값)\n",
    "    * 그리고 엄청난 비밀\n",
    "    * 튜플은 소괄호\n",
    "\n",
    "* dict(딕셔너리)\n",
    "    * list, tuple, str, range (범위안에 연속된 데이터를 만드는 시퀀스)\n",
    "        * 공통적 특징: 데이터의 연관성 X\n",
    "    * dict는 여러개의 값이 일렬로 정렬 되면서도 값끼리의 연관성이 존재!!\n",
    "        * ex) 게임 캐릭터 힘, 지능, 체력, 민첩\n",
    "    * 생성 방법은 중괄호 {}\n",
    "\n",
    "* set\n",
    "    * 수학의 집합\n",
    "    * 딕셔너리와 같이 순서가 없음\n",
    "    * 값의 중복을 허락하지 않음 중요!!!!!!!!!\n",
    "    * set {}"
   ],
   "id": "467ff0c6b1ac580a"
  },
  {
   "metadata": {
    "ExecuteTime": {
     "end_time": "2024-10-16T08:04:15.454728Z",
     "start_time": "2024-10-16T08:04:15.448831Z"
    }
   },
   "cell_type": "code",
   "source": [
    "채소 = {\"당근\", \"양파\", \"배추\"}\n",
    "print(type(채소))\n",
    "print(채소)\n",
    "\n",
    "# 순서가 없고, 출력하면 요소가 다르게 나오는것이 특징"
   ],
   "id": "362e3efaf2ed4db8",
   "outputs": [
    {
     "name": "stdout",
     "output_type": "stream",
     "text": [
      "<class 'set'>\n",
      "{'당근', '배추', '양파'}\n"
     ]
    }
   ],
   "execution_count": 31
  },
  {
   "metadata": {
    "ExecuteTime": {
     "end_time": "2024-10-16T14:34:13.776936Z",
     "start_time": "2024-10-16T14:34:13.771998Z"
    }
   },
   "cell_type": "code",
   "source": [
    "세트 = set()\n",
    "세트\n",
    "\n",
    "세트2 = {}\n",
    "세트2"
   ],
   "id": "537c29dabcb911c2",
   "outputs": [
    {
     "data": {
      "text/plain": [
       "{}"
      ]
     },
     "execution_count": 33,
     "metadata": {},
     "output_type": "execute_result"
    }
   ],
   "execution_count": 33
  },
  {
   "metadata": {
    "ExecuteTime": {
     "end_time": "2024-10-16T14:41:09.602289Z",
     "start_time": "2024-10-16T14:41:09.598385Z"
    }
   },
   "cell_type": "code",
   "source": [
    "# 중복 절대 금지\n",
    "\n",
    "사과_리스트 = list(\"apple\")\n",
    "print(사과_리스트)\n",
    "사과_튜플 = tuple(\"apple\")\n",
    "print(사과_튜플)\n",
    "사과_set = set(\"apple\")\n",
    "print(사과_set)"
   ],
   "id": "1457f0926cb55aa0",
   "outputs": [
    {
     "name": "stdout",
     "output_type": "stream",
     "text": [
      "['a', 'p', 'p', 'l', 'e']\n",
      "('a', 'p', 'p', 'l', 'e')\n",
      "{'l', 'a', 'e', 'p'}\n"
     ]
    }
   ],
   "execution_count": 44
  },
  {
   "metadata": {
    "ExecuteTime": {
     "end_time": "2024-10-16T15:00:23.394670Z",
     "start_time": "2024-10-16T15:00:23.389010Z"
    }
   },
   "cell_type": "code",
   "source": [
    "#set() 자료형의 데이터 추가, 삭제, 변경\n",
    "채소\n",
    "\n",
    "#set() 함수의 데이터 삽입\n",
    "채소. add(\"토마토\")\n",
    "print(채소)\n",
    "\n",
    "채소. update(\"깻잎\")\n",
    "print(채소)\n",
    "\n",
    "# 데이터 삭제 / .remove() 는 없는 요소를 삭제하려고 하면 오류\n",
    "#.discard() 는 없는 요소를 삭제해도 오류가 나지 않음\n",
    "\n",
    "채소.remove(\"잎\")\n",
    "print(채소)\n",
    "\n",
    "채소. discard(\"깻\")\n",
    "print(채소)\n",
    "\n",
    "# 랜덤으로 요소를 삭제함\n",
    "채소.pop()\n",
    "print(채소)"
   ],
   "id": "b239ddd20368fb78",
   "outputs": [
    {
     "name": "stdout",
     "output_type": "stream",
     "text": [
      "{'토마토'}\n",
      "{'잎', '토마토', '깻'}\n",
      "{'토마토', '깻'}\n",
      "{'토마토'}\n",
      "set()\n"
     ]
    }
   ],
   "execution_count": 83
  },
  {
   "metadata": {
    "ExecuteTime": {
     "end_time": "2024-10-16T15:02:27.801547Z",
     "start_time": "2024-10-16T15:02:27.797146Z"
    }
   },
   "cell_type": "code",
   "source": [
    "채소 = {\"당근\", \"양파\", \"배추\"}\n",
    "반환된_채소 = 채소.pop()\n",
    "print(f\"{반환된_채소}는 내다버린 채소입니다.\")"
   ],
   "id": "40772336b47c0f4a",
   "outputs": [
    {
     "name": "stdout",
     "output_type": "stream",
     "text": [
      "당근는 내다버린 채소입니다.\n"
     ]
    }
   ],
   "execution_count": 87
  },
  {
   "metadata": {
    "ExecuteTime": {
     "end_time": "2024-10-16T15:07:14.212837Z",
     "start_time": "2024-10-16T15:07:14.206216Z"
    }
   },
   "cell_type": "code",
   "source": [
    "# set = 집합, 합집합, 교집합, 차집합 기타 등등\n",
    "# 대표적으로 합집합, 교집합, 차집합\n",
    "\n",
    "채소1 = {\"당근\", \"양파\", \"오이\", \"배추\"}\n",
    "채소2 = {\"양파\", \"오이\", \"대파\", \"가지\"}\n",
    "\n",
    "# 합집합(union)\n",
    "채소1 | 채소2\n",
    "set. union(채소1, 채소2)\n",
    "\n",
    "# 교집합(intersection)\n",
    "채소1 & 채소2\n",
    "set.intersection(채소1, 채소2)\n",
    "\n",
    "# 차집합(difference)\n",
    "채소1 - 채소2\n",
    "set.difference(채소1, 채소2)"
   ],
   "id": "646cea325247d666",
   "outputs": [
    {
     "data": {
      "text/plain": [
       "{'당근', '배추'}"
      ]
     },
     "execution_count": 92,
     "metadata": {},
     "output_type": "execute_result"
    }
   ],
   "execution_count": 92
  },
  {
   "metadata": {},
   "cell_type": "code",
   "outputs": [],
   "execution_count": null,
   "source": "",
   "id": "9b41154d098ee32c"
  }
 ],
 "metadata": {
  "kernelspec": {
   "display_name": "Python 3",
   "language": "python",
   "name": "python3"
  },
  "language_info": {
   "codemirror_mode": {
    "name": "ipython",
    "version": 2
   },
   "file_extension": ".py",
   "mimetype": "text/x-python",
   "name": "python",
   "nbconvert_exporter": "python",
   "pygments_lexer": "ipython2",
   "version": "2.7.6"
  }
 },
 "nbformat": 4,
 "nbformat_minor": 5
}
