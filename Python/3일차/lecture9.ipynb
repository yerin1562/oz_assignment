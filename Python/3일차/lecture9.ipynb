{
 "cells": [
  {
   "cell_type": "code",
   "execution_count": null,
   "id": "initial_id",
   "metadata": {
    "collapsed": true
   },
   "outputs": [],
   "source": [
    ""
   ]
  },
  {
   "metadata": {},
   "cell_type": "markdown",
   "source": [
    "##입력과 출력\n",
    "\n",
    "* 입력: input()\n",
    "* 출력: print()\n",
    "\n",
    "\n",
    "###함수와 메서드\n",
    "> 함수: 어디에 속해있지 않고 단독 모듈이라 함수를 그냥 호출하여 사용 가능\n",
    "\n",
    "예) print(), input()\n",
    "\n",
    "\n",
    "> 메소드: 함수의 클래스 안에 속해 있고 클래스의 멤버 변수들을 이용해서 구현된 것\n",
    "> \n",
    "예 ) \"까먹었니?\".count(\"까\")/ \"까먹었니?\".index(\"까\")"
   ],
   "id": "32e8889965e0feba"
  },
  {
   "metadata": {
    "ExecuteTime": {
     "end_time": "2024-10-16T01:23:59.216066Z",
     "start_time": "2024-10-16T01:23:59.211144Z"
    }
   },
   "cell_type": "code",
   "source": "\"까먹었니?\".count(\"까\")",
   "id": "48d4e218d2181f7",
   "outputs": [
    {
     "data": {
      "text/plain": [
       "1"
      ]
     },
     "execution_count": 3,
     "metadata": {},
     "output_type": "execute_result"
    }
   ],
   "execution_count": 3
  },
  {
   "metadata": {},
   "cell_type": "markdown",
   "source": "",
   "id": "93c880ba1fb09c5"
  },
  {
   "metadata": {
    "ExecuteTime": {
     "end_time": "2024-10-16T01:23:26.072904Z",
     "start_time": "2024-10-16T01:23:26.068348Z"
    }
   },
   "cell_type": "code",
   "source": "\"까먹었니?\".index(\"까\")",
   "id": "6b23c78635471435",
   "outputs": [
    {
     "data": {
      "text/plain": [
       "0"
      ]
     },
     "execution_count": 2,
     "metadata": {},
     "output_type": "execute_result"
    }
   ],
   "execution_count": 2
  },
  {
   "metadata": {
    "ExecuteTime": {
     "end_time": "2024-10-16T01:24:48.359193Z",
     "start_time": "2024-10-16T01:24:48.354597Z"
    }
   },
   "cell_type": "code",
   "source": [
    "숫자, 문자 = 5, \"5\"\n",
    "\n",
    "print(숫자, 문자)"
   ],
   "id": "c3019772657514b8",
   "outputs": [
    {
     "name": "stdout",
     "output_type": "stream",
     "text": [
      "5 5\n"
     ]
    }
   ],
   "execution_count": 5
  },
  {
   "metadata": {
    "ExecuteTime": {
     "end_time": "2024-10-16T01:34:42.722962Z",
     "start_time": "2024-10-16T01:34:38.345128Z"
    }
   },
   "cell_type": "code",
   "source": [
    "인사 = input(\"(윤두준) 안녕!!\")\n",
    "print(인사)\n",
    "\n",
    "#input 요소는 문자열 타입으로 변환#"
   ],
   "id": "42d851331c0a1448",
   "outputs": [
    {
     "name": "stdout",
     "output_type": "stream",
     "text": [
      "안녕~~~\n"
     ]
    }
   ],
   "execution_count": 8
  },
  {
   "metadata": {
    "ExecuteTime": {
     "end_time": "2024-10-16T01:39:02.592026Z",
     "start_time": "2024-10-16T01:38:56.721268Z"
    }
   },
   "cell_type": "code",
   "source": [
    "#int(), float(), str(), bool()\n",
    "\n",
    "정수 = input()\n",
    "정수 = int(정수)\n",
    "print(정수, type(정수))\n",
    "\n",
    "\n",
    "실수 = input()\n",
    "실수 = float(실수)\n",
    "print(실수, type(실수))"
   ],
   "id": "90b81c9593185afb",
   "outputs": [
    {
     "name": "stdout",
     "output_type": "stream",
     "text": [
      "5 <class 'int'>\n",
      "5.0 <class 'float'>\n"
     ]
    }
   ],
   "execution_count": 10
  },
  {
   "metadata": {
    "ExecuteTime": {
     "end_time": "2024-10-16T01:40:42.064111Z",
     "start_time": "2024-10-16T01:40:35.531227Z"
    }
   },
   "cell_type": "code",
   "source": [
    "정수 = int(input())\n",
    "print(정수, type(정수))\n",
    "\n",
    "실수 = float(input())\n",
    "print(실수, type(실수))"
   ],
   "id": "f9afc74e64b71975",
   "outputs": [
    {
     "name": "stdout",
     "output_type": "stream",
     "text": [
      "4 <class 'int'>\n",
      "9.0 <class 'float'>\n"
     ]
    }
   ],
   "execution_count": 11
  },
  {
   "metadata": {},
   "cell_type": "code",
   "outputs": [],
   "execution_count": null,
   "source": "",
   "id": "b854cb226d45b017"
  },
  {
   "metadata": {},
   "cell_type": "markdown",
   "source": [
    "그 외 입력값의 형변환이 가능한 종류\n",
    "\n",
    "* tuple()\n",
    "* list()\n",
    "* dict()\n",
    "* set()"
   ],
   "id": "f9a3cfae381601d8"
  },
  {
   "metadata": {
    "ExecuteTime": {
     "end_time": "2024-10-16T01:54:55.139257Z",
     "start_time": "2024-10-16T01:54:32.682422Z"
    }
   },
   "cell_type": "code",
   "source": [
    "넌센스, 정답 = input().split(\"?\")  #split은 한 칸 띄운 이후의 문자열을 input 으로 인식 (\"\")하면 입력값을 기준으로 인식\n",
    "print(f\"넌센스 퀴즈 : {넌센스}\")\n",
    "print(f\"정답 : {정답}\")"
   ],
   "id": "4c21fb92336793ef",
   "outputs": [
    {
     "name": "stdout",
     "output_type": "stream",
     "text": [
      "넌센스 퀴즈 : 스페인에서 에스파를 만나면\n",
      "정답 :  에스파냐\n"
     ]
    }
   ],
   "execution_count": 18
  },
  {
   "metadata": {
    "ExecuteTime": {
     "end_time": "2024-10-16T01:58:00.656530Z",
     "start_time": "2024-10-16T01:57:55.151205Z"
    }
   },
   "cell_type": "code",
   "source": [
    "#시퀀스 자료형에 다 지원되는 메소드\n",
    "\n",
    "번호1, 번호2, 번호3, 번호4 = input().split(\".\")\n",
    "\n",
    "번호1 = int(번호1)\n",
    "번호2 = int(번호2)\n",
    "번호3 = int(번호3)\n",
    "번호4 = int(번호4)\n",
    "\n",
    "print(type(번호1), 번호2, 번호3, 번호4)"
   ],
   "id": "43c2d82d7cd0d25",
   "outputs": [
    {
     "name": "stdout",
     "output_type": "stream",
     "text": [
      "<class 'int'> 312312312 13123123 1231231\n"
     ]
    }
   ],
   "execution_count": 21
  },
  {
   "metadata": {
    "ExecuteTime": {
     "end_time": "2024-10-16T02:03:57.777626Z",
     "start_time": "2024-10-16T02:03:53.012684Z"
    }
   },
   "cell_type": "code",
   "source": [
    "#map() 중요!!!\n",
    "\n",
    "번호1, 번호2, 번호3, 번호4 = map(int, input().split(\".\"))\n",
    "print(type(번호1), 번호2, 번호3, 번호4)\n"
   ],
   "id": "5e5a397da8a13ac8",
   "outputs": [
    {
     "name": "stdout",
     "output_type": "stream",
     "text": [
      "<class 'int'> 123 1312 3123\n"
     ]
    }
   ],
   "execution_count": 28
  },
  {
   "metadata": {
    "ExecuteTime": {
     "end_time": "2024-10-16T02:44:40.379366Z",
     "start_time": "2024-10-16T02:44:28.248527Z"
    }
   },
   "cell_type": "code",
   "source": [
    "# 레거시 : 누군가 남겨두고간 코드 --> 버려지기 쉬움\n",
    "# 리팩토링: 결과의 변경 없이 코드의 구조를 재조정하는 것입니다. \n",
    "# input\n",
    "\n",
    "\n",
    "# fish__p, fish__s, fish__j = \"붕어빵(팥)\", \"붕어빵(슈크림)\", \"붕어빵(잡채)\"\n",
    "\n",
    "fish__p, fish__s, fish__j = \"붕어빵(팥)\", \"붕어빵(슈크림)\", \"붕어빵(잡채)\" \n",
    "fish__p__sell, fish__s__sell, fish__j__sell = 2000, 2500, 3000\n",
    "order_p, order_s, order_j =  map(int, input(\"붕어빵(팥), 붕어빵(슈크림), 붕어빵(잡채)를 순서대로 개수를 입력하고 꼭 쉼표를 입력하고 안사는 붕어빵은 0을 넣어줘\").split(\",\"))\n",
    "\n",
    "#붕어빵 계산 값\n",
    "order_p__pay, order_s__pay, order_j__pay = fish__p__sell* order_p, fish__s__sell * order_s, fish__j__sell * order_j\n",
    "total = order_p + order_s + order_j\n",
    "total_pay = order_p__pay + order_s__pay + order_j__pay\n",
    "\n",
    "\n",
    "print(f\"주문이 완료되었습니다. {fish__p} {order_p}개, {fish__s} {order_s}개, {fish__j} {order_j}개 총 {total}개 결제 금액은 {total_pay}원 입니다.\")"
   ],
   "id": "d5f967bbd34b0b4b",
   "outputs": [
    {
     "name": "stdout",
     "output_type": "stream",
     "text": [
      "주문이 완료되었습니다. 붕어빵(팥) 1개, 붕어빵(슈크림) 2개, 붕어빵(잡채) 3개 총 6개 결제 금액은 16000원 입니다.\n"
     ]
    }
   ],
   "execution_count": 38
  },
  {
   "metadata": {
    "ExecuteTime": {
     "end_time": "2024-10-16T02:48:43.035837Z",
     "start_time": "2024-10-16T02:48:43.029723Z"
    }
   },
   "cell_type": "code",
   "source": [
    "# print() 함수에 기능을 이용\n",
    "\n",
    "print(\"초코칩\", \"민트\", \"샷추가\", \"휘핑크림\")\n",
    "print(\"초코칩\", \"민트\", \"샷추가\", \"휘핑크림\", sep=\"/\")\n",
    "print(\"초코칩\", \"민트\", \"샷추가\", \"휘핑크림\", sep=\":\")\n",
    "print(\"초코칩\", \"민트\", \"샷추가\", \"휘핑크림\", sep=\"   \")\n",
    "print(\"초코칩\", \"민트\", \"샷추가\", \"휘핑크림\", sep=\"\\n\")"
   ],
   "id": "37c31a8fab661e17",
   "outputs": [
    {
     "name": "stdout",
     "output_type": "stream",
     "text": [
      "초코칩 민트 샷추가 휘핑크림\n",
      "초코칩/민트/샷추가/휘핑크림\n",
      "초코칩:민트:샷추가:휘핑크림\n",
      "초코칩   민트   샷추가   휘핑크림\n",
      "초코칩\n",
      "민트\n",
      "샷추가\n",
      "휘핑크림\n"
     ]
    }
   ],
   "execution_count": 42
  },
  {
   "metadata": {
    "ExecuteTime": {
     "end_time": "2024-10-16T02:50:46.901470Z",
     "start_time": "2024-10-16T02:50:46.896157Z"
    }
   },
   "cell_type": "code",
   "source": [
    "#end\n",
    "\n",
    "print(\"초코칩\", \"민트\", \"샷추가\", \"휘핑크림\", end=\" \")\n",
    "print(\"초코칩\", \"민트\", \"샷추가\", \"휘핑크림\", end=\" \")\n",
    "print(\"초코칩\", \"민트\", \"샷추가\", \"휘핑크림\", end=\" \")\n",
    "print(\"초코칩\", \"민트\", \"샷추가\", \"휘핑크림\", end=\" \")\n",
    "print(\"초코칩\", \"민트\", \"샷추가\", \"휘핑크림\", end=\" \")"
   ],
   "id": "6a7807acafdde4a7",
   "outputs": [
    {
     "name": "stdout",
     "output_type": "stream",
     "text": [
      "초코칩 민트 샷추가 휘핑크림 초코칩 민트 샷추가 휘핑크림 초코칩 민트 샷추가 휘핑크림 초코칩 민트 샷추가 휘핑크림 초코칩 민트 샷추가 휘핑크림 "
     ]
    }
   ],
   "execution_count": 43
  }
 ],
 "metadata": {
  "kernelspec": {
   "display_name": "Python 3",
   "language": "python",
   "name": "python3"
  },
  "language_info": {
   "codemirror_mode": {
    "name": "ipython",
    "version": 2
   },
   "file_extension": ".py",
   "mimetype": "text/x-python",
   "name": "python",
   "nbconvert_exporter": "python",
   "pygments_lexer": "ipython2",
   "version": "2.7.6"
  }
 },
 "nbformat": 4,
 "nbformat_minor": 5
}
