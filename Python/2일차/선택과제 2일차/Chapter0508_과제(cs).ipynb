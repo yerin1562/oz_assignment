{
 "cells": [
  {
   "cell_type": "markdown",
   "metadata": {
    "id": "WXEwMsfUct7U"
   },
   "source": [
    "컴퓨터 기초 지식을 의미하는 CS(Computer science)는<br>\n",
    "코딩 테스트와 함께 기술 면접에서 지원자에게 필수적으로 요구합니다.<br>\n",
    "\n",
    "수업 내용 중 기술 면접에 자주 나오는 질문 3가지와 기본적으로 알아야 할 내용 과제로 선정했습니다.<br>\n",
    "\n",
    "관련 내용에 대해서는 구글링 또는 관련 서적을 통해 상세히 공부하시고<br>\n",
    "답변은 최대한 핵심만 담아 간결하게 작성해주세요<br>\n",
    "\n",
    "기술 블로그를 운영 중이신 경우<br>\n",
    "답변 내용을 기술 블로그에 작성하신 후 링크를 답변에 남겨주셔도 됩니다.<br>"
   ]
  },
  {
   "cell_type": "markdown",
   "metadata": {
    "id": "qoyC9wF-3hvs"
   },
   "source": [
    "-----"
   ]
  },
  {
   "metadata": {},
   "cell_type": "markdown",
   "source": [
    "[문제1]\n",
    "\n",
    "Python의 변수 할당 개념을 다른 언어와 비교해 설명해주세요\n",
    "\n",
    "\n"
   ]
  },
  {
   "metadata": {},
   "cell_type": "markdown",
   "source": [
    "파이썬의 변수 할당은 객체를 참조하는 개념으로 할당이 된다. 즉 직접적으로 피아썬 내부에 저장 되는 것이 아니라 id 명령어로 메모리의 주소를 참조한다\n",
    "씨언어와 C++은 직접 저장하는 방식이\n"
   ]
  },
  {
   "cell_type": "markdown",
   "metadata": {},
   "source": "---"
  },
  {
   "cell_type": "markdown",
   "metadata": {
    "id": "3uK_auXYdgk2"
   },
   "source": [
    "[문제2]\n",
    "\n",
    "Python의 실수형(float) 계산 시 오차가 발생하는 이유에 대해 간단히 설명해 주세요"
   ]
  },
  {
   "cell_type": "code",
   "execution_count": null,
   "metadata": {
    "id": "9kvBxa6PdhgA"
   },
   "outputs": [],
   "source": ""
  },
  {
   "metadata": {},
   "cell_type": "markdown",
   "source": [
    "컴퓨터는 이진수를 사용하여 파이썬에서 실수는 부동 소수점 표기법으로 저장되기 때문이다. 부동 소수점이란 가수와 지수로 나누어 표현하는 방식으로 이를 이진수로 표현할시 정확하게 표현할 수 없는 경우가 있다. \n",
    "따라서 부동 소수점은 다양한 숫자를 표현할 수 있는 유연성이 있지만 일부 숫자는 근사값으로 저장되기 때문에 계산시 오차가 발생할 수 있다. 이 오차는 decimal 모듈로 해결할 수 있다. "
   ]
  },
  {
   "cell_type": "markdown",
   "metadata": {},
   "source": [
    "----"
   ]
  },
  {
   "metadata": {},
   "cell_type": "markdown",
   "source": [
    "[문제3]\n",
    "\n",
    "슬라이싱에 대해 간단히 설명해주세요\n"
   ]
  },
  {
   "metadata": {},
   "cell_type": "markdown",
   "source": [
    "슬라이싱이란 문자열 즉 시퀀스를 나누어 출력하고 싶은 부분만을 나타낼 수 있습니다\n",
    "슬라이싱을 하는 방법은 첫번째 글자를 0(인덱스)부터 시작하여 글자수에 맞게 숫자가 배열되어 대괄로와 콜론을 사용하여 배치해 사용할 수 있다."
   ]
  }
 ],
 "metadata": {
  "colab": {
   "authorship_tag": "ABX9TyP7YKA5FdtGggYfD74V7SMJ",
   "provenance": []
  },
  "kernelspec": {
   "display_name": "Python 3",
   "name": "python3"
  },
  "language_info": {
   "name": "python"
  }
 },
 "nbformat": 4,
 "nbformat_minor": 0
}
