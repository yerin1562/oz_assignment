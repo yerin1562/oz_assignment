{
 "cells": [
  {
   "cell_type": "code",
   "id": "initial_id",
   "metadata": {
    "collapsed": true,
    "ExecuteTime": {
     "end_time": "2024-10-15T05:35:15.566363Z",
     "start_time": "2024-10-15T05:35:15.554544Z"
    }
   },
   "source": [
    "# bool\n",
    "# 주의할점 True :X true    False :X false\n",
    "# 부등호\n",
    "\n",
    "3 == 3"
   ],
   "outputs": [
    {
     "data": {
      "text/plain": [
       "True"
      ]
     },
     "execution_count": 1,
     "metadata": {},
     "output_type": "execute_result"
    }
   ],
   "execution_count": 1
  },
  {
   "metadata": {
    "ExecuteTime": {
     "end_time": "2024-10-15T05:35:23.790484Z",
     "start_time": "2024-10-15T05:35:23.785255Z"
    }
   },
   "cell_type": "code",
   "source": "20!= 5\n",
   "id": "381b70b05255570a",
   "outputs": [
    {
     "data": {
      "text/plain": [
       "True"
      ]
     },
     "execution_count": 2,
     "metadata": {},
     "output_type": "execute_result"
    }
   ],
   "execution_count": 2
  },
  {
   "metadata": {
    "ExecuteTime": {
     "end_time": "2024-10-15T05:35:38.882189Z",
     "start_time": "2024-10-15T05:35:38.878053Z"
    }
   },
   "cell_type": "code",
   "source": "20 != 20",
   "id": "51fa0b8845a3326b",
   "outputs": [
    {
     "data": {
      "text/plain": [
       "False"
      ]
     },
     "execution_count": 4,
     "metadata": {},
     "output_type": "execute_result"
    }
   ],
   "execution_count": 4
  },
  {
   "metadata": {
    "ExecuteTime": {
     "end_time": "2024-10-15T05:36:28.968543Z",
     "start_time": "2024-10-15T05:36:28.963203Z"
    }
   },
   "cell_type": "code",
   "source": [
    "#문자열 비교\n",
    "\n",
    "\"python\" == \"Python\""
   ],
   "id": "e1af4adba799400",
   "outputs": [
    {
     "data": {
      "text/plain": [
       "False"
      ]
     },
     "execution_count": 5,
     "metadata": {},
     "output_type": "execute_result"
    }
   ],
   "execution_count": 5
  },
  {
   "metadata": {
    "ExecuteTime": {
     "end_time": "2024-10-15T06:00:00.310643Z",
     "start_time": "2024-10-15T06:00:00.306358Z"
    }
   },
   "cell_type": "code",
   "source": "5 >= 5",
   "id": "63760a9b77b39511",
   "outputs": [
    {
     "data": {
      "text/plain": [
       "True"
      ]
     },
     "execution_count": 6,
     "metadata": {},
     "output_type": "execute_result"
    }
   ],
   "execution_count": 6
  },
  {
   "metadata": {
    "ExecuteTime": {
     "end_time": "2024-10-15T06:03:45.093104Z",
     "start_time": "2024-10-15T06:03:45.075928Z"
    }
   },
   "cell_type": "code",
   "source": [
    "#중요  \n",
    "# ==, is 는 비슷하지만 ==는 값만을 비교하고 \n",
    "# is 는 객체의 타입까지 비교함\n",
    "\n",
    "print(3 is 3)\n",
    "print(3 == 3)\n",
    "print(3.0 is 3)\n",
    "print(3.0 == 3)\n",
    "\n",
    "#메모리 주소\n",
    "print(id(3.0))\n",
    "print(id(3))\n"
   ],
   "id": "ecb0323cb8c70175",
   "outputs": [
    {
     "name": "stdout",
     "output_type": "stream",
     "text": [
      "True\n",
      "True\n",
      "False\n",
      "True\n",
      "4520377328\n",
      "4476877168\n"
     ]
    },
    {
     "name": "stderr",
     "output_type": "stream",
     "text": [
      "<>:5: SyntaxWarning: \"is\" with a literal. Did you mean \"==\"?\n",
      "<>:7: SyntaxWarning: \"is\" with a literal. Did you mean \"==\"?\n",
      "<>:5: SyntaxWarning: \"is\" with a literal. Did you mean \"==\"?\n",
      "<>:7: SyntaxWarning: \"is\" with a literal. Did you mean \"==\"?\n",
      "/var/folders/dl/z4dcbq5n1v982gjnt3kgf7hw0000gn/T/ipykernel_2801/2603518351.py:5: SyntaxWarning: \"is\" with a literal. Did you mean \"==\"?\n",
      "  print(3 is 3)\n",
      "/var/folders/dl/z4dcbq5n1v982gjnt3kgf7hw0000gn/T/ipykernel_2801/2603518351.py:7: SyntaxWarning: \"is\" with a literal. Did you mean \"==\"?\n",
      "  print(3.0 is 3)\n"
     ]
    }
   ],
   "execution_count": 10
  },
  {
   "metadata": {},
   "cell_type": "code",
   "outputs": [],
   "execution_count": null,
   "source": "",
   "id": "a66d86ecabc81c18"
  },
  {
   "metadata": {},
   "cell_type": "markdown",
   "source": "미션: 값 비교에는 is 를 쓰면 안되는데 그 이유를 찾아서 기술 블로그에 작성하기",
   "id": "c706f7ab4449a482"
  },
  {
   "metadata": {
    "ExecuteTime": {
     "end_time": "2024-10-15T06:12:58.122616Z",
     "start_time": "2024-10-15T06:12:58.118257Z"
    }
   },
   "cell_type": "code",
   "source": [
    "#본격적인 논리연산자\n",
    "# True : 1 / False : 0\n",
    "\n",
    "print(True and True)  # 1*1=1\n",
    "print(True and False) # 1 * 0 =  0\n",
    "print(False and True) # 0 * 1 =  0\n",
    "print(False and False) #0 * 0 =  0\n",
    "\n"
   ],
   "id": "df4c3da8bab06097",
   "outputs": [
    {
     "name": "stdout",
     "output_type": "stream",
     "text": [
      "True\n",
      "False\n",
      "False\n",
      "False\n"
     ]
    }
   ],
   "execution_count": 11
  },
  {
   "metadata": {},
   "cell_type": "markdown",
   "source": "",
   "id": "b0387a6ba20f0866"
  },
  {
   "metadata": {
    "ExecuteTime": {
     "end_time": "2024-10-15T06:15:00.322969Z",
     "start_time": "2024-10-15T06:15:00.318849Z"
    }
   },
   "cell_type": "code",
   "source": [
    "print(True or True)  # 1 + 1 = 1 ?\n",
    "print(True or False) # 1 + 0 =  1\n",
    "print(False or True) # 0 + 1 =  1\n",
    "print(False or False) #0 + 0 =  0"
   ],
   "id": "ed91da3d8ec58b5d",
   "outputs": [
    {
     "name": "stdout",
     "output_type": "stream",
     "text": [
      "True\n",
      "True\n",
      "True\n",
      "False\n"
     ]
    }
   ],
   "execution_count": 12
  },
  {
   "metadata": {
    "ExecuteTime": {
     "end_time": "2024-10-15T06:17:39.045468Z",
     "start_time": "2024-10-15T06:17:39.040425Z"
    }
   },
   "cell_type": "code",
   "source": [
    "#not 반대로 바꿔라 \n",
    "\n",
    "print(not True)\n",
    "print(not False)\n"
   ],
   "id": "b3e98a4495001938",
   "outputs": [
    {
     "name": "stdout",
     "output_type": "stream",
     "text": [
      "False\n",
      "True\n"
     ]
    }
   ],
   "execution_count": 14
  },
  {
   "metadata": {
    "ExecuteTime": {
     "end_time": "2024-10-15T06:20:34.246142Z",
     "start_time": "2024-10-15T06:20:34.235900Z"
    }
   },
   "cell_type": "code",
   "source": [
    "# 점점 복잡해지는 조건들!!\n",
    "\n",
    "print(10 == 12 or 6 != 2)\n",
    "print(2 > 5 and 7 ==7)\n",
    "print(not 14 <= 15)\n",
    "print(not 7 is 7.0)"
   ],
   "id": "ca1d3328fad16fc5",
   "outputs": [
    {
     "name": "stdout",
     "output_type": "stream",
     "text": [
      "True\n",
      "False\n",
      "False\n",
      "True\n"
     ]
    },
    {
     "name": "stderr",
     "output_type": "stream",
     "text": [
      "<>:6: SyntaxWarning: \"is not\" with a literal. Did you mean \"!=\"?\n",
      "<>:6: SyntaxWarning: \"is not\" with a literal. Did you mean \"!=\"?\n",
      "/var/folders/dl/z4dcbq5n1v982gjnt3kgf7hw0000gn/T/ipykernel_2801/2307847086.py:6: SyntaxWarning: \"is not\" with a literal. Did you mean \"!=\"?\n",
      "  print(not 7 is 7.0)\n"
     ]
    }
   ],
   "execution_count": 15
  },
  {
   "metadata": {
    "ExecuteTime": {
     "end_time": "2024-10-15T06:22:23.566537Z",
     "start_time": "2024-10-15T06:22:23.562810Z"
    }
   },
   "cell_type": "code",
   "source": [
    "# 문자열 트루\n",
    "\n",
    "print(bool(\"힘들다\"))"
   ],
   "id": "80bf251d2f87c8f8",
   "outputs": [
    {
     "name": "stdout",
     "output_type": "stream",
     "text": [
      "True\n"
     ]
    }
   ],
   "execution_count": 17
  },
  {
   "metadata": {
    "ExecuteTime": {
     "end_time": "2024-10-15T06:25:39.963935Z",
     "start_time": "2024-10-15T06:25:39.957929Z"
    }
   },
   "cell_type": "code",
   "source": [
    "# 중요한 내용\n",
    "# 단락 평가\n",
    "# 단락평가는 앞부분만으로도 판단이 가능함 True and True 문은 뒤에 결과가 나옴\n",
    "\n",
    "print(False and True)\n",
    "print(False and \"힘들다\")\n",
    "print(True and False)\n",
    "\n",
    "print(True and \"힘들다\")\n",
    "print(True or \"힘들다\")\n",
    "print(\"힘들다\" and True)\n",
    "\n"
   ],
   "id": "ff596a3374347910",
   "outputs": [
    {
     "name": "stdout",
     "output_type": "stream",
     "text": [
      "False\n",
      "False\n",
      "False\n",
      "힘들다\n",
      "True\n",
      "True\n"
     ]
    }
   ],
   "execution_count": 25
  },
  {
   "metadata": {
    "ExecuteTime": {
     "end_time": "2024-10-15T07:01:47.337808Z",
     "start_time": "2024-10-15T07:01:47.324556Z"
    }
   },
   "cell_type": "code",
   "source": [
    "import random\n",
    "\n",
    "# 학생 변수 선언\n",
    "students = [\"강기연\", \"곽예린\", \"감예진\", \"김효은\", \"내한성\",\n",
    "            \"박솔비\", \"서백걸\", \"유효종\", \"이가을\", \"이정제\",\n",
    "            \"임홍민\", \"정미르\", \"조성옥\"]\n",
    "\n",
    "# 그룹 변수 순언\n",
    "groups = {\n",
    "    'group1': [],\n",
    "    'group2': [],\n",
    "    'group3': [],\n",
    "    'group4': [],\n",
    "    'group5': []\n",
    "}\n",
    "\n",
    "# 그룹별 인원 수를 위한 변수 선언\n",
    "group_sizes = {\n",
    "    'group1': 3,\n",
    "    'group2': 3,\n",
    "    'group3': 3,\n",
    "    'group4': 2,\n",
    "    'group5': 2\n",
    "}\n",
    "\n",
    "# 학생들을 랜덤으로 섞기\n",
    "random.shuffle(students)\n",
    "\n",
    "# 학생을 그룹에 배정하는 함수\n",
    "def health_check():\n",
    "\n",
    "    # 학생리스트의 인덱스번호로 사용할 변수 선언 (초기화 한다.)\n",
    "    student_index = 0\n",
    "\n",
    "    # group_sizes 변수(딕셔너리)의 아이템(키, 벨류)를 이용한 반복문\n",
    "    for group, size in group_sizes.items():\n",
    "\n",
    "        # 반복문 내부 변수 size를 이용한 반복분\n",
    "        for _ in range(size):\n",
    "\n",
    "            # 그룹변수의 group에 해당하는 키에 students 변수의 student_index에 해당하는 인덱스 번호를 가진 항목을 추가한다.\n",
    "            groups[group].append(students[student_index])\n",
    "\n",
    "            # 학생리스트의 인덱스번호로 사용할 변수에 1을 더해서 재선언\n",
    "            student_index += 1\n",
    "\n",
    "    # 추가 해놓은 그룹과 아이템을 터미널로 확인해보기\n",
    "    for group, members in groups.items():\n",
    "        print(group, \" : \", members)\n",
    "\n",
    "# 그룹 배정 실행\n",
    "health_check()"
   ],
   "id": "78f5ac42366954bc",
   "outputs": [
    {
     "name": "stdout",
     "output_type": "stream",
     "text": [
      "group1  :  ['조성옥', '임홍민', '유효종']\n",
      "group2  :  ['이정제', '이가을', '정미르']\n",
      "group3  :  ['내한성', '박솔비', '서백걸']\n",
      "group4  :  ['곽예린', '김효은']\n",
      "group5  :  ['감예진', '강기연']\n"
     ]
    }
   ],
   "execution_count": 26
  }
 ],
 "metadata": {
  "kernelspec": {
   "display_name": "Python 3",
   "language": "python",
   "name": "python3"
  },
  "language_info": {
   "codemirror_mode": {
    "name": "ipython",
    "version": 2
   },
   "file_extension": ".py",
   "mimetype": "text/x-python",
   "name": "python",
   "nbconvert_exporter": "python",
   "pygments_lexer": "ipython2",
   "version": "2.7.6"
  }
 },
 "nbformat": 4,
 "nbformat_minor": 5
}
