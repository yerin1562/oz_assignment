{
 "cells": [
  {
   "cell_type": "code",
   "id": "initial_id",
   "metadata": {
    "collapsed": true,
    "ExecuteTime": {
     "end_time": "2024-10-15T03:01:21.144427Z",
     "start_time": "2024-10-15T03:01:21.140358Z"
    }
   },
   "source": [
    "# f-string으로 모두 연습해보기\n",
    "# \n",
    "# int(integer) : 정수\n",
    "# float : 실수\n",
    "# str(string) : 문자\n",
    "# bool(bool, boolean) : 참 또는 거짓, true or false, 1 or 0\n",
    "# \n",
    "# list\n",
    "# tuple\n",
    "# dict\n",
    "# set"
   ],
   "outputs": [
    {
     "ename": "SyntaxError",
     "evalue": "invalid syntax (2116255977.py, line 7)",
     "output_type": "error",
     "traceback": [
      "\u001B[0;36m  Cell \u001B[0;32mIn[16], line 7\u001B[0;36m\u001B[0m\n\u001B[0;31m    ---\u001B[0m\n\u001B[0m       ^\u001B[0m\n\u001B[0;31mSyntaxError\u001B[0m\u001B[0;31m:\u001B[0m invalid syntax\n"
     ]
    }
   ],
   "execution_count": 16
  },
  {
   "metadata": {
    "ExecuteTime": {
     "end_time": "2024-10-15T02:30:30.766632Z",
     "start_time": "2024-10-15T02:30:30.753975Z"
    }
   },
   "cell_type": "code",
   "source": [
    "# 정수 : 1,2, 3, 4, -1, -2, -3\n",
    "# 실수 : 1.2, 3.3, 4.5 \n",
    "\n",
    "9.0 + 2"
   ],
   "id": "d6f6e590574e8edc",
   "outputs": [
    {
     "data": {
      "text/plain": [
       "11.0"
      ]
     },
     "execution_count": 1,
     "metadata": {},
     "output_type": "execute_result"
    }
   ],
   "execution_count": 1
  },
  {
   "metadata": {
    "ExecuteTime": {
     "end_time": "2024-10-15T02:32:13.497014Z",
     "start_time": "2024-10-15T02:32:13.185289Z"
    }
   },
   "cell_type": "code",
   "source": [
    "#box_num 에 숫자만 넣자는 약속을 했어요 누군가 한글 표기법으로 숫자를 넣었습니다. \n",
    "\n",
    "box_num = \"하나\"\n",
    "box_num += 1\n",
    "\n",
    "print(box_num)\n"
   ],
   "id": "432d07b713aaa764",
   "outputs": [
    {
     "ename": "TypeError",
     "evalue": "can only concatenate str (not \"int\") to str",
     "output_type": "error",
     "traceback": [
      "\u001B[0;31m---------------------------------------------------------------------------\u001B[0m",
      "\u001B[0;31mTypeError\u001B[0m                                 Traceback (most recent call last)",
      "Cell \u001B[0;32mIn[2], line 4\u001B[0m\n\u001B[1;32m      1\u001B[0m \u001B[38;5;66;03m#box_num 에 숫자만 넣자는 약속을 했어요 누군가 한글 표기법으로 숫자를 넣었습니다. \u001B[39;00m\n\u001B[1;32m      3\u001B[0m box_num \u001B[38;5;241m=\u001B[39m \u001B[38;5;124m\"\u001B[39m\u001B[38;5;124m하나\u001B[39m\u001B[38;5;124m\"\u001B[39m\n\u001B[0;32m----> 4\u001B[0m box_num \u001B[38;5;241m+\u001B[39m\u001B[38;5;241m=\u001B[39m \u001B[38;5;241m1\u001B[39m\n\u001B[1;32m      6\u001B[0m \u001B[38;5;28mprint\u001B[39m(box_num)\n",
      "\u001B[0;31mTypeError\u001B[0m: can only concatenate str (not \"int\") to str"
     ]
    }
   ],
   "execution_count": 2
  },
  {
   "metadata": {
    "ExecuteTime": {
     "end_time": "2024-10-15T02:32:53.999139Z",
     "start_time": "2024-10-15T02:32:53.992996Z"
    }
   },
   "cell_type": "code",
   "source": "type(box_num)",
   "id": "f7c2fefed552faf0",
   "outputs": [
    {
     "data": {
      "text/plain": [
       "str"
      ]
     },
     "execution_count": 3,
     "metadata": {},
     "output_type": "execute_result"
    }
   ],
   "execution_count": 3
  },
  {
   "metadata": {
    "ExecuteTime": {
     "end_time": "2024-10-15T02:34:19.331204Z",
     "start_time": "2024-10-15T02:34:19.326977Z"
    }
   },
   "cell_type": "code",
   "source": [
    "type(1)\n",
    "type(1.2)"
   ],
   "id": "5f76fc302e05e38c",
   "outputs": [
    {
     "data": {
      "text/plain": [
       "float"
      ]
     },
     "execution_count": 9,
     "metadata": {},
     "output_type": "execute_result"
    }
   ],
   "execution_count": 9
  },
  {
   "metadata": {
    "ExecuteTime": {
     "end_time": "2024-10-15T02:34:33.560405Z",
     "start_time": "2024-10-15T02:34:33.555533Z"
    }
   },
   "cell_type": "code",
   "source": [
    "#2여야 하는데?\n",
    "\n",
    "\n",
    "4/2 "
   ],
   "id": "1742db316d69a4a4",
   "outputs": [
    {
     "data": {
      "text/plain": [
       "2.0"
      ]
     },
     "execution_count": 10,
     "metadata": {},
     "output_type": "execute_result"
    }
   ],
   "execution_count": 10
  },
  {
   "metadata": {},
   "cell_type": "code",
   "outputs": [],
   "execution_count": null,
   "source": "",
   "id": "362cca986e26aa0b"
  },
  {
   "metadata": {},
   "cell_type": "markdown",
   "source": [
    "### 말그대로 형태를 변형한다: 형변환\n",
    "\n",
    "int, float\n",
    "\n",
    "int -> float  예) 5 -> 5.0 float(5)"
   ],
   "id": "732d863ade552af3"
  },
  {
   "metadata": {
    "ExecuteTime": {
     "end_time": "2024-10-15T02:53:43.439836Z",
     "start_time": "2024-10-15T02:53:43.435872Z"
    }
   },
   "cell_type": "code",
   "source": "print(float(5))",
   "id": "68d1dc5a23a1df2b",
   "outputs": [
    {
     "name": "stdout",
     "output_type": "stream",
     "text": [
      "5.0\n"
     ]
    }
   ],
   "execution_count": 11
  },
  {
   "metadata": {
    "ExecuteTime": {
     "end_time": "2024-10-15T02:53:58.925483Z",
     "start_time": "2024-10-15T02:53:58.920226Z"
    }
   },
   "cell_type": "code",
   "source": "print(int(5.0))",
   "id": "1f9d76ce3504d2f",
   "outputs": [
    {
     "name": "stdout",
     "output_type": "stream",
     "text": [
      "5\n"
     ]
    }
   ],
   "execution_count": 12
  },
  {
   "metadata": {
    "ExecuteTime": {
     "end_time": "2024-10-15T02:56:10.867348Z",
     "start_time": "2024-10-15T02:56:10.862442Z"
    }
   },
   "cell_type": "code",
   "source": [
    "#int 의 기능들 \n",
    "# 언더바 두개는 매직매소드\n",
    "\n",
    "나이 = 10 \n",
    "type(나이)\n",
    "print(dir(나이))"
   ],
   "id": "850676a13700864b",
   "outputs": [
    {
     "name": "stdout",
     "output_type": "stream",
     "text": [
      "['__abs__', '__add__', '__and__', '__bool__', '__ceil__', '__class__', '__delattr__', '__dir__', '__divmod__', '__doc__', '__eq__', '__float__', '__floor__', '__floordiv__', '__format__', '__ge__', '__getattribute__', '__getnewargs__', '__gt__', '__hash__', '__index__', '__init__', '__init_subclass__', '__int__', '__invert__', '__le__', '__lshift__', '__lt__', '__mod__', '__mul__', '__ne__', '__neg__', '__new__', '__or__', '__pos__', '__pow__', '__radd__', '__rand__', '__rdivmod__', '__reduce__', '__reduce_ex__', '__repr__', '__rfloordiv__', '__rlshift__', '__rmod__', '__rmul__', '__ror__', '__round__', '__rpow__', '__rrshift__', '__rshift__', '__rsub__', '__rtruediv__', '__rxor__', '__setattr__', '__sizeof__', '__str__', '__sub__', '__subclasshook__', '__truediv__', '__trunc__', '__xor__', 'as_integer_ratio', 'bit_length', 'conjugate', 'denominator', 'from_bytes', 'imag', 'numerator', 'real', 'to_bytes']\n"
     ]
    }
   ],
   "execution_count": 14
  },
  {
   "metadata": {
    "ExecuteTime": {
     "end_time": "2024-10-15T02:56:47.290345Z",
     "start_time": "2024-10-15T02:56:47.286326Z"
    }
   },
   "cell_type": "code",
   "source": [
    "print(나이.bit_length())\n",
    "print(bin(나이))"
   ],
   "id": "d7bf82e650f7d7db",
   "outputs": [
    {
     "name": "stdout",
     "output_type": "stream",
     "text": [
      "4\n",
      "0b1010\n"
     ]
    }
   ],
   "execution_count": 15
  },
  {
   "metadata": {},
   "cell_type": "code",
   "outputs": [],
   "execution_count": null,
   "source": "",
   "id": "cc7e737228cd6915"
  },
  {
   "metadata": {},
   "cell_type": "markdown",
   "source": [
    "메소드/ 내장함수/ 함수\n",
    "의 정의와 차이점"
   ],
   "id": "ddc9d40674e100f0"
  }
 ],
 "metadata": {
  "kernelspec": {
   "display_name": "Python 3",
   "language": "python",
   "name": "python3"
  },
  "language_info": {
   "codemirror_mode": {
    "name": "ipython",
    "version": 2
   },
   "file_extension": ".py",
   "mimetype": "text/x-python",
   "name": "python",
   "nbconvert_exporter": "python",
   "pygments_lexer": "ipython2",
   "version": "2.7.6"
  }
 },
 "nbformat": 4,
 "nbformat_minor": 5
}
