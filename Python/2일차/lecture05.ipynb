{
 "cells": [
  {
   "cell_type": "code",
   "id": "initial_id",
   "metadata": {
    "collapsed": true,
    "ExecuteTime": {
     "end_time": "2024-10-15T01:12:38.634053Z",
     "start_time": "2024-10-15T01:12:38.631527Z"
    }
   },
   "source": "",
   "outputs": [],
   "execution_count": null
  },
  {
   "metadata": {},
   "cell_type": "markdown",
   "source": "",
   "id": "820795a77646e65"
  },
  {
   "metadata": {},
   "cell_type": "markdown",
   "source": "",
   "id": "a2df6ac166e52704"
  },
  {
   "metadata": {
    "ExecuteTime": {
     "end_time": "2024-10-15T01:13:07.373565Z",
     "start_time": "2024-10-15T01:13:07.366683Z"
    }
   },
   "cell_type": "code",
   "source": [
    "# 아아: 5000원 / 이샷추 : 6500\n",
    "# # 아아 2잔 / 아샷추 3잔 \n",
    "\n",
    "(5000*2) +(6500*3)"
   ],
   "id": "58ac09757633ecf5",
   "outputs": [
    {
     "data": {
      "text/plain": [
       "29500"
      ]
     },
     "execution_count": 1,
     "metadata": {},
     "output_type": "execute_result"
    }
   ],
   "execution_count": 1
  },
  {
   "metadata": {
    "ExecuteTime": {
     "end_time": "2024-10-15T01:13:48.596656Z",
     "start_time": "2024-10-15T01:13:48.591878Z"
    }
   },
   "cell_type": "code",
   "source": [
    "# 어제 결제한 금액이 얼마였지?\n",
    "(5000*2) +(6500*3)"
   ],
   "id": "8e10f461c88218b6",
   "outputs": [
    {
     "data": {
      "text/plain": [
       "29500"
      ]
     },
     "execution_count": 2,
     "metadata": {},
     "output_type": "execute_result"
    }
   ],
   "execution_count": 2
  },
  {
   "metadata": {},
   "cell_type": "code",
   "outputs": [],
   "execution_count": null,
   "source": "",
   "id": "c9cbe534a93f2509"
  },
  {
   "metadata": {},
   "cell_type": "markdown",
   "source": [
    "### 변수란? (기본!!!)\n",
    ": 하나의 값을 저장할 수 있는 공간\n",
    "--> 숫자/ 문지/ list/ dict/ 함수 등 \n",
    "\n",
    "하나의 변수에 값을 넣을 때\n",
    "변수이름 = 값\n",
    "\n",
    "두개 이상의 변수의 하나의 값을 각각 넣을 때 \n",
    "변수이름1, 변수이름2 = 값1, 값2\n"
   ],
   "id": "4d286293869f9823"
  },
  {
   "metadata": {
    "ExecuteTime": {
     "end_time": "2024-10-15T01:19:13.976028Z",
     "start_time": "2024-10-15T01:19:13.970976Z"
    }
   },
   "cell_type": "code",
   "source": [
    "# 하나의 값을 변수에 넣을 때 \n",
    "\n",
    "num = 1\n",
    "print(num)\n",
    "\n",
    "#두개의 값을 변수에 넣을 때 \n",
    "num_1, num_2 = 1, 2\n",
    "print(num_1)\n",
    "print(num_2)\n",
    "\n",
    "print(num_1, num_2)"
   ],
   "id": "cacea99459c2b9f6",
   "outputs": [
    {
     "name": "stdout",
     "output_type": "stream",
     "text": [
      "1\n",
      "1\n",
      "2\n",
      "1 2\n"
     ]
    }
   ],
   "execution_count": 4
  },
  {
   "metadata": {},
   "cell_type": "code",
   "outputs": [],
   "execution_count": null,
   "source": "",
   "id": "e71bf686d61777bf"
  },
  {
   "metadata": {},
   "cell_type": "markdown",
   "source": "1 부터 5까지 숫자를 더하는 문제입니다. 단, 다음 숫자를 더하기 위해서 매번 새로운 줄에서 시작해야하는 조건이 있습니다. ",
   "id": "8b7171187693e869"
  },
  {
   "metadata": {
    "ExecuteTime": {
     "end_time": "2024-10-15T01:20:57.718321Z",
     "start_time": "2024-10-15T01:20:57.712941Z"
    }
   },
   "cell_type": "code",
   "source": [
    "#변수를 사용하지 않을 때 \n",
    "#이전에 계산된 결과를 저장할 수 있는 방법이 없음\n",
    "\n",
    "1+2\n",
    "1+2+3\n",
    "1+2+3+4\n",
    "1+2+3+4+5"
   ],
   "id": "25b990bd44fb77f0",
   "outputs": [
    {
     "data": {
      "text/plain": [
       "15"
      ]
     },
     "execution_count": 6,
     "metadata": {},
     "output_type": "execute_result"
    }
   ],
   "execution_count": 6
  },
  {
   "metadata": {
    "ExecuteTime": {
     "end_time": "2024-10-15T01:22:15.365422Z",
     "start_time": "2024-10-15T01:22:15.361351Z"
    }
   },
   "cell_type": "code",
   "source": [
    "# 변수를 사용할 때 \n",
    "#이전에 계산된 결과를 저장해서 사용할 수 있음\n",
    "\n",
    "sum = 1 + 2\n",
    "sum = sum + 3\n",
    "sum = sum + 4\n",
    "sum = sum + 5\n",
    "\n",
    "print(sum)\n"
   ],
   "id": "68558d432143762f",
   "outputs": [
    {
     "name": "stdout",
     "output_type": "stream",
     "text": [
      "15\n"
     ]
    }
   ],
   "execution_count": 7
  },
  {
   "metadata": {},
   "cell_type": "code",
   "outputs": [],
   "execution_count": null,
   "source": "",
   "id": "8e9d9695ce7b0b88"
  },
  {
   "metadata": {},
   "cell_type": "markdown",
   "source": [
    "### 할당: 변수에 값을 넣는 것 \n",
    "\n",
    "\n",
    "마크다운 언어에서 굳이 한줄 씩 띄우지 않아도 스페이스 두번이면 줄이 바뀜  \n",
    "sum = 1 + 2 => 1+2의 계산된 결과를 sum 이라는 변수에 할당한다\n",
    "\n",
    "sum 변수명이고 \"=\" 같다는 의미가 아니라 할당 (assignment)이라고 합니다. \n",
    "\n",
    "\"=\" : 할당 연산자 \n",
    "\"+\" : 산술 연산자\n",
    "\n",
    "+= 산술 후 바로 할당하는 문법\n",
    "/+, -=, *= 모두 가능"
   ],
   "id": "1b02b1846bbb5ef"
  },
  {
   "metadata": {
    "ExecuteTime": {
     "end_time": "2024-10-15T01:30:44.376213Z",
     "start_time": "2024-10-15T01:30:44.371490Z"
    }
   },
   "cell_type": "code",
   "source": [
    "# 변수를 사용하면서 가능한 문법\n",
    "\n",
    "# 변수를 사용할 때 \n",
    "#이전에 계산된 결과를 저장해서 사용할 수 있음\n",
    "\n",
    "sum = 1 + 2\n",
    "sum = sum + 3\n",
    "sum = sum + 4\n",
    "sum = sum + 5\n",
    "\n",
    "print(sum)\n",
    "\n",
    "sum2 = 1 + 2\n",
    "sum2 += 3\n",
    "sum2 += 4\n",
    "sum2 += 5\n",
    "\n",
    "print(sum2)\n"
   ],
   "id": "e573ccd54ec642ad",
   "outputs": [
    {
     "name": "stdout",
     "output_type": "stream",
     "text": [
      "15\n",
      "15\n"
     ]
    }
   ],
   "execution_count": 8
  },
  {
   "metadata": {
    "ExecuteTime": {
     "end_time": "2024-10-15T01:33:12.984985Z",
     "start_time": "2024-10-15T01:33:12.978271Z"
    }
   },
   "cell_type": "code",
   "source": [
    "# 주의!! 선언되지 않은 변수를 사용할 경우 에러 발생 / 자바나 씨언어는 가능\n",
    "\n",
    "sum3 = 0 \n",
    "sum3 += 1\n",
    "\n",
    "sum3"
   ],
   "id": "b1777d5b979de206",
   "outputs": [
    {
     "data": {
      "text/plain": [
       "1"
      ]
     },
     "execution_count": 12,
     "metadata": {},
     "output_type": "execute_result"
    }
   ],
   "execution_count": 12
  },
  {
   "metadata": {
    "ExecuteTime": {
     "end_time": "2024-10-15T01:34:05.957372Z",
     "start_time": "2024-10-15T01:34:05.954168Z"
    }
   },
   "cell_type": "code",
   "source": [
    "# 변수에 어떤값도 넣고 싶지 않고 선언하는 방법\n",
    "\n",
    "nothing = None\n",
    "nothing\n",
    "print(None)"
   ],
   "id": "2f1bed3d82df6cab",
   "outputs": [
    {
     "name": "stdout",
     "output_type": "stream",
     "text": [
      "None\n"
     ]
    }
   ],
   "execution_count": 13
  },
  {
   "metadata": {},
   "cell_type": "code",
   "outputs": [],
   "execution_count": null,
   "source": "",
   "id": "c43551319be879c3"
  },
  {
   "metadata": {},
   "cell_type": "markdown",
   "source": [
    "\n",
    "###변수를 만드는 규칙\n",
    "\n",
    "영문 문자와 숫자를 사용 가능  \n",
    "대소문자 구분  \n",
    "첫 글자는 대문자로 쓰는걸 지향함  \n",
    "문자부터 시작해야하며 숫자부터 시작하면 안됨  \n",
    "_ 로 시작할 수 있음  \n",
    "특수문자는 사용할 수 없음  \n",
    "파이썬의 키워드 (if, for, while, and, or 등)은 사용할 수 없음\n",
    "\n",
    "\n",
    "변수를 만들때는 다른사람이 동일한 생각을 떠올릴 수 있을만한 변수를 설정해야함"
   ],
   "id": "65dc95a9afb16b87"
  },
  {
   "metadata": {
    "ExecuteTime": {
     "end_time": "2024-10-15T01:39:22.993607Z",
     "start_time": "2024-10-15T01:39:22.990014Z"
    }
   },
   "cell_type": "code",
   "source": [
    "# 대소문자 구분\n",
    "\n",
    "BIG = '크다'\n",
    "big = \"작다\"\n",
    "\n",
    "print(BIG, big)"
   ],
   "id": "6b91da602e73f722",
   "outputs": [
    {
     "name": "stdout",
     "output_type": "stream",
     "text": [
      "크다 작다\n"
     ]
    }
   ],
   "execution_count": 14
  },
  {
   "metadata": {},
   "cell_type": "code",
   "outputs": [],
   "execution_count": null,
   "source": "",
   "id": "876aa69e52ebce41"
  },
  {
   "metadata": {},
   "cell_type": "markdown",
   "source": [
    "스네이크케이스 (snake case)\n",
    "변수명 : snake_case  _ 언더바가 뱀같아서\n",
    "\n",
    "카멜 케이스 (camel case)\n",
    "변수명 : camelCase  대문자로 구분하는게 낙타같대요?"
   ],
   "id": "f7bafb3e423286e2"
  },
  {
   "metadata": {
    "ExecuteTime": {
     "end_time": "2024-10-15T01:45:48.478980Z",
     "start_time": "2024-10-15T01:45:48.475419Z"
    }
   },
   "cell_type": "code",
   "source": [
    "# 코드 컨벤션 / 우리는 변수를 만들 때 스네이크케이스로 진행합니다. 언더바는 두개를 적용시켜주세요\n",
    "# 개발에 관련된 여러 조건을 명시하는 것들을 코드 컨벤션이라고 합니다.\n",
    "\n",
    "box__shoes = \"스니커즈\"\n",
    "box__hat = \"슈프림 모자\"\n",
    "\n",
    "print(box__hat)\n",
    "print(box__shoes)"
   ],
   "id": "2b5c60f20954e388",
   "outputs": [
    {
     "name": "stdout",
     "output_type": "stream",
     "text": [
      "슈프림 모자\n",
      "스니커즈\n"
     ]
    }
   ],
   "execution_count": 16
  },
  {
   "metadata": {
    "ExecuteTime": {
     "end_time": "2024-10-15T01:48:38.732394Z",
     "start_time": "2024-10-15T01:48:38.728249Z"
    }
   },
   "cell_type": "code",
   "source": [
    "#print () 포매팅 3가지 f-string : print(f'{변수명}')\n",
    "\n",
    "me = \"Yerin\"\n",
    "print(f\"{me}만 빼고 강아지 다 있어\")"
   ],
   "id": "91ae2f3fb30a02e3",
   "outputs": [
    {
     "name": "stdout",
     "output_type": "stream",
     "text": [
      "Yerin만 빼고 강아지 다 있어\n"
     ]
    }
   ],
   "execution_count": 18
  },
  {
   "metadata": {
    "ExecuteTime": {
     "end_time": "2024-10-15T01:55:06.707835Z",
     "start_time": "2024-10-15T01:55:06.704759Z"
    }
   },
   "cell_type": "code",
   "source": [
    "# 붕어빵 철이 돌아왔죠\n",
    "# 붕어빵(팥) : 2000원, 붕어빵 (슈크림) : 2500원, 붕어빵 (잡채) : 3000원\n",
    "# 무인 주문기계를 만들어주세요\n",
    "# 붕어빵 (잡채) 3개, 붕어빵 (슈크림) 2개를 주문히면 \n",
    "#\"주문이 완료되었습니다. 붕어빵 (슈크림) 2개, 붕어빵(잡채) 3개 총 5개 결제 금액은 14000원 입니다.\"\n",
    "# 이 출력되도록 코드를 작성해주세요.\n",
    "# 변수를 만들 때 스네이크 케이스에 언더바는 2개 / print()문의 포매팅은 f-string"
   ],
   "id": "e5cfea0667233fe8",
   "outputs": [],
   "execution_count": 19
  },
  {
   "metadata": {},
   "cell_type": "markdown",
   "source": "",
   "id": "374446a822c14368"
  },
  {
   "metadata": {
    "ExecuteTime": {
     "end_time": "2024-10-15T02:20:34.483564Z",
     "start_time": "2024-10-15T02:20:34.479084Z"
    }
   },
   "cell_type": "code",
   "source": [
    "#  변수값 입력\n",
    "fish__p, fish__s, fish__j = \"붕어빵(팥)\", \"붕어빵(슈크림)\", \"붕어빵(잡채)\"\n",
    "fish__p__sell, fish__s__sell, fish__j__sell = 2000, 2500, 3000\n",
    "order_s, order_j =  2, 3\n",
    "\n",
    "#붕어빵 계산 값\n",
    "order_s__pay, order_j__pay = fish__s__sell * 2, fish__j__sell * 3\n",
    "total = order_s + order_j\n",
    "total_pay = order_s__pay + order_j__pay\n",
    "\n",
    "\n",
    "print(f\"주문이 완료되었습니다. {fish__j} {order_j}개, {fish__s} {order_s}개 총 {total}개 결제 금액은 {total_pay}원 입니다.\")"
   ],
   "id": "736389f94cab14a9",
   "outputs": [
    {
     "name": "stdout",
     "output_type": "stream",
     "text": [
      "주문이 완료되었습니다. 붕어빵(잡채) 3개, 붕어빵(슈크림) 2개 총 5개 결제 금액은 14000원 입니다.\n"
     ]
    }
   ],
   "execution_count": 25
  }
 ],
 "metadata": {
  "kernelspec": {
   "display_name": "Python 3",
   "language": "python",
   "name": "python3"
  },
  "language_info": {
   "codemirror_mode": {
    "name": "ipython",
    "version": 2
   },
   "file_extension": ".py",
   "mimetype": "text/x-python",
   "name": "python",
   "nbconvert_exporter": "python",
   "pygments_lexer": "ipython2",
   "version": "2.7.6"
  }
 },
 "nbformat": 4,
 "nbformat_minor": 5
}
