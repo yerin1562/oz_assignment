{
 "cells": [
  {
   "cell_type": "markdown",
   "metadata": {
    "id": "WXEwMsfUct7U"
   },
   "source": [
    "안녕하세요.<br><br>\n",
    "수강생 여러분~! Chapter05 ~ 08 수업은 잘 들으셨나요?\n",
    "\n",
    "Chapter05 ~ 08의 수업 내용을 바탕으로 아래 문제를 풀어주시면 됩니다.\n",
    "\n",
    "[**답변 입력 방법**]\n",
    "\n",
    "문제 아래에 있는 코드 입력창에 정답코드를 작성하신 후 ▷ 버튼을 클릭해 코드를 실행해보세요<br>"
   ]
  },
  {
   "cell_type": "markdown",
   "metadata": {
    "id": "qoyC9wF-3hvs"
   },
   "source": [
    "-----"
   ]
  },
  {
   "cell_type": "markdown",
   "metadata": {
    "id": "rAD_O3Gmc_43"
   },
   "source": [
    "[문제1]\n",
    "\n",
    "변수명 게임에 들어 있는 값 중 '홀'만 출력되도록 코드를 작성해 주세요\n",
    "\n",
    "게임 = \"홀짝홀짝홀짝\"\n",
    "\n",
    "출력 예시 : \"홀홀홀\"\n"
   ]
  },
  {
   "cell_type": "code",
   "metadata": {
    "id": "74wtVQFFc_h1",
    "ExecuteTime": {
     "end_time": "2024-10-15T07:20:45.251944Z",
     "start_time": "2024-10-15T07:20:45.247655Z"
    }
   },
   "source": [
    "게임 = \"홀짝홀짝홀짝홀짝\"\n",
    "\n",
    "\n",
    "print(게임[0:7:2])"
   ],
   "outputs": [
    {
     "name": "stdout",
     "output_type": "stream",
     "text": [
      "홀홀홀홀\n"
     ]
    }
   ],
   "execution_count": 24
  },
  {
   "cell_type": "markdown",
   "metadata": {},
   "source": [
    "---"
   ]
  },
  {
   "cell_type": "markdown",
   "metadata": {
    "id": "3uK_auXYdgk2"
   },
   "source": [
    "[문제2]\n",
    "\n",
    "변수명 전화번호에 들어 있는 번호를 모두 붙여서 출력되도록 코드를 작성해주세요\n",
    "\n",
    "전화번호 = \"010-1234-5678\"\n",
    "\n",
    "출력 예시 : \"01012345678\""
   ]
  },
  {
   "cell_type": "code",
   "metadata": {
    "id": "9kvBxa6PdhgA",
    "ExecuteTime": {
     "end_time": "2024-10-15T07:20:51.040538Z",
     "start_time": "2024-10-15T07:20:51.034987Z"
    }
   },
   "source": [
    "전화번호 = \"010-1234-5678\"\n",
    "앞 = 전화번호[0:3]\n",
    "중간 = 전화번호[4:8]\n",
    "뒤 = 전화번호[9:14]\n",
    "\n",
    "print(f\"{앞}{중간}{뒤}\")"
   ],
   "outputs": [
    {
     "name": "stdout",
     "output_type": "stream",
     "text": [
      "01012345678\n"
     ]
    }
   ],
   "execution_count": 25
  },
  {
   "cell_type": "markdown",
   "metadata": {},
   "source": [
    "----"
   ]
  },
  {
   "cell_type": "markdown",
   "metadata": {
    "id": "2Jte2VLKdiPm"
   },
   "source": [
    "[문제3]\n",
    "\n",
    "창의성, 시장성, 안정성, 수익성에 대한 각각의 평가 중 아래 기준에 부합하지 못하면 창업지원을 받을 수 없습니다.\n",
    "\n",
    "- 수익성 60점 이상\n",
    "- 창의성과 시장성 50점 이상\n",
    "- 시장성과 수익성을 더한 값의 절반이 안정성 보다 높아야 함\n",
    "\n",
    "다음 점수가 입력되었을때 창업 지원이 가능한지 여부를 True 또는 False로 출력해주세요\n",
    "\n",
    "---\n",
    "\n",
    "창의성 : 62\n",
    "시장성 : 71\n",
    "안정성 : 68\n",
    "수익성 : 66"
   ]
  },
  {
   "cell_type": "code",
   "metadata": {
    "id": "XJhvRO-2djBh",
    "ExecuteTime": {
     "end_time": "2024-10-15T07:20:57.537706Z",
     "start_time": "2024-10-15T07:20:57.529563Z"
    }
   },
   "source": [
    "창의성 = 62\n",
    "시장성 = 71\n",
    "안정성 = 68\n",
    "수익성 = 66\n",
    "#else 가 필수?\n",
    "\n",
    "if 수익성 >= 60:\n",
    "    if 창의성 >= 50 and 시장성 >= 50:\n",
    "        if (시장성 + 수익성) / 2 > 안정성:\n",
    "            print(True)\n",
    "        else:\n",
    "            print(False)\n",
    "    else:\n",
    "        print(False)\n",
    "else:\n",
    "    print(False)\n",
    "\n"
   ],
   "outputs": [
    {
     "name": "stdout",
     "output_type": "stream",
     "text": [
      "True\n"
     ]
    }
   ],
   "execution_count": 26
  },
  {
   "cell_type": "markdown",
   "metadata": {},
   "source": [
    "#### 모험가들의 레벨업 도전\n",
    "\n",
    "[배경 이야기]\n",
    "\n",
    "당신은 마법사, 전사, 도적, 힐러 네 명의 모험가를 이끄는 리더입니다. \n",
    "\n",
    "각 캐릭터는 힘, 민첩, 지능, 체력이라는 능력치를 가지고 있습니다. 이 능력치들을 이용해 다양한 도전을 해결하고 사냥을 통해 경험치를 얻어 레벨업을 해야 합니다.\n",
    "\n",
    "[동료 캐릭터와 능력치 정보]\n",
    "\n",
    "마법사: 힘(10), 민첩(20), 지능(80), 체력(50)\n",
    "\n",
    "전사: 힘(80), 민첩(30), 지능(20), 체력(100)\n",
    "\n",
    "도적: 힘(40), 민첩(80), 지능(30), 체력(60)\n",
    "\n",
    "힐러: 힘(20), 민첩(40), 지능(70), 체력(70)"
   ]
  },
  {
   "cell_type": "markdown",
   "metadata": {},
   "source": [
    "[문제 1: 첫 번째 사냥]\n",
    "\n",
    "마법사는 몬스터를 사냥하기 위해 마법을 사용합니다. \n",
    "\n",
    "마법을 사용하려면 지능이 50 이상이어야 합니다. 마법사의 지능이 50 이상인지 확인하세요."
   ]
  },
  {
   "cell_type": "code",
   "metadata": {
    "ExecuteTime": {
     "end_time": "2024-10-15T07:21:03.173188Z",
     "start_time": "2024-10-15T07:21:03.168502Z"
    }
   },
   "source": [
    "마법사_힘 = 10\n",
    "마법사_민첩 = 20\n",
    "마법사_지능 = 80\n",
    "마법사_체력 = 50\n",
    "\n",
    "if 마법사_지능 >= 50: \n",
    "    print(True) \n"
   ],
   "outputs": [
    {
     "name": "stdout",
     "output_type": "stream",
     "text": [
      "True\n"
     ]
    }
   ],
   "execution_count": 27
  },
  {
   "cell_type": "markdown",
   "metadata": {},
   "source": [
    "[문제 2: 두 번째 사냥]\n",
    "\n",
    "전사는 강력한 공격을 하기 위해 자신의 힘을 사용합니다. 전사의 힘이 60 이상이고 체력이 80 이상인지 확인하세요."
   ]
  },
  {
   "cell_type": "code",
   "metadata": {
    "ExecuteTime": {
     "end_time": "2024-10-15T07:21:05.466961Z",
     "start_time": "2024-10-15T07:21:05.462214Z"
    }
   },
   "source": [
    "전사_힘 = 80\n",
    "전사_민첩 = 30\n",
    "전사_지능 = 20\n",
    "전사_체력 = 100\n",
    "\n",
    "if 전사_힘 >= 60 and 전사_체력 >= 80:\n",
    "    print(True)\n",
    "else: \n",
    "    print(False)"
   ],
   "outputs": [
    {
     "name": "stdout",
     "output_type": "stream",
     "text": [
      "True\n"
     ]
    }
   ],
   "execution_count": 28
  },
  {
   "cell_type": "markdown",
   "metadata": {},
   "source": [
    "[문제 3: 세 번째 사냥]\n",
    "\n",
    "도적은 민첩함을 이용해 몬스터를 회피하고 공격합니다. 도적의 민첩이 70 이상이거나 힘이 50 이상인지 확인하세요."
   ]
  },
  {
   "cell_type": "code",
   "metadata": {
    "ExecuteTime": {
     "end_time": "2024-10-15T07:21:07.665130Z",
     "start_time": "2024-10-15T07:21:07.660355Z"
    }
   },
   "source": [
    "도적_힘 = 40\n",
    "도적_민첩 = 80\n",
    "도적_지능 = 30\n",
    "도적_체력 = 60\n",
    "\n",
    "if 도적_민첩 >= 70 or 도적_힘 >= 50:\n",
    "    print(True)\n",
    "else: \n",
    "    print(False)"
   ],
   "outputs": [
    {
     "name": "stdout",
     "output_type": "stream",
     "text": [
      "True\n"
     ]
    }
   ],
   "execution_count": 29
  },
  {
   "cell_type": "markdown",
   "metadata": {},
   "source": [
    "[문제 4: 네 번째 사냥]\n",
    "\n",
    "힐러는 파티의 체력을 회복시키기 위해 마법을 사용합니다. 힐러의 지능이 60 이상이고, 체력이 50 이상인지 확인하세요."
   ]
  },
  {
   "cell_type": "code",
   "metadata": {
    "ExecuteTime": {
     "end_time": "2024-10-15T07:21:09.500380Z",
     "start_time": "2024-10-15T07:21:09.495019Z"
    }
   },
   "source": [
    "힐러_힘 = 20\n",
    "힐러_민첩 =40\n",
    "힐러_지능 =70\n",
    "힐러_체력 = 70\n",
    "\n",
    "if 힐러_지능 >= 60 and 힐러_체력 >= 50:\n",
    "    print(True)\n",
    "else:\n",
    "    print(False)"
   ],
   "outputs": [
    {
     "name": "stdout",
     "output_type": "stream",
     "text": [
      "True\n"
     ]
    }
   ],
   "execution_count": 30
  },
  {
   "cell_type": "markdown",
   "metadata": {},
   "source": [
    "[문제 5: 레벨업]\n",
    "\n",
    "모든 캐릭터가 사냥을 성공적으로 마쳤습니다. 이제 경험치를 얻어 레벨업을 해야 합니다. 각 캐릭터의 경험치는 다음과 같습니다\n",
    "\n",
    "[경험치]\n",
    "\n",
    "마법사: 120\n",
    "\n",
    "전사: 150\n",
    "\n",
    "도적: 110\n",
    "\n",
    "힐러: 90\n",
    "\n",
    "각 캐릭터의 경험치가 100 이상인지 print()를 이용해 확인해주세요"
   ]
  },
  {
   "cell_type": "code",
   "metadata": {
    "ExecuteTime": {
     "end_time": "2024-10-15T07:21:16.878476Z",
     "start_time": "2024-10-15T07:21:16.871886Z"
    }
   },
   "source": [
    "마법사_e = 120\n",
    "전사_e = 150\n",
    "도적_e = 110\n",
    "힐러_e = 90\n",
    "\n",
    "if 마법사_e >= 100:\n",
    "    print(f\" 마법사 레벨업 : {True}\")\n",
    "else: \n",
    "    print(f\" 마법사 레벨업 : {False}\")\n",
    "    \n",
    "    \n",
    "if 전사_e >= 100:\n",
    "    print(f\" 전사 레벨업 : {True}\")\n",
    "else: \n",
    "    print(f\" 전사 레벨업 : {False}\")\n",
    "    \n",
    "    \n",
    "if 도적_e >= 100:\n",
    "    print(f\" 도적 레벨업 : {True}\")\n",
    "else: \n",
    "    print(f\" 도적 레벨업 : {False}\")\n",
    "    \n",
    "    \n",
    "if 힐러_e >= 100:\n",
    "    print(f\" 힐러 레벨업 : {True}\")\n",
    "else: \n",
    "    print(f\" 힐러 레벨업 : {False}\")\n",
    "    \n",
    "\n",
    "\n",
    "    "
   ],
   "outputs": [
    {
     "name": "stdout",
     "output_type": "stream",
     "text": [
      " 마법사 레벨업 : True\n",
      " 전사 레벨업 : True\n",
      " 도적 레벨업 : True\n",
      " 힐러 레벨업 : False\n"
     ]
    }
   ],
   "execution_count": 33
  }
 ],
 "metadata": {
  "colab": {
   "authorship_tag": "ABX9TyP7YKA5FdtGggYfD74V7SMJ",
   "provenance": []
  },
  "kernelspec": {
   "display_name": "Python 3 (ipykernel)",
   "name": "python3",
   "language": "python"
  },
  "language_info": {
   "name": "python"
  }
 },
 "nbformat": 4,
 "nbformat_minor": 0
}
