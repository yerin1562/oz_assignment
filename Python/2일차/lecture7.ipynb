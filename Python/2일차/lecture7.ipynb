{
 "cells": [
  {
   "cell_type": "code",
   "execution_count": null,
   "id": "initial_id",
   "metadata": {
    "collapsed": true
   },
   "outputs": [],
   "source": ""
  },
  {
   "metadata": {},
   "cell_type": "markdown",
   "source": [
    "### 자료형 종류\n",
    "\n",
    "int(integer) : 정수  \n",
    "float : 실수  \n",
    "str(string) : 문자  \n",
    "bool(bool, boolean) : 참 또는 거짓, true or false, 1 or 0  \n",
    "\n",
    "---\n",
    "list  \n",
    "tuple  \n",
    "dict  \n",
    "set  \n"
   ],
   "id": "3f6fe367e9876c7e"
  },
  {
   "metadata": {},
   "cell_type": "markdown",
   "source": "",
   "id": "1cbd8c13b052d427"
  },
  {
   "metadata": {
    "ExecuteTime": {
     "end_time": "2024-10-15T04:28:24.092854Z",
     "start_time": "2024-10-15T04:28:24.088218Z"
    }
   },
   "cell_type": "code",
   "source": [
    "이름 = \"곽예린\"\n",
    "나이 = 24\n",
    "키 = 155\n",
    "소속 = \"오즈 코딩스쿨\"\n",
    "\n",
    "print(type(이름))\n",
    "print(type(나이))\n",
    "print(type(키))\n",
    "print(type(소속))\n",
    "\n"
   ],
   "id": "caa774e0136e077e",
   "outputs": [
    {
     "name": "stdout",
     "output_type": "stream",
     "text": [
      "<class 'str'>\n",
      "<class 'int'>\n",
      "<class 'int'>\n",
      "<class 'str'>\n"
     ]
    }
   ],
   "execution_count": 8
  },
  {
   "metadata": {
    "ExecuteTime": {
     "end_time": "2024-10-15T04:24:29.460790Z",
     "start_time": "2024-10-15T04:24:29.457219Z"
    }
   },
   "cell_type": "code",
   "source": [
    "#문자열 형변환\n",
    "\n",
    "print(type(\"5\"), type(\"5.0\"))"
   ],
   "id": "9ab32b10a3ffd8fc",
   "outputs": [
    {
     "name": "stdout",
     "output_type": "stream",
     "text": [
      "<class 'str'> <class 'str'>\n"
     ]
    }
   ],
   "execution_count": 4
  },
  {
   "metadata": {},
   "cell_type": "code",
   "outputs": [],
   "execution_count": null,
   "source": "",
   "id": "f2427e1f362ae154"
  },
  {
   "metadata": {},
   "cell_type": "markdown",
   "source": [
    "str: 문자열  \n",
    "특징: 시퀀스 자료형  \n",
    "시퀀스란? 요소들이 연속적으로 이어진 자료형  \n",
    "값 하나하나를 요소라고 합니다\n"
   ],
   "id": "493e60ee58441aa5"
  },
  {
   "metadata": {
    "ExecuteTime": {
     "end_time": "2024-10-15T04:28:37.733233Z",
     "start_time": "2024-10-15T04:28:37.728895Z"
    }
   },
   "cell_type": "code",
   "source": [
    "# 0: 인덱스\n",
    "print(소속)\n",
    "print(소속[0])\n",
    "print(소속[1])\n",
    "print(소속[2])\n",
    "print(소속[3])\n",
    "print(소속[4])\n",
    "print(소속[5])\n",
    "print(소속[6])\n"
   ],
   "id": "6f08c20e4055161c",
   "outputs": [
    {
     "name": "stdout",
     "output_type": "stream",
     "text": [
      "오즈 코딩스쿨\n",
      "오\n",
      "즈\n",
      " \n",
      "코\n",
      "딩\n",
      "스\n",
      "쿨\n"
     ]
    }
   ],
   "execution_count": 10
  },
  {
   "metadata": {
    "ExecuteTime": {
     "end_time": "2024-10-15T04:29:40.735902Z",
     "start_time": "2024-10-15T04:29:40.731373Z"
    }
   },
   "cell_type": "code",
   "source": [
    "\"쿨\" in 소속\n",
    "\"3\"  in 소속"
   ],
   "id": "51b02a27b81cc631",
   "outputs": [
    {
     "data": {
      "text/plain": [
       "False"
      ]
     },
     "execution_count": 13,
     "metadata": {},
     "output_type": "execute_result"
    }
   ],
   "execution_count": 13
  },
  {
   "metadata": {
    "ExecuteTime": {
     "end_time": "2024-10-15T04:30:15.654944Z",
     "start_time": "2024-10-15T04:30:15.649869Z"
    }
   },
   "cell_type": "code",
   "source": [
    "# 문자열 즉 시퀀스끼리 합치기\n",
    "\n",
    "\"13 \" + \"금요일\""
   ],
   "id": "c288cfb5f98e7cd1",
   "outputs": [
    {
     "data": {
      "text/plain": [
       "'13 금요일'"
      ]
     },
     "execution_count": 16,
     "metadata": {},
     "output_type": "execute_result"
    }
   ],
   "execution_count": 16
  },
  {
   "metadata": {
    "ExecuteTime": {
     "end_time": "2024-10-15T04:40:30.368955Z",
     "start_time": "2024-10-15T04:40:30.362447Z"
    }
   },
   "cell_type": "code",
   "source": [
    "# 복사가 가능\n",
    "\n",
    "옛날게임 = \"바니바니 당근당근\" * 20 \n",
    "\n",
    "print(옛날게임)\n",
    "\n",
    "len(옛날게임)"
   ],
   "id": "21183827ec65cfa3",
   "outputs": [
    {
     "name": "stdout",
     "output_type": "stream",
     "text": [
      "바니바니 당근당근바니바니 당근당근바니바니 당근당근바니바니 당근당근바니바니 당근당근바니바니 당근당근바니바니 당근당근바니바니 당근당근바니바니 당근당근바니바니 당근당근바니바니 당근당근바니바니 당근당근바니바니 당근당근바니바니 당근당근바니바니 당근당근바니바니 당근당근바니바니 당근당근바니바니 당근당근바니바니 당근당근바니바니 당근당근\n"
     ]
    },
    {
     "data": {
      "text/plain": [
       "180"
      ]
     },
     "execution_count": 19,
     "metadata": {},
     "output_type": "execute_result"
    }
   ],
   "execution_count": 19
  },
  {
   "metadata": {},
   "cell_type": "code",
   "outputs": [],
   "execution_count": null,
   "source": "",
   "id": "3b74be5c3fd02e32"
  },
  {
   "metadata": {},
   "cell_type": "markdown",
   "source": "",
   "id": "3cca7fd1608247e"
  },
  {
   "metadata": {
    "ExecuteTime": {
     "end_time": "2024-10-15T04:43:31.297199Z",
     "start_time": "2024-10-15T04:43:31.293452Z"
    }
   },
   "cell_type": "code",
   "source": [
    "퀴즈 = \"차 4대가 고장나면? 카포에라\"\n",
    "#슬라이싱: 마지막 글자 는 1을 더해서 숫자를 표현해야 제대로 나옴\n",
    "\n",
    "print(퀴즈[12:16])\n",
    "print(퀴즈[12:15])\n",
    "\n"
   ],
   "id": "cb52755de7a3bcab",
   "outputs": [
    {
     "name": "stdout",
     "output_type": "stream",
     "text": [
      "카포에라\n",
      "카포에\n"
     ]
    }
   ],
   "execution_count": 20
  },
  {
   "metadata": {
    "ExecuteTime": {
     "end_time": "2024-10-15T04:45:00.582320Z",
     "start_time": "2024-10-15T04:45:00.577122Z"
    }
   },
   "cell_type": "code",
   "source": [
    "퀴즈[15]\n",
    "퀴즈[-1]"
   ],
   "id": "ba49b4ec13848959",
   "outputs": [
    {
     "data": {
      "text/plain": [
       "'라'"
      ]
     },
     "execution_count": 22,
     "metadata": {},
     "output_type": "execute_result"
    }
   ],
   "execution_count": 22
  },
  {
   "metadata": {
    "ExecuteTime": {
     "end_time": "2024-10-15T04:47:12.510487Z",
     "start_time": "2024-10-15T04:47:12.506290Z"
    }
   },
   "cell_type": "code",
   "source": [
    "생년월일 = \"2000.06.18\"\n",
    "년 = 생년월일[0:4]\n",
    "월 = 생년월일[5:7]\n",
    "일 = 생년월일[8:11]\n",
    "\n",
    "print(f\"{년}년 {월}월 {일}일\")"
   ],
   "id": "c26fcd8ee010f423",
   "outputs": [
    {
     "name": "stdout",
     "output_type": "stream",
     "text": [
      "2000년 06월 18일\n"
     ]
    }
   ],
   "execution_count": 25
  },
  {
   "metadata": {
    "ExecuteTime": {
     "end_time": "2024-10-15T04:56:50.338755Z",
     "start_time": "2024-10-15T04:56:50.334743Z"
    }
   },
   "cell_type": "code",
   "source": [
    "숫자 = \"123657635216\"\n",
    "#전체출력 [시작:끝: 간격]\n",
    "print(숫자[::])\n",
    "\n",
    "# 전체출력\n",
    "print(숫자[::-1])\n",
    "\n",
    "#첫번째 인덱스 기준으로 2칸씩 띄어쓰기 출력하기\n",
    "print(숫자[::2])\n",
    "\n",
    "print(숫자[4:1:-1])\n",
    "print(숫자[4:])"
   ],
   "id": "cb5c0dc2dc6b451e",
   "outputs": [
    {
     "name": "stdout",
     "output_type": "stream",
     "text": [
      "123657635216\n",
      "612536756321\n",
      "135651\n",
      "563\n",
      "57635216\n"
     ]
    }
   ],
   "execution_count": 32
  },
  {
   "metadata": {
    "ExecuteTime": {
     "end_time": "2024-10-15T05:00:06.216846Z",
     "start_time": "2024-10-15T05:00:06.213163Z"
    }
   },
   "cell_type": "code",
   "source": [
    "quiz =\"스님이 공중에 뜬다를 6글자로 말하면? 어중이떠중이\"\n",
    "\n",
    "len(quiz)\n",
    "\n",
    "print(quiz[22:29])"
   ],
   "id": "bcbcf55f53233758",
   "outputs": [
    {
     "name": "stdout",
     "output_type": "stream",
     "text": [
      "어중이떠중이\n"
     ]
    }
   ],
   "execution_count": 39
  },
  {
   "metadata": {
    "ExecuteTime": {
     "end_time": "2024-10-15T05:00:56.272643Z",
     "start_time": "2024-10-15T05:00:56.268465Z"
    }
   },
   "cell_type": "code",
   "source": [
    "과일 = \"apple\"\n",
    "과일.count(\"p\")"
   ],
   "id": "b1ed93f090b1b23b",
   "outputs": [
    {
     "data": {
      "text/plain": [
       "2"
      ]
     },
     "execution_count": 40,
     "metadata": {},
     "output_type": "execute_result"
    }
   ],
   "execution_count": 40
  },
  {
   "metadata": {
    "ExecuteTime": {
     "end_time": "2024-10-15T05:01:27.527852Z",
     "start_time": "2024-10-15T05:01:27.522907Z"
    }
   },
   "cell_type": "code",
   "source": [
    "과일[2]\n",
    "과일.index(\"p\")"
   ],
   "id": "cf97b2518e83b4a",
   "outputs": [
    {
     "data": {
      "text/plain": [
       "1"
      ]
     },
     "execution_count": 41,
     "metadata": {},
     "output_type": "execute_result"
    }
   ],
   "execution_count": 41
  },
  {
   "metadata": {},
   "cell_type": "markdown",
   "source": "",
   "id": "cc6ebc2c396b3927"
  },
  {
   "metadata": {
    "ExecuteTime": {
     "end_time": "2024-10-15T05:31:16.961141Z",
     "start_time": "2024-10-15T05:31:16.954416Z"
    }
   },
   "cell_type": "code",
   "source": [
    "라라랜드 = \"사람들은 다른 사람들의 열정에 끌리게 되어있어 자신이 잊은 걸 상기시켜 주니까\"\n",
    "\n",
    "print(type(라라랜드))\n",
    "#copy\n",
    "print(라라랜드 *3)\n",
    "\n",
    "#true or false\n",
    "print(\"열정\" in 라라랜드)\n",
    "\n",
    "#count\n",
    "print(라라랜드.count(\"상기\"))\n",
    "\n",
    "print(len(라라랜드))\n",
    "\n",
    "#index\n",
    "print(라라랜드[0:4])\n",
    "print(라라랜드[::])\n",
    "\n",
    "keyword__1 = 라라랜드[13:15]\n",
    "keyword__2 = 라라랜드[35:37]\n",
    "\n",
    "print(f\"중요한건 {keyword__1}이야, 자신이 잊은걸 {keyword__2}시켜주거든 \")\n",
    "\n",
    "print(라라랜드[::-1])\n",
    "print(라라랜드[::3])"
   ],
   "id": "392a10307f200940",
   "outputs": [
    {
     "name": "stdout",
     "output_type": "stream",
     "text": [
      "<class 'str'>\n",
      "사람들은 다른 사람들의 열정에 끌리게 되어있어 자신이 잊은 걸 상기시켜 주니까사람들은 다른 사람들의 열정에 끌리게 되어있어 자신이 잊은 걸 상기시켜 주니까사람들은 다른 사람들의 열정에 끌리게 되어있어 자신이 잊은 걸 상기시켜 주니까\n",
      "True\n",
      "1\n",
      "43\n",
      "사람들은\n",
      "사람들은 다른 사람들의 열정에 끌리게 되어있어 자신이 잊은 걸 상기시켜 주니까\n",
      "중요한건 열정이야, 자신이 잊은걸 상기시켜주거든 \n",
      "까니주 켜시기상 걸 은잊 이신자 어있어되 게리끌 에정열 의들람사 른다 은들람사\n",
      "사은른람 에리되어신잊걸기 까\n"
     ]
    }
   ],
   "execution_count": 58
  },
  {
   "metadata": {},
   "cell_type": "code",
   "outputs": [],
   "execution_count": null,
   "source": "",
   "id": "e01843f3c00e543e"
  }
 ],
 "metadata": {
  "kernelspec": {
   "display_name": "Python 3",
   "language": "python",
   "name": "python3"
  },
  "language_info": {
   "codemirror_mode": {
    "name": "ipython",
    "version": 2
   },
   "file_extension": ".py",
   "mimetype": "text/x-python",
   "name": "python",
   "nbconvert_exporter": "python",
   "pygments_lexer": "ipython2",
   "version": "2.7.6"
  }
 },
 "nbformat": 4,
 "nbformat_minor": 5
}
