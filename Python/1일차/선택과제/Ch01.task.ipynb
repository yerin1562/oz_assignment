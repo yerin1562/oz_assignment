{
 "cells": [
  {
   "cell_type": "markdown",
   "metadata": {},
   "source": [
    "<span style=\"font-size:100%\">\n",
    "\n",
    "수업은 모두 열심히 들으셨나요?\n",
    "\n",
    "간혹 강의에서 언급되지 않은 내용이 문제로 나올 수 있습니다.<br>\n",
    "그럴땐 강의 내용 외 문제는 구글링을 통해 해결해주세요<br></span>\n",
    "<span style=\"font-size:80%\">\n",
    "(구글링 또한 개발자가 갖쳐야할 역량 중에 하나랍니다 😊)\n",
    "</span>\n",
    "\n",
    "---"
   ]
  },
  {
   "cell_type": "markdown",
   "metadata": {},
   "source": [
    "<span style=\"font-size:80%\">[문제1]<br><br></span>\n",
    "```인터프리트 방식에 대해 설명하고 2개 이상의 장점을 설명해주세요```"
   ]
  },
  {
   "cell_type": "markdown",
   "metadata": {},
   "source": [
    "<span style=\"color:red\">답변</span>"
   ]
  },
  {
   "cell_type": "markdown",
   "metadata": {},
   "source": [
    "인터프리트 방식이란 컴파일 방식과 대조되는 방식으로 코드를 순서대로 번역하는 방식\n",
    "\n",
    "장점 : \n",
    "- 번역속도가 빠름\n",
    "- 코드를 한줄씩 실행하기 때문에 즉각적인 실행과 피드백이 가능함\n",
    "- 플랫폼이 독립적임 다양한 플랫폼에서 쉽게 실행 가\n"
   ]
  },
  {
   "cell_type": "markdown",
   "metadata": {},
   "source": [
    "---"
   ]
  },
  {
   "cell_type": "markdown",
   "metadata": {},
   "source": [
    "<span style=\"font-size:80%\">[문제2]<br><br></span>\n",
    "```동적 타입 방식의 장점과 단점을 간략히 설명해주세요```"
   ]
  },
  {
   "cell_type": "markdown",
   "metadata": {},
   "source": [
    "<span style=\"color:red\">답변</span>"
   ]
  },
  {
   "cell_type": "markdown",
   "metadata": {},
   "source": [
    "장점: - 유연성이 높고 효율적이라 개발자가 사용하기 편함\n",
    "\n",
    "단점: - 코드가 길고 복잡할 경우 문제 해결이 어려움\n"
   ]
  },
  {
   "cell_type": "markdown",
   "metadata": {},
   "source": [
    "---"
   ]
  },
  {
   "cell_type": "markdown",
   "metadata": {},
   "source": [
    "<span style=\"font-size:80%\">[문제3]<br><br></span>\n",
    "```Python으로 정적타입 방식의 코드를 작성할 수 있는 방법을 구글링을 통해 검색 후 설명해주세요```"
   ]
  },
  {
   "cell_type": "markdown",
   "metadata": {},
   "source": [
    "<span style=\"color:red\">답변</span>"
   ]
  },
  {
   "cell_type": "markdown",
   "metadata": {},
   "source": [
    "타입 힌트 사용하기\n",
    "정수와 문자열만 허용하는 리스트\n",
    "문자열, 실수, 부울 순서로 된 튜플\n",
    "문자열 키와 바이트 값을 가진 딕셔너리\n",
    "제네릭 함수와 클래스 등을 추가하여 타입힌트를 활용할 수 있다"
   ]
  },
  {
   "cell_type": "markdown",
   "metadata": {},
   "source": [
    "---"
   ]
  },
  {
   "cell_type": "markdown",
   "metadata": {},
   "source": [
    "<span style=\"font-size:80%\">[문제4]<br><br></span>\n",
    "```프로세스와 스레드의 차이점을 설명해주세요```"
   ]
  },
  {
   "cell_type": "markdown",
   "metadata": {},
   "source": [
    "<span style=\"color:red\">답변</span>"
   ]
  },
  {
   "cell_type": "markdown",
   "metadata": {},
   "source": [
    "프로세스는 프로그램을 실행한 작업의 단위 \n",
    "\n",
    "스레드는 작업(프로세스)의 실행 흐름 --> 프로세스의 한계를 해결하기 위해 만들어짐\n",
    "\n",
    "즉 스레드는 프로세스의 속한 일부라고 할 수 있음\n",
    "\n",
    "프로그램 > 프로세스 > 스레드 이렇게 정리할 수 있다"
   ]
  },
  {
   "cell_type": "markdown",
   "metadata": {},
   "source": [
    "---"
   ]
  },
  {
   "cell_type": "markdown",
   "metadata": {},
   "source": [
    "<span style=\"font-size:80%\">[문제5]<br><br></span>\n",
    "```Python 2버전대와 3버전대의 차이를 성명해주세요```"
   ]
  },
  {
   "cell_type": "markdown",
   "metadata": {},
   "source": [
    "<span style=\"color:red\">답변</span>"
   ]
  },
  {
   "cell_type": "markdown",
   "metadata": {},
   "source": [
    "1. print 문의 괄호 여부\n",
    "- python2 는 문자열에 괄호를 필요로 하지 않음\n",
    "\n",
    "2. 문자열 처리\n",
    "- py 2 기본 문자열 처리: ASCII\n",
    "- py 3 기본 문자열 처리: 유니코드\n",
    "\n",
    "3. 나누기\n",
    "- py 2 나누기 시 정수 부분만 반환\n",
    "- py 3 /, // 나누어서 반환 가능"
   ]
  },
  {
   "cell_type": "markdown",
   "metadata": {},
   "source": [
    "---"
   ]
  },
  {
   "cell_type": "markdown",
   "metadata": {},
   "source": [
    "<span style=\"font-size:80%\">[문제6]<br><br></span>\n",
    "```Python에서 메모리 관리는 어떻게 이루어지는지 설명해주세요```"
   ]
  },
  {
   "cell_type": "markdown",
   "metadata": {},
   "source": [
    "<span style=\"color:red\">답변</span>"
   ]
  },
  {
   "cell_type": "markdown",
   "metadata": {},
   "source": [
    "자동 메모리 관리\n",
    "Garbage Collector\n",
    "- reference counting\n",
    "- generational garbage collection\n",
    "\n",
    "목적\n",
    "- 실수로 인한 메모리 누수나 시스템 충돌 방지\n",
    "- 개발속도 증진 (메모리 관리 신경 x)\n",
    "\n",
    "단점\n",
    "- 추가적인 메모리 연산이 필요함\n",
    "- stop-the-world 현상이 나타남\n"
   ]
  },
  {
   "metadata": {},
   "cell_type": "code",
   "outputs": [],
   "execution_count": null,
   "source": ""
  }
 ],
 "metadata": {
  "language_info": {
   "name": "python"
  }
 },
 "nbformat": 4,
 "nbformat_minor": 2
}
