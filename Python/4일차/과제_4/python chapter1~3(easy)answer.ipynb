{
 "cells": [
  {
   "metadata": {},
   "cell_type": "markdown",
   "source": [
    "# 파이썬 1~3일차 쪽지시험\n",
    "<br>\n",
    "<br>\n",
    "\n",
    "\n",
    "\n",
    "\n",
    "\n",
    "## 리스트 컴프리헨션이란?!\n",
    "### 리스트 컴프리헨션은 직관적으로 리스트를 생성하는 방법입니다. 대괄호 \"[\", \"]\"로 감싸고 내부에 for문과 if 문을 사용하여 반복하며 조건에 만족하는 것만 리스트로 생성할 수 있습니다.\n",
    "### 리스트 컴프리헨션은 for문에서 반복되는 변수를 콜론(:)다음에 줄을 바꿔 들여쓰기하는것이 아니라, for문앞에 작성합니다."
   ],
   "id": "5ce5aa2babe14282"
  },
  {
   "metadata": {},
   "cell_type": "markdown",
   "source": [
    "## 문제 1\n",
    "### 오즈코딩스쿨에서 코딩을 처음 시작한 박상훈!\n",
    "### 박상훈에게는 덩치, 애기라는 도마뱀이 있습니다.\n",
    "### 도마뱀의 나이는 각각 1살 2살 입니다.\n",
    "### 각 도마뱀의 이름으로 변수를 선언하고 각 도마뱀의 나이를 할당해주세요!!"
   ],
   "id": "136e2d85abe685b9"
  },
  {
   "metadata": {
    "ExecuteTime": {
     "end_time": "2024-10-18T01:27:24.237417Z",
     "start_time": "2024-10-18T01:27:24.234787Z"
    }
   },
   "cell_type": "code",
   "outputs": [],
   "execution_count": 218,
   "source": [
    "# 정답 입력\n",
    "덩치 = 1\n",
    "애기 = 2"
   ],
   "id": "8e5a1ab9c30b38a7"
  },
  {
   "metadata": {},
   "cell_type": "markdown",
   "source": [
    "## 문제 2\n",
    "### 박상훈의 `도마뱀 변수`들을 사용하여 `도마뱀 리스트`를 만들어 주세요!"
   ],
   "id": "94e68ef24ba3e5f7"
  },
  {
   "metadata": {
    "ExecuteTime": {
     "end_time": "2024-10-18T01:27:24.252050Z",
     "start_time": "2024-10-18T01:27:24.250042Z"
    }
   },
   "cell_type": "code",
   "source": [
    "# 정담 입력\n",
    "도마뱀 = [덩치, 애기]\n",
    "\n",
    "print(도마뱀)"
   ],
   "id": "b8334aff8ce27138",
   "outputs": [
    {
     "name": "stdout",
     "output_type": "stream",
     "text": [
      "[1, 2]\n"
     ]
    }
   ],
   "execution_count": 219
  },
  {
   "metadata": {},
   "cell_type": "markdown",
   "source": [
    "## 문제 3\n",
    "### 박상훈이 도마뱀을 새로 샀어요!\n",
    "### 도마뱀의 이름은 마고, 나이는 2살이에요!\n",
    "### `도마뱀 리스트`에 가장 끝에 추가해주세요!!"
   ],
   "id": "454fe842db180fc"
  },
  {
   "metadata": {
    "ExecuteTime": {
     "end_time": "2024-10-18T01:27:24.269138Z",
     "start_time": "2024-10-18T01:27:24.267191Z"
    }
   },
   "cell_type": "code",
   "source": [
    "# 정답 입력\n",
    "마고 = 2\n",
    "\n",
    "도마뱀.append(마고)\n",
    "print(도마뱀)"
   ],
   "id": "3ec1ef1be2927b78",
   "outputs": [
    {
     "name": "stdout",
     "output_type": "stream",
     "text": [
      "[1, 2, 2]\n"
     ]
    }
   ],
   "execution_count": 220
  },
  {
   "metadata": {},
   "cell_type": "markdown",
   "source": [
    "## 문제 4\n",
    "### 박상훈의 도마뱀들의 나이를 더해 주세요!!"
   ],
   "id": "20ccbdf20f857d13"
  },
  {
   "metadata": {
    "ExecuteTime": {
     "end_time": "2024-10-18T01:27:24.293741Z",
     "start_time": "2024-10-18T01:27:24.292090Z"
    }
   },
   "cell_type": "code",
   "source": [
    "# 정답 입력\n",
    "\n",
    "# 원초적인 방법\n",
    "나이 = 도마뱀[0] + 도마뱀[1] + 도마뱀[2]\n",
    "\n",
    "print(나이)\n",
    "\n",
    "# 함수 사용\n",
    "print(sum(도마뱀))"
   ],
   "id": "3ebc179d264d3866",
   "outputs": [
    {
     "name": "stdout",
     "output_type": "stream",
     "text": [
      "5\n",
      "5\n"
     ]
    }
   ],
   "execution_count": 221
  },
  {
   "metadata": {},
   "cell_type": "markdown",
   "source": [
    "## 문제 5\n",
    "### 박상훈의 `도마뱀 리스트`를 사용하여 \"사육장\"이라는 딕셔너리를 만들어주세요!"
   ],
   "id": "eea768f4f558a28a"
  },
  {
   "metadata": {
    "ExecuteTime": {
     "end_time": "2024-10-18T01:27:24.313469Z",
     "start_time": "2024-10-18T01:27:24.311493Z"
    }
   },
   "cell_type": "code",
   "source": [
    "# 정답 입력\n",
    "\n",
    "# 원초적인 방법\n",
    "사육장 = {\n",
    "    \"덩치\": 도마뱀[0],\n",
    "    \"애기\": 도마뱀[1],\n",
    "    \"마고\": 도마뱀[2],\n",
    "}\n",
    "print(사육장)\n",
    "\n",
    "이름 = [\"덩치\", \"애기\", \"마고\"]\n",
    "\n",
    "# for문 사용\n",
    "사육장0 = {}\n",
    "\n",
    "for i in range(len(이름)):\n",
    "    사육장0[이름[i]] = 도마뱀[i]\n",
    "\n",
    "print(사육장0)\n",
    "\n",
    "# 리스트 컴프리헨션 사용\n",
    "사육장01 = {이름[i]: 도마뱀[i] for i in range(len(이름))}\n",
    "\n",
    "print(사육장01)"
   ],
   "id": "49874bd7d6ee7c2d",
   "outputs": [
    {
     "name": "stdout",
     "output_type": "stream",
     "text": [
      "{'덩치': 1, '애기': 2, '마고': 2}\n",
      "{'덩치': 1, '애기': 2, '마고': 2}\n",
      "{'덩치': 1, '애기': 2, '마고': 2}\n"
     ]
    }
   ],
   "execution_count": 222
  },
  {
   "metadata": {},
   "cell_type": "markdown",
   "source": [
    "## 문제 6\n",
    "### 사육장 딕셔너리를 `key, value` 형태로 출력해주세요!"
   ],
   "id": "a7b973b398f00642"
  },
  {
   "metadata": {
    "ExecuteTime": {
     "end_time": "2024-10-18T01:27:24.330273Z",
     "start_time": "2024-10-18T01:27:24.328428Z"
    }
   },
   "cell_type": "code",
   "source": [
    "# 정답 입력\n",
    "\n",
    "# 함수 사용\n",
    "print(f'key : {list(사육장.keys())}, value : {list(사육장.values())}')\n",
    "\n",
    "# for문 사용\n",
    "for i, j in 사육장0.items():\n",
    "    print(i, j)\n",
    "    \n",
    "# 리스트 컴프리헨션 사용\n",
    "print([f\"{i}, {j}\" for i, j in 사육장01.items()])"
   ],
   "id": "94544cb2f847228f",
   "outputs": [
    {
     "name": "stdout",
     "output_type": "stream",
     "text": [
      "key : ['덩치', '애기', '마고'], value : [1, 2, 2]\n",
      "덩치 1\n",
      "애기 2\n",
      "마고 2\n",
      "['덩치, 1', '애기, 2', '마고, 2']\n"
     ]
    }
   ],
   "execution_count": 223
  },
  {
   "metadata": {},
   "cell_type": "markdown",
   "source": [
    "## 문제 7\n",
    "### 도마뱀들의 나이를 `실수형태`로 출력해주세요!"
   ],
   "id": "a9aa1a28e60e6bf8"
  },
  {
   "metadata": {
    "ExecuteTime": {
     "end_time": "2024-10-18T01:27:24.348322Z",
     "start_time": "2024-10-18T01:27:24.346616Z"
    }
   },
   "cell_type": "code",
   "source": [
    "# 정답 입력\n",
    "\n",
    "# 원초적인 방법\n",
    "print(f'''\n",
    "{float(사육장[\"덩치\"])}\n",
    "{float(사육장[\"애기\"])}\n",
    "{float(사육장[\"마고\"])}\n",
    "''')\n",
    "\n",
    "# for문 사용\n",
    "for i, j in 사육장0.items():\n",
    "    print(float(j))\n",
    "    \n",
    "# 리스트 컴프리헨션\n",
    "print([float(j) for i, j in 사육장01.items()])"
   ],
   "id": "2183407c40686977",
   "outputs": [
    {
     "name": "stdout",
     "output_type": "stream",
     "text": [
      "\n",
      "1.0\n",
      "2.0\n",
      "2.0\n",
      "\n",
      "1.0\n",
      "2.0\n",
      "2.0\n",
      "[1.0, 2.0, 2.0]\n"
     ]
    }
   ],
   "execution_count": 224
  },
  {
   "metadata": {},
   "cell_type": "markdown",
   "source": [
    "## 문제 8\n",
    "### 1년이 지났습니다.\n",
    "### 도마뱀들이 1살씩 나이를 먹었어요\n",
    "### 도마뱀들의 나이를 바꿔주세요!"
   ],
   "id": "43428aabdee55513"
  },
  {
   "metadata": {
    "ExecuteTime": {
     "end_time": "2024-10-18T01:27:24.367027Z",
     "start_time": "2024-10-18T01:27:24.365097Z"
    }
   },
   "cell_type": "code",
   "source": [
    "# 정답 입력\n",
    "\n",
    "# 원초적인 방법\n",
    "사육장[\"덩치\"] += 1\n",
    "사육장[\"애기\"] += 1\n",
    "사육장[\"마고\"] += 1\n",
    "print(사육장)\n",
    "\n",
    "# for문 사용\n",
    "for i in 사육장0.keys():\n",
    "    사육장0[i] += 1\n",
    "print(사육장0)\n",
    "\n",
    "# 리스트 컴프리헨션(출력만 됨)\n",
    "print([f\"{i}: {j + 1}\" for i, j in 사육장01.items()])"
   ],
   "id": "286dc862809e7e80",
   "outputs": [
    {
     "name": "stdout",
     "output_type": "stream",
     "text": [
      "{'덩치': 2, '애기': 3, '마고': 3}\n",
      "{'덩치': 2, '애기': 3, '마고': 3}\n",
      "['덩치: 2', '애기: 3', '마고: 3']\n"
     ]
    }
   ],
   "execution_count": 225
  },
  {
   "metadata": {},
   "cell_type": "markdown",
   "source": [
    "## 문제 9\n",
    "### n년이 지났을 때 도마뱀의 나이가 알고 싶어 졌어요!!\n",
    "### `input` 을 이용해서 n년차 도마뱀들의 나이를 출력해주세요!"
   ],
   "id": "ed5d1e1503e37223"
  },
  {
   "metadata": {
    "ExecuteTime": {
     "end_time": "2024-10-18T01:27:27.164315Z",
     "start_time": "2024-10-18T01:27:24.381326Z"
    }
   },
   "cell_type": "code",
   "source": [
    "# 정답 입력\n",
    "\n",
    "# 원초적인 방법\n",
    "plus = int(input())\n",
    "\n",
    "사육장[\"덩치\"] += plus\n",
    "사육장[\"애기\"] += plus\n",
    "사육장[\"마고\"] += plus\n",
    "print(사육장)\n",
    "\n",
    "# for문 사용\n",
    "for i in 사육장0.keys():\n",
    "    사육장0[i] += plus\n",
    "print(사육장0)\n",
    "\n",
    "# 리스트 컴프리헨션 사용(출력만 됨)\n",
    "print([f\"{i}: {j + plus}\" for i, j in 사육장01.items()])"
   ],
   "id": "7a8db95dd6192d42",
   "outputs": [
    {
     "name": "stdout",
     "output_type": "stream",
     "text": [
      "{'덩치': 12, '애기': 13, '마고': 13}\n",
      "{'덩치': 12, '애기': 13, '마고': 13}\n",
      "['덩치: 11', '애기: 12', '마고: 12']\n"
     ]
    }
   ],
   "execution_count": 226
  },
  {
   "metadata": {},
   "cell_type": "markdown",
   "source": [
    "## 문제 10\n",
    "### 5년이 지났습니다\n",
    "### 우리 도마뱀들이 너무 커서 사육장을 분리해야해요!\n",
    "### 딕셔너리로 나누었던 것을 사육장1, 2, 3 `리스트`로 변경하고\n",
    "### 각 도마뱀들을 넣어주세요!"
   ],
   "id": "3e3fd38bd44d9b2e"
  },
  {
   "metadata": {
    "ExecuteTime": {
     "end_time": "2024-10-18T01:27:27.199814Z",
     "start_time": "2024-10-18T01:27:27.197564Z"
    }
   },
   "cell_type": "code",
   "source": [
    "# 정답 입력\n",
    "\n",
    "# 원초적인 방법\n",
    "사육장1 = [사육장[\"덩치\"]]\n",
    "사육장2 = [사육장[\"애기\"]]\n",
    "사육장3 = [사육장[\"마고\"]]\n",
    "print(사육장1, 사육장2, 사육장3)  \n",
    "\n",
    "# 리스트 컴프리헨션 사용\n",
    "사육장1, 사육장2, 사육장3 = [사육장0[이름[i]] for i in range(len(이름))]\n",
    "print(사육장1, 사육장2, 사육장3)"
   ],
   "id": "95ad0c7878164214",
   "outputs": [
    {
     "name": "stdout",
     "output_type": "stream",
     "text": [
      "[12] [13] [13]\n",
      "12 13 13\n"
     ]
    }
   ],
   "execution_count": 227
  },
  {
   "metadata": {},
   "cell_type": "markdown",
   "source": "",
   "id": "e9add10bf3ea4774"
  }
 ],
 "metadata": {
  "kernelspec": {
   "display_name": "Python 3",
   "language": "python",
   "name": "python3"
  },
  "language_info": {
   "codemirror_mode": {
    "name": "ipython",
    "version": 2
   },
   "file_extension": ".py",
   "mimetype": "text/x-python",
   "name": "python",
   "nbconvert_exporter": "python",
   "pygments_lexer": "ipython2",
   "version": "2.7.6"
  }
 },
 "nbformat": 4,
 "nbformat_minor": 5
}
