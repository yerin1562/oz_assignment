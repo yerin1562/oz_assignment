{
 "cells": [
  {
   "metadata": {},
   "cell_type": "markdown",
   "source": [
    "안녕하세요. 수강생 여러분~! Chapter17 ~ 20 수업은 잘 들으셨나요?\n",
    "\n",
    "Chapter17 ~ 20의 수업 내용을 바탕으로 아래 문제를 풀어주시면 됩니다.\n",
    "\n",
    "[**답변 입력 방법**]\n",
    "\n",
    "문제 아래에 있는 코드 입력창에 정답코드를 작성하신 후 ▷ 버튼을 클릭해 코드를 실행해보세요<br>"
   ],
   "id": "216e5562943c5980"
  },
  {
   "metadata": {},
   "cell_type": "markdown",
   "source": [
    "[문제1]\n",
    "\n",
    "print_even 리스트 내에 있는 값 중 짝수만 화면에 출력되도록 print_score 함수를 생성 후 결과값을 출력해주세요\n",
    "\n",
    "print_even ([1, 3, 2, 10, 12, 11, 15])"
   ],
   "id": "a5b03b3bb5ee441"
  },
  {
   "metadata": {
    "id": "PTqEeebbLmCA",
    "ExecuteTime": {
     "end_time": "2024-10-20T05:48:08.910474Z",
     "start_time": "2024-10-20T05:48:08.903273Z"
    }
   },
   "cell_type": "code",
   "outputs": [
    {
     "name": "stdout",
     "output_type": "stream",
     "text": [
      "2\n",
      "10\n",
      "12\n"
     ]
    },
    {
     "data": {
      "text/plain": [
       "[2, 10, 12]"
      ]
     },
     "execution_count": 17,
     "metadata": {},
     "output_type": "execute_result"
    }
   ],
   "execution_count": 17,
   "source": [
    "print_even = [1, 3, 2, 10, 12, 11, 15]\n",
    "\n",
    "def print_score():\n",
    "    even_numbers = []\n",
    "    for num in print_even:\n",
    "        if num % 2 == 0:\n",
    "            even_numbers.append(num)\n",
    "            print(num)\n",
    "    return even_numbers\n",
    "    \n",
    "\n",
    "\n",
    "even_numbers = print_score()\n",
    "even_numbers\n",
    "    "
   ],
   "id": "2108cb17d944dd01"
  },
  {
   "metadata": {},
   "cell_type": "markdown",
   "source": "---",
   "id": "c2442fe02c63ace9"
  },
  {
   "metadata": {},
   "cell_type": "markdown",
   "source": [
    "[문제2]\n",
    "\n",
    "비어있는 오즈 (oz) 클래스를 \"정의\" 해보세요."
   ],
   "id": "73cfe3e7c84d91e3"
  },
  {
   "metadata": {
    "id": "dJbcWWlwL0iK",
    "ExecuteTime": {
     "end_time": "2024-10-20T05:57:27.146799Z",
     "start_time": "2024-10-20T05:57:27.143053Z"
    }
   },
   "cell_type": "code",
   "outputs": [],
   "execution_count": 27,
   "source": [
    "class Oz():\n",
    "    def define(self):\n",
    "        self\n",
    "    "
   ],
   "id": "9111c829a807c011"
  },
  {
   "metadata": {},
   "cell_type": "markdown",
   "source": "---",
   "id": "24c92695c11252ea"
  },
  {
   "metadata": {},
   "cell_type": "markdown",
   "source": [
    "[문제3]\n",
    "\n",
    "오즈(oz) 클래스의 인스턴스를 \"생성\" 하고 이를 coding 변수로 할당해보세요."
   ],
   "id": "619910da08cf4e01"
  },
  {
   "metadata": {
    "id": "5NhWiuULL2Xa",
    "ExecuteTime": {
     "end_time": "2024-10-20T05:59:38.356834Z",
     "start_time": "2024-10-20T05:59:38.353497Z"
    }
   },
   "cell_type": "code",
   "outputs": [],
   "execution_count": 29,
   "source": [
    "class Oz():\n",
    "    def define(self):\n",
    "        self\n",
    "\n",
    "coding = Oz()"
   ],
   "id": "ef6f4e366da26a6a"
  },
  {
   "metadata": {},
   "cell_type": "markdown",
   "source": "---",
   "id": "5f3413d745f9de84"
  },
  {
   "metadata": {},
   "cell_type": "markdown",
   "source": [
    "[문제4]\n",
    "\n",
    "오즈(oz) 클래스에 \"클래스 정복\"을 출력하는 기본 생성자를 추가해주세요"
   ],
   "id": "758a0f05fb218ddb"
  },
  {
   "metadata": {
    "id": "Zq35PXA0L3-m",
    "ExecuteTime": {
     "end_time": "2024-10-20T06:22:34.056869Z",
     "start_time": "2024-10-20T06:22:34.052166Z"
    }
   },
   "cell_type": "code",
   "outputs": [
    {
     "name": "stdout",
     "output_type": "stream",
     "text": [
      "클래스 정복\n"
     ]
    }
   ],
   "execution_count": 34,
   "source": [
    "class Oz():\n",
    "    def define(self):\n",
    "        print(\"클래스 정복\")\n",
    "\n",
    "coding = Oz()\n",
    "coding.define()"
   ],
   "id": "70b4db4e81619b43"
  },
  {
   "metadata": {},
   "cell_type": "markdown",
   "source": "---",
   "id": "c8d6bd73760df772"
  },
  {
   "metadata": {},
   "cell_type": "markdown",
   "source": [
    "[문제5]\n",
    "\n",
    "오즈 (oz) 클래스에 (이름, 나이, 코딩레벨)을 받는 생성자를 추가해주세요\n",
    "\n",
    "coding = oz(\"김코\", 30, \"A\")\n"
   ],
   "id": "d5227ac87dc5a30f"
  },
  {
   "metadata": {
    "id": "A7h3I8CWL5ox",
    "ExecuteTime": {
     "end_time": "2024-10-20T06:24:08.389092Z",
     "start_time": "2024-10-20T06:24:08.384037Z"
    }
   },
   "cell_type": "code",
   "outputs": [
    {
     "name": "stdout",
     "output_type": "stream",
     "text": [
      "김코\n"
     ]
    }
   ],
   "execution_count": 40,
   "source": [
    "class Oz():\n",
    "    def __init__(self, name, age, level):\n",
    "        self.name = name\n",
    "        self.age = age\n",
    "        self.level = level\n",
    "        \n",
    "coding = Oz(\"김코\", 30, \"A\")\n"
   ],
   "id": "f763d9033d99b2e2"
  },
  {
   "metadata": {},
   "cell_type": "markdown",
   "source": "---",
   "id": "67c0741469e09cec"
  },
  {
   "metadata": {},
   "cell_type": "markdown",
   "source": [
    "[문제6]\n",
    "\n",
    "5번 문제에서 생성한 인스턴스의 이름, 나이, 성별을 출력해주세요.\n",
    "인스턴스 변수에 접근하여 값을 출력하면 됩니다  : )\n",
    "\n",
    "출력 결과  \n",
    "이름 : 김코  \n",
    "나이 : 30  \n",
    "코딩레벨 : A  "
   ],
   "id": "c60ed74defa2b400"
  },
  {
   "metadata": {
    "id": "qCrPejI_L8Wr",
    "ExecuteTime": {
     "end_time": "2024-10-20T06:28:50.678501Z",
     "start_time": "2024-10-20T06:28:50.673326Z"
    }
   },
   "cell_type": "code",
   "outputs": [
    {
     "name": "stdout",
     "output_type": "stream",
     "text": [
      "이름: 김코\n",
      "나이: 30\n",
      "코딩레벨: A\n"
     ]
    }
   ],
   "execution_count": 46,
   "source": [
    "class Oz():\n",
    "    def __init__(self, name, age, level):\n",
    "        self.name = name\n",
    "        self.age = age\n",
    "        self.level = level\n",
    "        \n",
    "coding = Oz(\"김코\", 30, \"A\")\n",
    "print(\"이름:\", coding.name)\n",
    "print(\"나이:\", coding.age)\n",
    "print(\"코딩레벨:\", coding.level)\n",
    "\n",
    "# print(\"이름:\", coding.name,\n",
    "#       \"나이:\", coding.age, \n",
    "#       \"코딩레벨:\", coding.level)\n",
    "\n",
    "\n"
   ],
   "id": "1895e0e8d2469446"
  },
  {
   "metadata": {},
   "cell_type": "markdown",
   "source": "---",
   "id": "704e5dca56207d74"
  },
  {
   "metadata": {},
   "cell_type": "markdown",
   "source": [
    "[뮨제7]\n",
    "\n",
    "오즈 (oz) 클래스에서 이름, 나이, 성별을 출력하는 who() 메소드를 추가하고 who()메소드를 이용해 아래 출력 결과를 만들어주세요\n",
    "\n",
    "\n",
    "출력 결과 : 이름: 김코, 나이: 30, 코딩레벨: A"
   ],
   "id": "afac70b3a7c35ad4"
  },
  {
   "metadata": {
    "id": "fvrvm87vL_HZ",
    "ExecuteTime": {
     "end_time": "2024-10-20T06:44:21.102655Z",
     "start_time": "2024-10-20T06:44:21.096682Z"
    }
   },
   "cell_type": "code",
   "outputs": [
    {
     "name": "stdout",
     "output_type": "stream",
     "text": [
      "이름: 김코\n",
      "나이: 30\n",
      "성별: 여\n",
      "코딩레벨: A\n"
     ]
    }
   ],
   "execution_count": 55,
   "source": [
    "class Oz():\n",
    "    def who(self, name, age, sex, level):\n",
    "        self.name = name\n",
    "        self.age = age\n",
    "        self.sex = sex\n",
    "        self.level = level\n",
    "\n",
    "coding = Oz()\n",
    "coding.who(\"김코\", 30, \"여\", \"A\")\n",
    "\n",
    "print(\"이름:\", coding.name)\n",
    "print(\"나이:\", coding.age)\n",
    "print(\"성별:\", coding.sex)\n",
    "print(\"코딩레벨:\", coding.level)\n",
    "\n",
    "\n",
    "\n"
   ],
   "id": "98e59ee4161bcae7"
  },
  {
   "metadata": {},
   "cell_type": "markdown",
   "source": [
    "#### 리팩토링 과제\n",
    "\n",
    "Day4에서 만든 \"붕어빵 자동 판매 시스템\"은 절차적 코드로 구현되어있습니다.\n",
    "\n",
    "Day5에서 배운 함수, 클래스 개념을 적용시켜 객체지향적으로 리팩토링을 진행해주세요\n"
   ],
   "id": "67f37ce6e75a993b"
  },
  {
   "metadata": {},
   "cell_type": "code",
   "outputs": [],
   "execution_count": null,
   "source": [
    "# 리팩토링 과제 힌트\n",
    "# 구조는 아래와 같습니다.\n",
    "class BungeoppangShop:\n",
    "    def __init__(self):\n",
    "\n",
    "    def check_stock(self):\n",
    "\n",
    "    def process_order(self, bread_type, bread_count):\n",
    "\n",
    "    def admin_mode(self):\n",
    "\n",
    "    def calculate_total_sales(self):\n",
    "\n",
    "def main():\n",
    "\n",
    "if __name__ == \"__main__\":\n",
    "    main()\n"
   ],
   "id": "df837f0bd6943eab"
  },
  {
   "metadata": {},
   "cell_type": "markdown",
   "source": [
    "과제_1: BungeoppangShop 클래스 만들기\n",
    "\n",
    "- __init__: 초기 재고, 가격, 판매량을 설정합니다.\n",
    "- check_stock: 현재 재고를 출력합니다.\n",
    "- process_order: 주문을 처리하고 재고를 업데이트합니다.\n",
    "- admin_mode: 관리자 모드에서 재고를 추가합니다.\n",
    "- calculate_total_sales: 총 매출을 계산하고 출력합니다."
   ],
   "id": "dfaed4045ed8f436"
  },
  {
   "metadata": {
    "ExecuteTime": {
     "end_time": "2024-10-20T08:06:11.570944Z",
     "start_time": "2024-10-20T08:06:11.565948Z"
    }
   },
   "cell_type": "code",
   "outputs": [
    {
     "ename": "IndentationError",
     "evalue": "expected an indented block (3562506632.py, line 4)",
     "output_type": "error",
     "traceback": [
      "\u001B[0;36m  Cell \u001B[0;32mIn[59], line 4\u001B[0;36m\u001B[0m\n\u001B[0;31m    def check_stock(self):\u001B[0m\n\u001B[0m    ^\u001B[0m\n\u001B[0;31mIndentationError\u001B[0m\u001B[0;31m:\u001B[0m expected an indented block\n"
     ]
    }
   ],
   "execution_count": 59,
   "source": [
    "class BungeoppangShop:\n",
    "    def __init__(self):\n",
    "\n",
    "    def check_stock(self):\n",
    "\n",
    "    def process_order(self, bread_type, bread_count):\n",
    "\n",
    "    def admin_mode(self):\n",
    "\n",
    "    def calculate_total_sales(self):\n",
    "        "
   ],
   "id": "227c84e155e5c099"
  },
  {
   "metadata": {},
   "cell_type": "markdown",
   "source": [
    "[과제 2: 초기화 메서드 __init__]\n",
    "\n",
    "목표: __init__ 메서드를 구현하여 붕어빵 가게의 초기 재고, 가격, 판매량을 설정합니다.\n",
    "\n",
    "설명: self.stock, self.prices, self.sales 딕셔너리를 초기화하세요.\n",
    "- stock \n",
    "    - \"팥붕어빵\": 10\n",
    "    - \"슈크림붕어빵\": 8\n",
    "    - \"초코붕어빵\": 5\n",
    "\n",
    "- prices\n",
    "    - \"팥붕어빵\": 1000\n",
    "    - \"슈크림붕어빵\": 1200\n",
    "    - \"초코붕어빵\": 1500\n",
    "\n",
    "- sales\n",
    "    - \"팥붕어빵\": 0,\n",
    "    - \"슈크림붕어빵\": 0,\n",
    "    - \"초코붕어빵\": 0"
   ],
   "id": "2558cccba857d17"
  },
  {
   "metadata": {},
   "cell_type": "code",
   "outputs": [],
   "execution_count": null,
   "source": [
    "class BungeoppangShop:\n",
    "    def __init__(self):\n",
    "        self.stock = {\n",
    "            \"팥붕어빵\": 10,\n",
    "            \"슈크림붕어빵\": 8,\n",
    "            \"초코붕어빵\": 5}\n",
    "        \n",
    "        self.prices = {\n",
    "            \"팥붕어빵\": 1000,\n",
    "            \"슈크림붕어빵\": 1200,\n",
    "            \"초코붕어빵\": 1500\n",
    "        }\n",
    "        \n",
    "        self.sales =  {\n",
    "            \"팥붕어빵\": 0,\n",
    "            \"슈크림붕어빵\": 0,\n",
    "            \"초코붕어빵\": 0 }        \n",
    "        "
   ],
   "id": "ee63dab2484d6326"
  },
  {
   "metadata": {},
   "cell_type": "markdown",
   "source": [
    "[과제 3: 재고 확인 메서드 check_stock]\n",
    "\n",
    "목표: check_stock 함수를 구현하여 현재 붕어빵 재고를 출력합니다.\n",
    "\n",
    "설명: self.stock 딕셔너리를 순회하며 각 붕어빵의 종류와 재고를 출력하세요.\n"
   ],
   "id": "8936316c2b31a576"
  },
  {
   "metadata": {},
   "cell_type": "code",
   "outputs": [],
   "execution_count": null,
   "source": [
    "   def check_stock(self):\n",
    "      print(\"현재 붕어빵 재고: \")\n",
    "      for bread, quantity in self.stock.items():\n",
    "          print(f'{bread}: {quantity}개')\n",
    "          "
   ],
   "id": "f02f492d352233b4"
  },
  {
   "metadata": {},
   "cell_type": "markdown",
   "source": [
    "[과제 4: 주문 처리 메서드 process_order]\n",
    "\n",
    "목표: process_order 함수를 구현하여 손님의 주문을 처리하고 재고를 업데이트합니다.\n",
    "\n",
    "설명: bread_type과 bread_count를 매개변수로 받아, 재고를 확인하고 충분한 경우 재고를 감소시키고 판매량을 증가시킵니다. 재고가 부족하거나 잘못된 붕어빵 종류인 경우 적절한 메시지를 출력하세요."
   ],
   "id": "c0787409e6f1bfae"
  },
  {
   "metadata": {},
   "cell_type": "code",
   "outputs": [],
   "execution_count": 2,
   "source": [
    "    def process_order(self, bread_type, bread_count):\n",
    "        try:\n",
    "            if self.stock[bread_type] >= bread_count:\n",
    "                self.stock[bread_type] -= bread_count\n",
    "                self.sales[bread_type] += bread_count\n",
    "                print(f\"{bread_type} {bread_count}개를 판매했습니다.\")\n",
    "            else:\n",
    "                print(f\"죄송합니다. {bread_type} 재고가 부족합니다.\")\n",
    "        except KeyError:\n",
    "            print(\"존재하지 않는 붕어빵 종류입니다.\")\n",
    "        "
   ],
   "id": "214a8c49ec2e4718"
  },
  {
   "metadata": {},
   "cell_type": "markdown",
   "source": [
    "[과제 5: 관리자 모드 메서드 admin_mode]\n",
    "\n",
    "목표: admin_mode 메서드를 구현하여 관리자 모드에서 재고를 추가할 수 있도록 합니다.\n",
    "\n",
    "설명: bread_type과 additional_stock을 입력받아 재고를 추가합니다. 잘못된 입력 값이 들어온 경우 적절한 메시지를 출력하세요."
   ],
   "id": "d540cd1599fcd13e"
  },
  {
   "metadata": {},
   "cell_type": "code",
   "outputs": [],
   "execution_count": 3,
   "source": [
    "    def admin_mode(self):\n",
    "        while True:\n",
    "            bread_type = input(\"추가할 붕어빵의 종류를 입력하세요. 종료를 원하시면 '종료'를 입력 하세요\")\n",
    "            if bread_type == \"종료\":\n",
    "                break\n",
    "            try: \n",
    "                additional_stock = int(input(\"추가할 붕어빵의 갯수를 입력하세요.\"))\n",
    "                    self.stock[bread] += additional_stock\n",
    "                    print(f\"{bread_type} {additional_stock}개가 재고에 추가되었습니다.\")\n",
    "                    self.check_stock()\n",
    "            except ValueError:\n",
    "                print(\"잘못 입력하였습니다. 숫자를 입력해주세요\")\n",
    "            except KeyError:\n",
    "                print(\"존재하지 않는 붕어빵 종류입니다.\")\n",
    "                \n"
   ],
   "id": "2fca61b949705706"
  },
  {
   "metadata": {},
   "cell_type": "markdown",
   "source": [
    "\n",
    "[과제 6: 매출 계산 메서드 calculate_total_sales]\n",
    "\n",
    "목표: calculate_total_sales 메서드를 구현하여 총 매출을 계산하고 출력합니다.\n",
    "\n",
    "설명: self.sales와 self.prices를 사용하여 총 매출을 계산하고 출력하세요."
   ],
   "id": "57df32ac63c60b49"
  },
  {
   "metadata": {},
   "cell_type": "code",
   "outputs": [],
   "execution_count": null,
   "source": [
    "def calculate_total_sales(self):\n",
    "    total_sales = sum(self.sales[bread] * self.prices[bread] for bread in self.sales)\n",
    "    print(f\"총 매출: {total_sales}원\")\n",
    "    print(\"모든 거래 내역:\")\n",
    "    for bread in self.sales:\n",
    "        print(f\"{bread} 판매: {self.sales[bread]}개, 매출: {self.sales[bread] * self.prices[bread]}원\")\n",
    "\n"
   ],
   "id": "f049469005ac6c4e"
  },
  {
   "metadata": {},
   "cell_type": "markdown",
   "source": [
    "[과제 8: 메인 함수 main]\n",
    "\n",
    "목표: main 함수를 작성하여 프로그램의 주요 로직을 실행합니다.\n",
    "\n",
    "설명:\n",
    "- BungeoppangShop 객체를 생성합니다.\n",
    "- 사용자에게 모드를 선택하도록 요청합니다.\n",
    "- \"주문\" 모드에서는 손님의 주문을 처리하고, \"관리자\" 모드에서는 재고를 추가할 수 있습니다.\n",
    "- 프로그램이 종료될 때 총 매출을 계산하고 데이터를 저장합니다.\n"
   ],
   "id": "ac52b922b27f86c"
  },
  {
   "metadata": {
    "ExecuteTime": {
     "end_time": "2024-10-20T12:31:49.582634Z",
     "start_time": "2024-10-20T12:31:23.147491Z"
    }
   },
   "cell_type": "code",
   "outputs": [
    {
     "name": "stdout",
     "output_type": "stream",
     "text": [
      "슈크림붕어빵 5개가 재고에 추가되었습니다.\n",
      "현재 붕어빵 재고: \n",
      "팥붕어빵: 10개\n",
      "슈크림붕어빵: 13개\n",
      "초코붕어빵: 5개\n",
      "총 매출: 0원\n",
      "모든 거래 내역:\n",
      "팥붕어빵 판매: 0개, 매출: 0원\n",
      "슈크림붕어빵 판매: 0개, 매출: 0원\n",
      "초코붕어빵 판매: 0개, 매출: 0원\n"
     ]
    }
   ],
   "execution_count": 62,
   "source": [
    "class BungeoppangShop:\n",
    "    def __init__(self):\n",
    "        self.stock = {\n",
    "            \"팥붕어빵\": 10,\n",
    "            \"슈크림붕어빵\": 8,\n",
    "            \"초코붕어빵\": 5}\n",
    "        \n",
    "        self.prices = {\n",
    "            \"팥붕어빵\": 1000,\n",
    "            \"슈크림붕어빵\": 1200,\n",
    "            \"초코붕어빵\": 1500\n",
    "        }\n",
    "        \n",
    "        self.sales =  {\n",
    "            \"팥붕어빵\": 0,\n",
    "            \"슈크림붕어빵\": 0,\n",
    "            \"초코붕어빵\": 0 }        \n",
    "        \n",
    "    def check_stock(self):\n",
    "      print(\"현재 붕어빵 재고: \")\n",
    "      for bread, quantity in self.stock.items():\n",
    "          print(f'{bread}: {quantity}개')\n",
    "            \n",
    "    def process_order(self, bread_type, bread_count):\n",
    "        try:\n",
    "            if self.stock[bread_type] >= bread_count:\n",
    "                self.stock[bread_type] -= bread_count\n",
    "                self.sales[bread_type] += bread_count\n",
    "                print(f\"{bread_type} {bread_count}개를 판매했습니다.\")\n",
    "            else:\n",
    "                print(f\"죄송합니다. {bread_type} 재고가 부족합니다.\")\n",
    "        except KeyError:\n",
    "            print(\"존재하지 않는 붕어빵 종류입니다.\")\n",
    "            \n",
    "    def admin_mode(self):\n",
    "        while True:\n",
    "            bread_type = input(\"추가할 붕어빵의 종류를 입력하세요. 종료를 원하시면 '종료'를 입력 하세요\")\n",
    "            if bread_type == \"종료\":\n",
    "                break\n",
    "            try: \n",
    "                additional_stock = int(input(\"추가할 붕어빵의 갯수를 입력하세요.\"))\n",
    "                self.stock[bread_type] += additional_stock\n",
    "                print(f\"{bread_type} {additional_stock}개가 재고에 추가되었습니다.\")\n",
    "                self.check_stock()\n",
    "            except ValueError:\n",
    "                print(\"잘못 입력하였습니다. 숫자를 입력해주세요\")\n",
    "            except KeyError:\n",
    "                print(\"존재하지 않는 붕어빵 종류입니다.\")\n",
    "                \n",
    "                \n",
    "    \n",
    "    def calculate_total_sales(self):\n",
    "        total_sales = sum(self.sales[bread] * self.prices[bread] for bread in self.sales)\n",
    "        print(f\"총 매출: {total_sales}원\")\n",
    "        print(\"모든 거래 내역:\")\n",
    "        for bread in self.sales:\n",
    "            print(f\"{bread} 판매: {self.sales[bread]}개, 매출: {self.sales[bread] * self.prices[bread]}원\")\n",
    "        \n",
    "def main():\n",
    "    shop = BungeoppangShop()\n",
    "    while True:\n",
    "        mode = input(\"원하는 모드를 선택하세요 (주문, 관리자, 종료): \")\n",
    "        \n",
    "        if mode == \"종료\":\n",
    "            break\n",
    "        \n",
    "        if mode == \"관리자\":\n",
    "            shop.admin_mode()\n",
    "            continue\n",
    "        \n",
    "        if mode == \"주문\":\n",
    "            while True:\n",
    "                bread_type = input(\"주문할 붕어빵 종류를 입력하세요 (팥붕어빵, 슈크림붕어빵, 초코붕어빵). 종료를 원하시면 '종료'를 입력하세요: \")\n",
    "                if bread_type == \"종료\":\n",
    "                    break\n",
    "                try:\n",
    "                    bread_count = int(input(\"주문할 붕어빵 개수를 입력하세요: \"))\n",
    "                    shop.process_order(bread_type, bread_count)\n",
    "                except ValueError:\n",
    "                    print(\"잘못된 입력입니다. 숫자를 입력해주세요.\")\n",
    "                \n",
    "                shop.check_stock()\n",
    "\n",
    "    shop.calculate_total_sales()\n",
    "\n",
    "if __name__ == \"__main__\":\n",
    "    main()"
   ],
   "id": "67be81fdb69ccf0"
  }
 ],
 "metadata": {
  "kernelspec": {
   "display_name": "Python 3",
   "language": "python",
   "name": "python3"
  },
  "language_info": {
   "codemirror_mode": {
    "name": "ipython",
    "version": 2
   },
   "file_extension": ".py",
   "mimetype": "text/x-python",
   "name": "python",
   "nbconvert_exporter": "python",
   "pygments_lexer": "ipython2",
   "version": "2.7.6"
  }
 },
 "nbformat": 4,
 "nbformat_minor": 5
}
