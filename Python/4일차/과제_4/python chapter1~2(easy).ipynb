{
 "cells": [
  {
   "metadata": {},
   "cell_type": "markdown",
   "source": "# 파이썬 1~2일차 쪽지시험",
   "id": "5ce5aa2babe14282"
  },
  {
   "metadata": {},
   "cell_type": "markdown",
   "source": [
    "## 문제 1\n",
    "### 오즈코딩스쿨에서 코딩을 처음 시작한 박상훈!\n",
    "### 박상훈에게는 덩치, 애기라는 도마뱀이 있습니다.\n",
    "### 도마뱀의 나이는 각각 1살 2살 입니다.\n",
    "### 각 도마뱀의 이름으로 변수를 선언하고 각 도마뱀의 나이를 할당해주세요!!"
   ],
   "id": "136e2d85abe685b9"
  },
  {
   "metadata": {
    "ExecuteTime": {
     "end_time": "2024-10-17T08:25:47.016963Z",
     "start_time": "2024-10-17T08:25:47.012612Z"
    }
   },
   "cell_type": "code",
   "source": [
    "# 정답 입력\n",
    "\n",
    "lizard= {\"덩치\": 1, \"애기\": 2}\n",
    "type(lizard)\n",
    "\n",
    "# 덩치 = \"1살\"\n",
    "# 애기 = \"2살\""
   ],
   "id": "8e5a1ab9c30b38a7",
   "outputs": [
    {
     "data": {
      "text/plain": [
       "dict"
      ]
     },
     "execution_count": 41,
     "metadata": {},
     "output_type": "execute_result"
    }
   ],
   "execution_count": 41
  },
  {
   "metadata": {},
   "cell_type": "markdown",
   "source": [
    "## 문제 2\n",
    "### 박상훈의 `도마뱀 변수`들을 사용하여 `도마뱀 리스트`를 만들어 주세요!"
   ],
   "id": "94e68ef24ba3e5f7"
  },
  {
   "metadata": {
    "ExecuteTime": {
     "end_time": "2024-10-17T08:26:00.326998Z",
     "start_time": "2024-10-17T08:26:00.323572Z"
    }
   },
   "cell_type": "code",
   "source": [
    "# 정담 입력\n",
    "lizard_list = list(lizard.items())\n",
    "print(lizard_list)"
   ],
   "id": "b8334aff8ce27138",
   "outputs": [
    {
     "name": "stdout",
     "output_type": "stream",
     "text": [
      "[('덩치', 1), ('애기', 2)]\n"
     ]
    }
   ],
   "execution_count": 42
  },
  {
   "metadata": {},
   "cell_type": "markdown",
   "source": [
    "## 문제 3\n",
    "### 박상훈이 도마뱀을 새로 샀어요!\n",
    "### 도마뱀의 이름은 마고, 나이는 2살이에요!\n",
    "### `도마뱀 리스트`에 가장 끝에 추가해주세요!!"
   ],
   "id": "454fe842db180fc"
  },
  {
   "metadata": {
    "ExecuteTime": {
     "end_time": "2024-10-17T08:26:06.411188Z",
     "start_time": "2024-10-17T08:26:06.407674Z"
    }
   },
   "cell_type": "code",
   "source": [
    "# 정답 입력\n",
    "lizard_list.append((\"마고\", 2))\n",
    "lizard_list\n",
    "print(lizard_list)"
   ],
   "id": "3ec1ef1be2927b78",
   "outputs": [
    {
     "name": "stdout",
     "output_type": "stream",
     "text": [
      "[('덩치', 1), ('애기', 2), ('마고', 2)]\n"
     ]
    }
   ],
   "execution_count": 43
  },
  {
   "metadata": {
    "ExecuteTime": {
     "end_time": "2024-10-17T08:27:48.955095Z",
     "start_time": "2024-10-17T08:27:48.951759Z"
    }
   },
   "cell_type": "code",
   "source": [
    "lizard.update(lizard_list)\n",
    "print(lizard)"
   ],
   "id": "d684a49fd41d314",
   "outputs": [
    {
     "name": "stdout",
     "output_type": "stream",
     "text": [
      "{'덩치': 1, '애기': 2, '마고': 2}\n"
     ]
    }
   ],
   "execution_count": 45
  },
  {
   "metadata": {},
   "cell_type": "markdown",
   "source": [
    "## 문제 4\n",
    "### 박상훈의 도마뱀들의 나이를 더해 주세요!!"
   ],
   "id": "20ccbdf20f857d13"
  },
  {
   "metadata": {
    "ExecuteTime": {
     "end_time": "2024-10-17T08:28:04.288266Z",
     "start_time": "2024-10-17T08:28:04.283470Z"
    }
   },
   "cell_type": "code",
   "source": [
    "# 정답 입력\n",
    "\n",
    "sum(lizard.values())\n"
   ],
   "id": "3ebc179d264d3866",
   "outputs": [
    {
     "data": {
      "text/plain": [
       "5"
      ]
     },
     "execution_count": 47,
     "metadata": {},
     "output_type": "execute_result"
    }
   ],
   "execution_count": 47
  },
  {
   "metadata": {},
   "cell_type": "markdown",
   "source": [
    "## 문제 5\n",
    "### 박상훈의 `도마뱀 리스트`를 사용하여 \"사육장\"이라는 딕셔너리를 만들어주세요!"
   ],
   "id": "eea768f4f558a28a"
  },
  {
   "metadata": {
    "ExecuteTime": {
     "end_time": "2024-10-17T08:31:42.796666Z",
     "start_time": "2024-10-17T08:31:42.791787Z"
    }
   },
   "cell_type": "code",
   "source": [
    "# 정답 입력\n",
    "\n",
    "사육장 = lizard\n",
    "사육장"
   ],
   "id": "49874bd7d6ee7c2d",
   "outputs": [
    {
     "data": {
      "text/plain": [
       "{'덩치': 1, '애기': 2, '마고': 2}"
      ]
     },
     "execution_count": 51,
     "metadata": {},
     "output_type": "execute_result"
    }
   ],
   "execution_count": 51
  },
  {
   "metadata": {},
   "cell_type": "markdown",
   "source": [
    "## 문제 6\n",
    "### 사육장 딕셔너리를 `key, value` 형태로 출력해주세요!"
   ],
   "id": "a7b973b398f00642"
  },
  {
   "metadata": {
    "ExecuteTime": {
     "end_time": "2024-10-17T08:32:31.716602Z",
     "start_time": "2024-10-17T08:32:31.712976Z"
    }
   },
   "cell_type": "code",
   "source": [
    "# 정답 입력\n",
    "\n",
    "print(사육장.keys())\n",
    "print(사육장.values())"
   ],
   "id": "94544cb2f847228f",
   "outputs": [
    {
     "name": "stdout",
     "output_type": "stream",
     "text": [
      "dict_keys(['덩치', '애기', '마고'])\n",
      "dict_values([1, 2, 2])\n"
     ]
    }
   ],
   "execution_count": 52
  },
  {
   "metadata": {},
   "cell_type": "markdown",
   "source": "",
   "id": "fec443543704aada"
  },
  {
   "metadata": {},
   "cell_type": "markdown",
   "source": [
    "## 문제 7\n",
    "### 도마뱀들의 나이를 `실수형태`로 출력해주세요!"
   ],
   "id": "a9aa1a28e60e6bf8"
  },
  {
   "metadata": {
    "ExecuteTime": {
     "end_time": "2024-10-17T08:34:12.036827Z",
     "start_time": "2024-10-17T08:34:12.033387Z"
    }
   },
   "cell_type": "code",
   "source": [
    "# 정답 입력\n",
    "print(사육장.values())\n",
    "\n"
   ],
   "id": "2183407c40686977",
   "outputs": [
    {
     "name": "stdout",
     "output_type": "stream",
     "text": [
      "dict_values([1, 2, 2])\n"
     ]
    }
   ],
   "execution_count": 54
  },
  {
   "metadata": {},
   "cell_type": "markdown",
   "source": [
    "## 문제 8\n",
    "### 1년이 지났습니다.\n",
    "### 도마뱀들이 1살씩 나이를 먹었어요\n",
    "### 도마뱀들의 나이를 바꿔주세요!"
   ],
   "id": "43428aabdee55513"
  },
  {
   "metadata": {
    "ExecuteTime": {
     "end_time": "2024-10-17T08:40:48.350767Z",
     "start_time": "2024-10-17T08:40:48.346098Z"
    }
   },
   "cell_type": "code",
   "source": [
    "# 정답 입력\n",
    "\n",
    "for key in 사육장:\n",
    "    사육장[key] += 1\n",
    "\n",
    "print(사육장)\n"
   ],
   "id": "286dc862809e7e80",
   "outputs": [
    {
     "name": "stdout",
     "output_type": "stream",
     "text": [
      "{'덩치': 2, '애기': 3, '마고': 3}\n"
     ]
    }
   ],
   "execution_count": 56
  },
  {
   "metadata": {},
   "cell_type": "markdown",
   "source": [
    "## 문제 9\n",
    "### n년이 지났을 때 도마뱀의 나이가 알고 싶어 졌어요!!\n",
    "### `input` 을 이용해서 n년차 도마뱀들의 나이를 출력해주세요!"
   ],
   "id": "ed5d1e1503e37223"
  },
  {
   "metadata": {
    "ExecuteTime": {
     "end_time": "2024-10-17T08:44:35.531685Z",
     "start_time": "2024-10-17T08:44:32.624999Z"
    }
   },
   "cell_type": "code",
   "source": [
    "# 정답 입력\n",
    "\n",
    "year = int(input(\"몇 년이 지났을까요?\"))\n",
    "\n",
    "for key in 사육장:\n",
    "    사육장[key] += year\n",
    "\n",
    "print(사육장)\n",
    "\n"
   ],
   "id": "7a8db95dd6192d42",
   "outputs": [
    {
     "name": "stdout",
     "output_type": "stream",
     "text": [
      "{'덩치': 2, '애기': 3, '마고': 3}\n"
     ]
    }
   ],
   "execution_count": 59
  },
  {
   "metadata": {},
   "cell_type": "markdown",
   "source": [
    "## 문제 10\n",
    "### 5년이 지났습니다\n",
    "### 우리 도마뱀들이 너무 커서 사육장을 분리해야해요!\n",
    "### 딕셔너리로 나누었던 것을 사육장1, 2, 3 `리스트`로 변경하고\n",
    "### 각 도마뱀들을 넣어주세요!"
   ],
   "id": "3e3fd38bd44d9b2e"
  },
  {
   "metadata": {
    "ExecuteTime": {
     "end_time": "2024-10-17T08:50:25.697757Z",
     "start_time": "2024-10-17T08:50:25.693183Z"
    }
   },
   "cell_type": "code",
   "source": [
    "# 정답 입력\n",
    "\n",
    "for key in 사육장:\n",
    "    사육장[key] += 5\n",
    "\n",
    "\n",
    "사육장_리스트 = list(사육장.items())\n",
    "print(사육장_리스트)\n",
    "\n",
    "사육장1 = list(사육장_리스트[0])\n",
    "print(사육장1)\n",
    "\n",
    "사육장2 = list(사육장_리스트[1])\n",
    "print(사육장2)\n",
    "\n",
    "사육장3 = list(사육장_리스트[2])\n",
    "print(사육장3)\n",
    "\n"
   ],
   "id": "95ad0c7878164214",
   "outputs": [
    {
     "name": "stdout",
     "output_type": "stream",
     "text": [
      "[('덩치', 27), ('애기', 28), ('마고', 28)]\n",
      "['덩치', 27]\n",
      "['애기', 28]\n",
      "['마고', 28]\n"
     ]
    }
   ],
   "execution_count": 67
  },
  {
   "metadata": {},
   "cell_type": "markdown",
   "source": "",
   "id": "e9add10bf3ea4774"
  }
 ],
 "metadata": {
  "kernelspec": {
   "display_name": "Python 3",
   "language": "python",
   "name": "python3"
  },
  "language_info": {
   "codemirror_mode": {
    "name": "ipython",
    "version": 2
   },
   "file_extension": ".py",
   "mimetype": "text/x-python",
   "name": "python",
   "nbconvert_exporter": "python",
   "pygments_lexer": "ipython2",
   "version": "2.7.6"
  }
 },
 "nbformat": 4,
 "nbformat_minor": 5
}
