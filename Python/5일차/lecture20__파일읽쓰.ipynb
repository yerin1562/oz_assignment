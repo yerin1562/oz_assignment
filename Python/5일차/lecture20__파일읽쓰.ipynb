{
 "nbformat": 4,
 "nbformat_minor": 0,
 "metadata": {
  "colab": {
   "provenance": [],
   "mount_file_id": "1g7QDN3OaTyGiqEjPDuVRYScQ2XI1-W2v",
   "authorship_tag": "ABX9TyMuHVjdBMdRvMi4ca9LB6lX"
  },
  "kernelspec": {
   "name": "python3",
   "display_name": "Python 3 (ipykernel)",
   "language": "python"
  },
  "language_info": {
   "name": "python"
  }
 },
 "cells": [
  {
   "cell_type": "markdown",
   "source": [
    "##파일 입출력\n",
    "\n",
    "# 웹 -> 크롤링 -> 데이터베이스 -> 1차 클렌징 -> 출력 후 담당자에 전달합니다. -> 2차 클렌징 -> 유용한 데이터셋 -> csv 데이터베이스 입력 -> 인공지능 학습"
   ],
   "metadata": {
    "id": "iDKAbNfaJEZW"
   }
  },
  {
   "metadata": {},
   "cell_type": "code",
   "outputs": [],
   "execution_count": null,
   "source": ""
  },
  {
   "cell_type": "code",
   "metadata": {
    "colab": {
     "base_uri": "https://localhost:8080/",
     "height": 35
    },
    "id": "GFKpnQudob-W",
    "executionInfo": {
     "status": "ok",
     "timestamp": 1702370053957,
     "user_tz": -540,
     "elapsed": 337,
     "user": {
      "displayName": "양성훈",
      "userId": "00292789611186659621"
     }
    },
    "outputId": "11e91482-ce79-4e53-e097-d2054d45dcfb",
    "ExecuteTime": {
     "end_time": "2024-10-18T06:14:47.351290Z",
     "start_time": "2024-10-18T06:14:47.339164Z"
    }
   },
   "source": [
    "pwd"
   ],
   "outputs": [
    {
     "data": {
      "text/plain": [
       "'/Users/mac/Desktop/oz_assignment/Python/5일차'"
      ]
     },
     "execution_count": 1,
     "metadata": {},
     "output_type": "execute_result"
    }
   ],
   "execution_count": 1
  },
  {
   "metadata": {
    "ExecuteTime": {
     "end_time": "2024-10-18T06:18:24.028040Z",
     "start_time": "2024-10-18T06:18:24.025487Z"
    }
   },
   "cell_type": "code",
   "source": "\n",
   "outputs": [],
   "execution_count": 6
  },
  {
   "cell_type": "markdown",
   "source": [
    "r - 읽기  \n",
    "w - 쓰기(주의 :덮어쓰기)  \n",
    "a - 추가  "
   ],
   "metadata": {
    "id": "Xr5X67SvKnLH"
   }
  },
  {
   "cell_type": "code",
   "source": [
    "f = open('test.txt','w')\n",
    "f.write('개발자 여러분 이 지식을 통해 블로그를 만들겠어요.')\n",
    "f.close()"
   ],
   "metadata": {
    "id": "6FUgNY8JKwVV",
    "executionInfo": {
     "status": "ok",
     "timestamp": 1702370268098,
     "user_tz": -540,
     "elapsed": 4,
     "user": {
      "displayName": "양성훈",
      "userId": "00292789611186659621"
     }
    },
    "ExecuteTime": {
     "end_time": "2024-10-18T06:17:14.692804Z",
     "start_time": "2024-10-18T06:17:14.687420Z"
    }
   },
   "outputs": [],
   "execution_count": 3
  },
  {
   "cell_type": "code",
   "source": [
    "f = open('test.txt','w')\n",
    "f.write('개발자 여러분')\n",
    "f.close()"
   ],
   "metadata": {
    "id": "0SBxMr8YLQw6",
    "executionInfo": {
     "status": "ok",
     "timestamp": 1702370297711,
     "user_tz": -540,
     "elapsed": 487,
     "user": {
      "displayName": "양성훈",
      "userId": "00292789611186659621"
     }
    },
    "ExecuteTime": {
     "end_time": "2024-10-18T06:18:51.509404Z",
     "start_time": "2024-10-18T06:18:51.503999Z"
    }
   },
   "outputs": [],
   "execution_count": 7
  },
  {
   "cell_type": "code",
   "source": [
    "f = open('test.txt','w')\n",
    "f.write('''개발자 여러분 개발자 여러분\n",
    "개발자 여러분\n",
    "개발자 여러분\n",
    "개발자 여러분\n",
    "개발자 여러분\n",
    "''')\n",
    "f.close()"
   ],
   "metadata": {
    "id": "bC1bKYTKLYRd",
    "executionInfo": {
     "status": "ok",
     "timestamp": 1702370348483,
     "user_tz": -540,
     "elapsed": 427,
     "user": {
      "displayName": "양성훈",
      "userId": "00292789611186659621"
     }
    },
    "ExecuteTime": {
     "end_time": "2024-10-18T06:19:41.521910Z",
     "start_time": "2024-10-18T06:19:41.518415Z"
    }
   },
   "outputs": [],
   "execution_count": 10
  },
  {
   "cell_type": "code",
   "source": [
    "f = open('test.txt','w')\n",
    "메시지 = ''\n",
    "\n",
    "for i in range(10):\n",
    "    메시지 += \"개발자 여러분\\n\"\n",
    "f.write(메시지)\n",
    "f.close()"
   ],
   "metadata": {
    "id": "-ZHqHuSLLjYX",
    "executionInfo": {
     "status": "ok",
     "timestamp": 1702370483889,
     "user_tz": -540,
     "elapsed": 301,
     "user": {
      "displayName": "양성훈",
      "userId": "00292789611186659621"
     }
    }
   },
   "execution_count": 10,
   "outputs": []
  },
  {
   "cell_type": "code",
   "source": [
    "f = open('test.txt', 'r')\n",
    "s = f.read() #저장\n",
    "print(s)\n",
    "f.close()"
   ],
   "metadata": {
    "colab": {
     "base_uri": "https://localhost:8080/"
    },
    "id": "Tz_BYi53MFbg",
    "executionInfo": {
     "status": "ok",
     "timestamp": 1702370590484,
     "user_tz": -540,
     "elapsed": 4,
     "user": {
      "displayName": "양성훈",
      "userId": "00292789611186659621"
     }
    },
    "outputId": "045d0a88-fed5-4a61-c011-c920b3e41b94"
   },
   "execution_count": 12,
   "outputs": [
    {
     "output_type": "stream",
     "name": "stdout",
     "text": [
      "개발자 여러분\n",
      "개발자 여러분\n",
      "개발자 여러분\n",
      "개발자 여러분\n",
      "개발자 여러분\n",
      "개발자 여러분\n",
      "개발자 여러분\n",
      "개발자 여러분\n",
      "개발자 여러분\n",
      "개발자 여러분\n",
      "\n"
     ]
    }
   ]
  },
  {
   "metadata": {},
   "cell_type": "code",
   "outputs": [],
   "execution_count": null,
   "source": ""
  },
  {
   "cell_type": "code",
   "source": [
    "f = open('test.txt', 'r')\n",
    "line = f.readline()\n",
    "print(line)\n",
    "print(type(line))\n",
    "f.close()"
   ],
   "metadata": {
    "colab": {
     "base_uri": "https://localhost:8080/"
    },
    "id": "e9nOhOw8MdWC",
    "executionInfo": {
     "status": "ok",
     "timestamp": 1702370645982,
     "user_tz": -540,
     "elapsed": 7,
     "user": {
      "displayName": "양성훈",
      "userId": "00292789611186659621"
     }
    },
    "outputId": "290dbdef-347a-4488-b09e-24725b5e2f9e"
   },
   "execution_count": 15,
   "outputs": [
    {
     "output_type": "stream",
     "name": "stdout",
     "text": [
      "개발자 여러분\n",
      "\n",
      "<class 'str'>\n"
     ]
    }
   ]
  },
  {
   "metadata": {},
   "cell_type": "code",
   "outputs": [],
   "execution_count": null,
   "source": ""
  },
  {
   "cell_type": "code",
   "source": [
    "f = open('test.txt', 'r')\n",
    "while line:\n",
    "    line = f.readline()\n",
    "    print(line)\n",
    "f.close()"
   ],
   "metadata": {
    "colab": {
     "base_uri": "https://localhost:8080/"
    },
    "id": "jt0dHHxjMrF-",
    "executionInfo": {
     "status": "ok",
     "timestamp": 1702370774770,
     "user_tz": -540,
     "elapsed": 404,
     "user": {
      "displayName": "양성훈",
      "userId": "00292789611186659621"
     }
    },
    "outputId": "fefb8de3-242a-47b5-b005-b97bd8702ef3"
   },
   "execution_count": 16,
   "outputs": [
    {
     "output_type": "stream",
     "name": "stdout",
     "text": [
      "개발자 여러분\n",
      "\n",
      "개발자 여러분\n",
      "\n",
      "개발자 여러분\n",
      "\n",
      "개발자 여러분\n",
      "\n",
      "개발자 여러분\n",
      "\n",
      "개발자 여러분\n",
      "\n",
      "개발자 여러분\n",
      "\n",
      "개발자 여러분\n",
      "\n",
      "개발자 여러분\n",
      "\n",
      "개발자 여러분\n",
      "\n",
      "\n"
     ]
    }
   ]
  },
  {
   "cell_type": "code",
   "source": [
    "f = open('test.txt', 'a')\n",
    "f.write(\"힘내자\")\n",
    "f.close()"
   ],
   "metadata": {
    "id": "vwdbM7qoNMv8",
    "executionInfo": {
     "status": "ok",
     "timestamp": 1702370849321,
     "user_tz": -540,
     "elapsed": 334,
     "user": {
      "displayName": "양성훈",
      "userId": "00292789611186659621"
     }
    }
   },
   "execution_count": 18,
   "outputs": []
  },
  {
   "cell_type": "code",
   "source": [
    "with open('test.txt', 'a') as f:\n",
    "    f.write('힘내자 !!!!')"
   ],
   "metadata": {
    "id": "S6Nct5naNdlK",
    "executionInfo": {
     "status": "ok",
     "timestamp": 1702370960498,
     "user_tz": -540,
     "elapsed": 305,
     "user": {
      "displayName": "양성훈",
      "userId": "00292789611186659621"
     }
    }
   },
   "execution_count": 19,
   "outputs": []
  },
  {
   "cell_type": "code",
   "source": [
    "list = [10, 20, 30]\n",
    "\n",
    "with open('test.txt', 'w') as f:\n",
    "    f.write(str(list))"
   ],
   "metadata": {
    "id": "qlw_qB1JN41m",
    "executionInfo": {
     "status": "ok",
     "timestamp": 1702371048402,
     "user_tz": -540,
     "elapsed": 5,
     "user": {
      "displayName": "양성훈",
      "userId": "00292789611186659621"
     }
    }
   },
   "execution_count": 22,
   "outputs": []
  },
  {
   "cell_type": "code",
   "source": [
    "list = [10, 20, 30]\n",
    "with open('test.txt', 'w') as f:\n",
    "    f.write('let test =' + str(list))"
   ],
   "metadata": {
    "id": "BDmcR43jOPo1",
    "executionInfo": {
     "status": "ok",
     "timestamp": 1702371180554,
     "user_tz": -540,
     "elapsed": 1,
     "user": {
      "displayName": "양성훈",
      "userId": "00292789611186659621"
     }
    }
   },
   "execution_count": 24,
   "outputs": []
  },
  {
   "cell_type": "code",
   "source": [
    "list = ['10', '20', '30']\n",
    "with open('test.txt', 'w') as f:\n",
    "    f.writelines(list)"
   ],
   "metadata": {
    "id": "jL6RMcAzO0Ac",
    "executionInfo": {
     "status": "ok",
     "timestamp": 1702371280198,
     "user_tz": -540,
     "elapsed": 314,
     "user": {
      "displayName": "양성훈",
      "userId": "00292789611186659621"
     }
    }
   },
   "execution_count": 26,
   "outputs": []
  },
  {
   "cell_type": "code",
   "source": [
    "#csv\n",
    "list = ['10', '20', '30']\n",
    "\n",
    "with open('test3.csv', 'w') as f:\n",
    "    f.write(','.join(list))"
   ],
   "metadata": {
    "id": "JmQQQlFLPJAk",
    "executionInfo": {
     "status": "ok",
     "timestamp": 1702371406506,
     "user_tz": -540,
     "elapsed": 2,
     "user": {
      "displayName": "양성훈",
      "userId": "00292789611186659621"
     }
    }
   },
   "execution_count": 29,
   "outputs": []
  }
 ]
}
