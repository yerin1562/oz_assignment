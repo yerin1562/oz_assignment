{
 "cells": [
  {
   "cell_type": "markdown",
   "metadata": {},
   "source": [
    "사용자로부터 이름과 나이를 입력 받아, \"안녕하세요, [이름]님! 당신은 [나이]살입니다.\"라고 출력하는 함수 greet_user를 작성하세요."
   ]
  },
  {
   "cell_type": "markdown",
   "metadata": {},
   "source": []
  },
  {
   "metadata": {
    "ExecuteTime": {
     "end_time": "2024-10-21T11:16:09.029002Z",
     "start_time": "2024-10-21T11:16:09.020085Z"
    }
   },
   "cell_type": "code",
   "source": [
    "def greet_user(name, age):\n",
    "    print(f\"안녕하세요, {name}님! 당신은 {age}살입니다. 우하하\")\n",
    "    \n",
    "greet_user(\"yerin\", 24)"
   ],
   "outputs": [
    {
     "name": "stdout",
     "output_type": "stream",
     "text": [
      "안녕하세요, yerin님! 당신은 24살입니다. 우하하\n"
     ]
    }
   ],
   "execution_count": 1
  }
 ],
 "metadata": {
  "language_info": {
   "name": "python"
  },
  "kernelspec": {
   "name": "python3",
   "language": "python",
   "display_name": "Python 3 (ipykernel)"
  }
 },
 "nbformat": 4,
 "nbformat_minor": 2
}
