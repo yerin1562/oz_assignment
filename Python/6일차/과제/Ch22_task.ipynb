{
 "cells": [
  {
   "cell_type": "markdown",
   "metadata": {},
   "source": [
    "여러 숫자를 입력받아 그 합계를 반환하는 함수 sum_numbers를 작성하세요. 이 때, 가변 매개변수를 사용하세요."
   ]
  },
  {
   "cell_type": "markdown",
   "metadata": {},
   "source": ""
  },
  {
   "metadata": {
    "ExecuteTime": {
     "end_time": "2024-10-21T11:30:02.370473Z",
     "start_time": "2024-10-21T11:30:02.365669Z"
    }
   },
   "cell_type": "code",
   "source": [
    "def sum_numbers(*numbers):\n",
    "    total = sum(numbers)  # numbers의 합계를 구함\n",
    "    print(f\"숫자들의 합은 {total}입니다.\")\n",
    "\n",
    "sum_numbers(1, 2, 3, 4, 5)\n",
    "sum_numbers(4, 5, 6, 7, 8)\n",
    "\n",
    "# total 변수 입력\n",
    "# print 로 출력\n"
   ],
   "outputs": [
    {
     "name": "stdout",
     "output_type": "stream",
     "text": [
      "숫자들의 합은 15입니다.\n",
      "숫자들의 합은 30입니다.\n"
     ]
    }
   ],
   "execution_count": 15
  }
 ],
 "metadata": {
  "language_info": {
   "name": "python"
  },
  "kernelspec": {
   "name": "python3",
   "language": "python",
   "display_name": "Python 3 (ipykernel)"
  }
 },
 "nbformat": 4,
 "nbformat_minor": 2
}
