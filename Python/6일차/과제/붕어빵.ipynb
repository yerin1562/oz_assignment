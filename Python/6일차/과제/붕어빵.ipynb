{
 "cells": [
  {
   "metadata": {},
   "cell_type": "markdown",
   "source": "",
   "id": "32333ce734d75acf"
  },
  {
   "metadata": {},
   "cell_type": "markdown",
   "source": [
    "[문제 6: 매출 확인]\n",
    "붕어빵 판매 가격을 설정하고, 판매한 붕어빵의 매출을 계산하세요.\n",
    "요구사항:\n",
    "- 각 붕어빵의 가격을 딕셔너리로 관리합니다.\n",
    "- 판매된 붕어빵의 종류와 개수를 딕셔너리로 관 리합니다.\n",
    "- 총 매출을 계산하여 출력합니다.\n",
    "초기 설정:\n",
    "- 가격\n",
    "-\"팥붕어빵\": 1000\n",
    "-\"슈크림붕어빵\" : 1200\n",
    "-\"초코붕어빵\" : 1500\n",
    "- 판매 개수\n",
    "- \"팥붕어빵\": 0\n",
    "-\"슈크림붕어빵\": 0\n",
    "-\"초코붕어빵\": 0"
   ],
   "id": "689b9f02069f1f22"
  },
  {
   "metadata": {
    "ExecuteTime": {
     "end_time": "2024-10-21T10:27:03.154534Z",
     "start_time": "2024-10-21T10:26:00.774974Z"
    }
   },
   "cell_type": "code",
   "source": [
    "stock = {\n",
    "    \"팥붕어빵\" : 10,\n",
    "    \"슈크림붕어빵\" : 8,\n",
    "    \"초코붕어빵\" : 5\n",
    "}\n",
    "price = {\n",
    "    \"팥붕어빵\" : 1000,\n",
    "    \"슈크림붕어빵\" : 1200,\n",
    "    \"초코붕어빵\" : 1500\n",
    "}\n",
    "\n",
    "sales = {\n",
    "    \"팥붕어빵\" : 0,\n",
    "    \"슈크림붕어빵\" : 0,\n",
    "    \"초코붕어빵\" : 0\n",
    "}\n",
    "\n",
    "while True:\n",
    "    mode = input (\"원하는 모드를 선택해주세요 (주문, 관리자, 종료) : \")\n",
    "    if mode == \"종료\" :\n",
    "        break\n",
    "    if mode == \"주문\":\n",
    "        while True:\n",
    "            bread_type = input (\"붕어빵 종류를 입력해주세요 (팥붕어빵, 슈크림붕어빵, 초코붕어빵 중 하나를 선택해주세요) 뒤로 돌아가길 원하시면 돌아가기를 입력해주세요 : \")    \n",
    "            if bread_type == \"돌아가기\": # bread_type에는 초코붕어빵\n",
    "                break\n",
    "                \n",
    "            bread_count = int(input (\"주문할 붕어빵 개수를 입력해주세요: \")) #str 3\", 3' int() 함수 = 특정 기능이 작동되도록 모아놓은 코드다=> 자료형을 숫자로 형태의 자료로 만드는 기능의 함수\n",
    "            if stock[bread_type] >= bread_count:\n",
    "                stock[bread_type] -= bread_count #stock[\"초코붕어빵\"] = 5-3\n",
    "                sales[bread_type] += bread_count\n",
    "                print(f\"{bread_type} {bread_count}개를 판매했습니다.\")\n",
    "            else:\n",
    "                print (\"현재 주문한 붕어빵의 개수보다 적어 판매가 불가합니다. \" )\n",
    "    if mode == \"관리자\" :\n",
    "        while True:\n",
    "            bread_type = input (\"추가할 붕어빵 종류를 입력해주세요 (팥붕어빵, 슈크림 붕어빵, 초코붕어빵 중 하나를 선택해주세요) 뒤로 돌아가길 원하시면 돌아가기를 입력해주세요 :\")\n",
    "            if bread_type == \"돌아가기\": # bread_type에는 초코붕어빵\n",
    "                break\n",
    "            bread_count = int(input (\"추가할 붕어빵 개수를 입력하세요: \"))\n",
    "            stock[bread_type] += bread_count #stock[\"초코붕어빵\"] 5 + bread-count 10=> 15=> stock[\"초코 붕어빵\"] = 15 덮어씌우기\n",
    "            print(f\" {bread_type} 재고가 {bread_count}개 추가되었습니다. \")\n",
    "            \n",
    "  \n",
    "def bp_total_sales(sales, price):\n",
    "    total_sales = sum(sales[bread_type] * price[bread_type] for bread_type in sales)\n",
    "    print(f\"총 매출: {total_sales}원\")\n",
    "    print(\"모든 거래 내역:\")\n",
    "    \n",
    "    for bread_type, bread_count in sales.items():\n",
    "        total_revenue = price[bread_type] * bread_count  # 총 매출은 가격 * 판매 갯수\n",
    "        print(f\"{bread_type} 판매: {bread_count}개, 매출: {total_revenue}원\")\n",
    "        \n",
    "bp_total_sales(sales, price)\n",
    "\n"
   ],
   "id": "4d66fe24121c6970",
   "outputs": [
    {
     "name": "stdout",
     "output_type": "stream",
     "text": [
      "팥붕어빵 7개를 판매했습니다.\n",
      "슈크림붕어빵 3개를 판매했습니다.\n",
      "초코붕어빵 1개를 판매했습니다.\n",
      " 팥붕어빵 재고가 12개 추가되었습니다. \n",
      "총 매출: 12100원\n",
      "모든 거래 내역:\n",
      "팥붕어빵 판매: 7개, 매출: 7000원\n",
      "슈크림붕어빵 판매: 3개, 매출: 3600원\n",
      "초코붕어빵 판매: 1개, 매출: 1500원\n"
     ]
    }
   ],
   "execution_count": 8
  }
 ],
 "metadata": {
  "kernelspec": {
   "display_name": "Python 3",
   "language": "python",
   "name": "python3"
  },
  "language_info": {
   "codemirror_mode": {
    "name": "ipython",
    "version": 2
   },
   "file_extension": ".py",
   "mimetype": "text/x-python",
   "name": "python",
   "nbconvert_exporter": "python",
   "pygments_lexer": "ipython2",
   "version": "2.7.6"
  }
 },
 "nbformat": 4,
 "nbformat_minor": 5
}
